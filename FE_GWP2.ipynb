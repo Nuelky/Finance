{
  "nbformat": 4,
  "nbformat_minor": 0,
  "metadata": {
    "colab": {
      "provenance": [],
      "authorship_tag": "ABX9TyM0PHM8F0Pr2NDnVjI32xWV",
      "include_colab_link": true
    },
    "kernelspec": {
      "name": "python3",
      "display_name": "Python 3"
    },
    "language_info": {
      "name": "python"
    }
  },
  "cells": [
    {
      "cell_type": "markdown",
      "metadata": {
        "id": "view-in-github",
        "colab_type": "text"
      },
      "source": [
        "<a href=\"https://colab.research.google.com/github/Nuelky/FE/blob/main/FE_GWP2.ipynb\" target=\"_parent\"><img src=\"https://colab.research.google.com/assets/colab-badge.svg\" alt=\"Open In Colab\"/></a>"
      ]
    },
    {
      "cell_type": "markdown",
      "source": [
        "### 1. Definition\n",
        "\n",
        "Heteroskedasticity occurs in regression analysis when the variance of the errors in a regression model is not constant across observations (Knaub 2007). This means that there are periods of unstable variance.\n",
        "\n",
        "This can be expressed as:\n",
        "\n",
        "$$ \\text{Var}(\\epsilon_i) = \\sigma_i^2 $$\n",
        "\n",
        "where $$ \\sigma_i^2 $$ varies across $$ i $$\n",
        "\n",
        "\n",
        "### 2. Description\n",
        "\n",
        "To better describe heteroskedasticity, it is a situation where the variability of the residuals (errors) is inconsistent over time across levels of an independent variable.  This means that, instead of the residual having a constant spread, their variance changes depending on the range of the independent variable. (Knaub, 2007). In ordinary least square regression, one of its important assumptions is constant variances of errors. When this assumption is violated, the model is unable to provide accurate and reliable estimates. This in turn affects hypothesis testing.\n",
        "\n",
        "\n",
        "### 3. Demonstration\n",
        "\n",
        "To demonstrate the challenges of heteroskedasticity, we will use simulated data where the errors variance is not constant. Here, the variance of the errors will increase as the independent variable increases. This data would give us insight on heteroskedasticity affects regression analysis and why it is important to detect and address it."
      ],
      "metadata": {
        "id": "wtXMbdYzVyZR"
      }
    },
    {
      "cell_type": "code",
      "source": [
        "import numpy as np\n",
        "import pandas as pd\n",
        "import matplotlib.pyplot as plt\n",
        "import statsmodels.api as sm\n",
        "\n",
        "# Simulating heteroskedastic data\n",
        "np.random.seed(42)\n",
        "n = 100\n",
        "X = np.random.rand(n)\n",
        "error = np.random.randn(n) * (1 + X * 10)  # Heteroskedastic errors\n",
        "Y = 2 * X + 5 + error\n",
        "\n",
        "data = pd.DataFrame({'X': X, 'Y': Y})\n",
        "sm.add_constant(data['X'])\n",
        "\n",
        "model = sm.OLS(data['Y'], sm.add_constant(data['X'])).fit()\n",
        "print(model.summary())\n"
      ],
      "metadata": {
        "colab": {
          "base_uri": "https://localhost:8080/"
        },
        "id": "x5nLcDm4Wqqj",
        "outputId": "67f6aace-adcb-4ee8-db4b-c7639f915604"
      },
      "execution_count": null,
      "outputs": [
        {
          "output_type": "stream",
          "name": "stdout",
          "text": [
            "                            OLS Regression Results                            \n",
            "==============================================================================\n",
            "Dep. Variable:                      Y   R-squared:                       0.001\n",
            "Model:                            OLS   Adj. R-squared:                 -0.009\n",
            "Method:                 Least Squares   F-statistic:                    0.1174\n",
            "Date:                Mon, 09 Sep 2024   Prob (F-statistic):              0.733\n",
            "Time:                        19:55:29   Log-Likelihood:                -314.78\n",
            "No. Observations:                 100   AIC:                             633.6\n",
            "Df Residuals:                      98   BIC:                             638.8\n",
            "Df Model:                           1                                         \n",
            "Covariance Type:            nonrobust                                         \n",
            "==============================================================================\n",
            "                 coef    std err          t      P>|t|      [0.025      0.975]\n",
            "------------------------------------------------------------------------------\n",
            "const          5.2215      1.068      4.888      0.000       3.101       7.342\n",
            "X              0.6590      1.923      0.343      0.733      -3.157       4.475\n",
            "==============================================================================\n",
            "Omnibus:                        9.424   Durbin-Watson:                   2.147\n",
            "Prob(Omnibus):                  0.009   Jarque-Bera (JB):               19.043\n",
            "Skew:                           0.230   Prob(JB):                     7.32e-05\n",
            "Kurtosis:                       5.088   Cond. No.                         4.18\n",
            "==============================================================================\n",
            "\n",
            "Notes:\n",
            "[1] Standard Errors assume that the covariance matrix of the errors is correctly specified.\n"
          ]
        }
      ]
    },
    {
      "cell_type": "markdown",
      "source": [
        "###4. Diagram\n",
        "\n",
        "In the diagram displayed below, it shows the residual plot with a fan shaped pattern.  As the value of independent variable (X) increase, the spread of the residual also increases. This a clear visual of heteroskedasticity. Such a pattern shows that the variance of the residuals is not constant. This reaffirms the presence of heteroskedasticity in our model."
      ],
      "metadata": {
        "id": "WzMtwWeHWxf7"
      }
    },
    {
      "cell_type": "code",
      "source": [
        "plt.scatter(data['X'], model.resid)\n",
        "plt.axhline(0, color='red', linestyle='--')\n",
        "plt.xlabel('X')\n",
        "plt.ylabel('Residuals')\n",
        "plt.title('Residuals vs Independent Variable (X)')\n",
        "plt.show()\n"
      ],
      "metadata": {
        "colab": {
          "base_uri": "https://localhost:8080/",
          "height": 472
        },
        "id": "bAg0-_vpW0LT",
        "outputId": "bb0ad8ab-617e-4cc3-f029-2f9a80904e12"
      },
      "execution_count": null,
      "outputs": [
        {
          "output_type": "display_data",
          "data": {
            "text/plain": [
              "<Figure size 640x480 with 1 Axes>"
            ],
            "image/png": "[encoded data removed]"
          },
          "metadata": {}
        }
      ]
    },
    {
      "cell_type": "markdown",
      "source": [
        "###5. Diagnosis\n",
        "\n",
        "To test for heteroskedasticity, we use two standard techniques.\n",
        "- Breusch-pagan Test\n",
        "-\tWhite Test\n",
        "In our case, the Breusch-Pagan test has a p-value of 8.697e-05, while the White test showed a p-value of 0.00039. Both p-values are significantly below the common threshold of 0.05, which allows us to confidently reject the null hypothesis of constant variance. Therefore, we can confirm the presence of heteroskedasticity in our model, meaning the assumption of homoscedasticity has been violated.\n"
      ],
      "metadata": {
        "id": "jITFzpsWXDON"
      }
    },
    {
      "cell_type": "code",
      "source": [
        "from statsmodels.stats.diagnostic import het_breuschpagan\n",
        "test = het_breuschpagan(model.resid, sm.add_constant(data['X']))\n",
        "print('Breusch-Pagan Test: p-value =', test[1])\n",
        "from statsmodels.stats.diagnostic import het_white\n",
        "white_test = het_white(model.resid, sm.add_constant(data['X']))\n",
        "print('White Test: p-value =', white_test[1])\n"
      ],
      "metadata": {
        "colab": {
          "base_uri": "https://localhost:8080/"
        },
        "id": "Tp5TIwqTXNf9",
        "outputId": "2e231b08-eec9-4f51-b986-23a3a9cef21c"
      },
      "execution_count": null,
      "outputs": [
        {
          "output_type": "stream",
          "name": "stdout",
          "text": [
            "Breusch-Pagan Test: p-value = 8.69724629502835e-05\n",
            "White Test: p-value = 0.0003855293211346286\n"
          ]
        }
      ]
    },
    {
      "cell_type": "markdown",
      "source": [
        "###6. Damage\n",
        "\n",
        "It is important to know that heteroskedasticity compromises the efficiency of OLS estimates. This inefficiency leads to unreliable standard errors and confidence intervals. This could inflate or deflate the significance of predictor variables causing misleading inference. As a result, our hypothesis testing may become invalid and the model’s ability is compromised. This damage makes it very important to detect and correct heteroskedasticity and avoid inaccurate conclusions."
      ],
      "metadata": {
        "id": "PPtrKdmkXXxg"
      }
    },
    {
      "cell_type": "markdown",
      "source": [
        "###7. Directions\n",
        "\n",
        "To address the issue of models with heteroskedasticity, we will use WLS, GLS and robust standard errors. These methods are designed to account for the varying error variances, ensuring that the estimates produced by the model are reliable and valid (Knaub 2007). Below is a brief explanation of how each method works:\n",
        "-\tWeighted Least Squares (WLS): This method is useful when the variance of the errors is related to one or more independent variables. WLS assigns weights to each observation, with the goal of stabilizing the variance. Observations with larger error variance get smaller weights, while those with smaller error variance receive more weight. This adjustment allows the model to handle non-constant variance and produce efficient estimates.\n",
        "-\tRobust Standard Errors: In this approach, we do not modify the model itself, but instead adjust the standard errors to account for heteroskedasticity. This method corrects for the inconsistencies in error variance while maintaining the structure of the original model. Also, it allows for valid hypothesis testing and confidence intervals, even when the assumption of homoscedasticity is violated.\n",
        "-\tGeneralized Least Squares (GLS): GLS is an advanced method that directly models the variance of the errors. It estimates the structure of the heteroskedasticity and adjusts the model accordingly. By doing this, GLS improves the efficiency of the regression estimates, providing a more accurate and reliable fit for models with heteroskedastic errors.\n",
        "These methods are necessary in addressing the issue of non-constant variance in regression models. This ensures that our estimates remain valid and that the conclusions drawn from the analysis make sense.\n"
      ],
      "metadata": {
        "id": "hiCUsQGQXhAW"
      }
    },
    {
      "cell_type": "code",
      "source": [
        "weights = 1 / (data['X']**2)  # Example of weights inversely proportional to X\n",
        "wls_model = sm.WLS(data['Y'], sm.add_constant(data['X']), weights=weights).fit()\n",
        "print(wls_model.summary())\n"
      ],
      "metadata": {
        "colab": {
          "base_uri": "https://localhost:8080/"
        },
        "id": "5b5oCQlAXuyd",
        "outputId": "788b1132-d240-409b-885c-a42111398337"
      },
      "execution_count": null,
      "outputs": [
        {
          "output_type": "stream",
          "name": "stdout",
          "text": [
            "                            WLS Regression Results                            \n",
            "==============================================================================\n",
            "Dep. Variable:                      Y   R-squared:                       0.000\n",
            "Model:                            WLS   Adj. R-squared:                 -0.010\n",
            "Method:                 Least Squares   F-statistic:                   0.01025\n",
            "Date:                Mon, 09 Sep 2024   Prob (F-statistic):              0.920\n",
            "Time:                        19:59:54   Log-Likelihood:                -293.17\n",
            "No. Observations:                 100   AIC:                             590.3\n",
            "Df Residuals:                      98   BIC:                             595.5\n",
            "Df Model:                           1                                         \n",
            "Covariance Type:            nonrobust                                         \n",
            "==============================================================================\n",
            "                 coef    std err          t      P>|t|      [0.025      0.975]\n",
            "------------------------------------------------------------------------------\n",
            "const          5.6083      0.072     77.836      0.000       5.465       5.751\n",
            "X              0.1475      1.457      0.101      0.920      -2.743       3.038\n",
            "==============================================================================\n",
            "Omnibus:                        6.323   Durbin-Watson:                   2.306\n",
            "Prob(Omnibus):                  0.042   Jarque-Bera (JB):                7.849\n",
            "Skew:                           0.299   Prob(JB):                       0.0198\n",
            "Kurtosis:                       4.235   Cond. No.                         21.5\n",
            "==============================================================================\n",
            "\n",
            "Notes:\n",
            "[1] Standard Errors assume that the covariance matrix of the errors is correctly specified.\n"
          ]
        }
      ]
    },
    {
      "cell_type": "markdown",
      "source": [
        "- Robust Standard Errors: Use robust standard errors to adjust for heteroskedasticity without changing the model."
      ],
      "metadata": {
        "id": "xFdnypbnXyI0"
      }
    },
    {
      "cell_type": "code",
      "source": [
        "robust_model = model.get_robustcov_results()\n",
        "print(robust_model.summary())\n"
      ],
      "metadata": {
        "colab": {
          "base_uri": "https://localhost:8080/"
        },
        "id": "Lzfsant4X2RP",
        "outputId": "daf91312-3cb8-4901-bf04-cff6cf01b159"
      },
      "execution_count": null,
      "outputs": [
        {
          "output_type": "stream",
          "name": "stdout",
          "text": [
            "                            OLS Regression Results                            \n",
            "==============================================================================\n",
            "Dep. Variable:                      Y   R-squared:                       0.001\n",
            "Model:                            OLS   Adj. R-squared:                 -0.009\n",
            "Method:                 Least Squares   F-statistic:                   0.09910\n",
            "Date:                Mon, 09 Sep 2024   Prob (F-statistic):              0.754\n",
            "Time:                        20:00:29   Log-Likelihood:                -314.78\n",
            "No. Observations:                 100   AIC:                             633.6\n",
            "Df Residuals:                      98   BIC:                             638.8\n",
            "Df Model:                           1                                         \n",
            "Covariance Type:                  HC1                                         \n",
            "==============================================================================\n",
            "                 coef    std err          t      P>|t|      [0.025      0.975]\n",
            "------------------------------------------------------------------------------\n",
            "const          5.2215      0.690      7.567      0.000       3.852       6.591\n",
            "X              0.6590      2.093      0.315      0.754      -3.495       4.813\n",
            "==============================================================================\n",
            "Omnibus:                        9.424   Durbin-Watson:                   2.147\n",
            "Prob(Omnibus):                  0.009   Jarque-Bera (JB):               19.043\n",
            "Skew:                           0.230   Prob(JB):                     7.32e-05\n",
            "Kurtosis:                       5.088   Cond. No.                         4.18\n",
            "==============================================================================\n",
            "\n",
            "Notes:\n",
            "[1] Standard Errors are heteroscedasticity robust (HC1)\n"
          ]
        }
      ]
    },
    {
      "cell_type": "markdown",
      "source": [
        "- Generalized Least Squares (GLS): GLS corrects for heteroskedasticity by modeling the variance of the errors."
      ],
      "metadata": {
        "id": "uwk2oe_0X6of"
      }
    },
    {
      "cell_type": "code",
      "source": [
        "gls_model = sm.GLS(data['Y'], sm.add_constant(data['X'])).fit()\n",
        "print(gls_model.summary())\n"
      ],
      "metadata": {
        "colab": {
          "base_uri": "https://localhost:8080/"
        },
        "id": "FtNx1XI8X_ab",
        "outputId": "e867164c-277a-41c7-faf2-293472e49e77"
      },
      "execution_count": null,
      "outputs": [
        {
          "output_type": "stream",
          "name": "stdout",
          "text": [
            "                            GLS Regression Results                            \n",
            "==============================================================================\n",
            "Dep. Variable:                      Y   R-squared:                       0.001\n",
            "Model:                            GLS   Adj. R-squared:                 -0.009\n",
            "Method:                 Least Squares   F-statistic:                    0.1174\n",
            "Date:                Mon, 09 Sep 2024   Prob (F-statistic):              0.733\n",
            "Time:                        20:01:00   Log-Likelihood:                -314.78\n",
            "No. Observations:                 100   AIC:                             633.6\n",
            "Df Residuals:                      98   BIC:                             638.8\n",
            "Df Model:                           1                                         \n",
            "Covariance Type:            nonrobust                                         \n",
            "==============================================================================\n",
            "                 coef    std err          t      P>|t|      [0.025      0.975]\n",
            "------------------------------------------------------------------------------\n",
            "const          5.2215      1.068      4.888      0.000       3.101       7.342\n",
            "X              0.6590      1.923      0.343      0.733      -3.157       4.475\n",
            "==============================================================================\n",
            "Omnibus:                        9.424   Durbin-Watson:                   2.147\n",
            "Prob(Omnibus):                  0.009   Jarque-Bera (JB):               19.043\n",
            "Skew:                           0.230   Prob(JB):                     7.32e-05\n",
            "Kurtosis:                       5.088   Cond. No.                         4.18\n",
            "==============================================================================\n",
            "\n",
            "Notes:\n",
            "[1] Standard Errors assume that the covariance matrix of the errors is correctly specified.\n"
          ]
        }
      ]
    },
    {
      "cell_type": "markdown",
      "source": [
        "### References\n",
        "\n",
        "Knaub, James (2007). *Heteroscedasticity and Homoscedasticity*. Vol 2, pp. 431-432. [https://doi.org/10.4135/9781412952644.n201](https://doi.org/10.4135/9781412952644.n201)\n"
      ],
      "metadata": {
        "id": "3xff7JGkaMO9"
      }
    }
  ]
}