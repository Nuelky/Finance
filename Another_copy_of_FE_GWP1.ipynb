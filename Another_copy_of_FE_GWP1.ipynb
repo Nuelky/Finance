{
  "nbformat": 4,
  "nbformat_minor": 0,
  "metadata": {
    "colab": {
      "provenance": [],
      "authorship_tag": "ABX9TyMUnNnTrIfWH8DFZft3zurw",
      "include_colab_link": true
    },
    "kernelspec": {
      "name": "python3",
      "display_name": "Python 3"
    },
    "language_info": {
      "name": "python"
    }
  },
  "cells": [
    {
      "cell_type": "markdown",
      "metadata": {
        "id": "view-in-github",
        "colab_type": "text"
      },
      "source": [
        "<a href=\"https://colab.research.google.com/github/Nuelky/FE/blob/main/Another_copy_of_FE_GWP1.ipynb\" target=\"_parent\"><img src=\"https://colab.research.google.com/assets/colab-badge.svg\" alt=\"Open In Colab\"/></a>"
      ]
    },
    {
      "cell_type": "markdown",
      "source": [
        "\n",
        "\n",
        "### Multicollinearity\n",
        "\n",
        "### Definition\n",
        "Multicollinearity occurs when two or more independent variables in a regression model are highly correlated. This leads to unstable estimates of the regression coefficients. Mathematically, we can represent this as:\n",
        "\n",
        "The Variance Inflation Factor (VIF) is calculated as:\n",
        "\n",
        "$$\n",
        "VIF(\\beta_i) = \\frac{1}{1 - R_i^2}\n",
        "$$\n",
        "\n",
        "\\\n",
        "\n",
        "$$ where\\ ( VIF(\\beta_i) )\\ is the\\ Variance\\ Inflation\\ Factor,\\ and\\ ( R_i^2 )\\ is\\ the\\ coefficient\\ of\\ determination\\ of\\ a\\ regression\\ of\\ ( X_i )\\ on\\ all\\ other\\ predictors.$$\n",
        "\n",
        "\n",
        "##Description\n",
        "Multicollinearity could be referred as a situation in econometric modelling where the covariates shows a very strong linear relationship. This makes it difficult to determine the individual effect of each variable on the dependent variable. This issue leads to poor model performance.\n",
        "\n",
        "##Demonstration\n",
        "\n",
        "Here we used a simulated datasets of two highly correlated variables."
      ],
      "metadata": {
        "id": "q1IDdz40HC6x"
      }
    },
    {
      "cell_type": "code",
      "source": [
        "import numpy as np\n",
        "import pandas as pd\n",
        "import statsmodels.api as sm\n",
        "import seaborn as sns\n",
        "import matplotlib.pyplot as plt\n",
        "\n",
        "# Simulate data\n",
        "np.random.seed(0)\n",
        "X1 = np.random.normal(0, 1, 100)\n",
        "X2 = 0.9 * X1 + np.random.normal(0, 0.1, 100)  # Highly correlated with X1\n",
        "Y = 2 * X1 + 3 * X2 + np.random.normal(0, 1, 100)\n",
        "\n",
        "df = pd.DataFrame({'X1': X1, 'X2': X2, 'Y': Y})\n",
        "\n",
        "# Fit model\n",
        "X = sm.add_constant(df[['X1', 'X2']])\n",
        "model = sm.OLS(df['Y'], X).fit()\n",
        "print(model.summary())\n"
      ],
      "metadata": {
        "colab": {
          "base_uri": "https://localhost:8080/"
        },
        "id": "RiHpEbHkNwmM",
        "outputId": "620244bc-952e-4c82-aa50-6f94add9da05"
      },
      "execution_count": null,
      "outputs": [
        {
          "output_type": "stream",
          "name": "stdout",
          "text": [
            "                            OLS Regression Results                            \n",
            "==============================================================================\n",
            "Dep. Variable:                      Y   R-squared:                       0.963\n",
            "Model:                            OLS   Adj. R-squared:                  0.963\n",
            "Method:                 Least Squares   F-statistic:                     1273.\n",
            "Date:                Fri, 23 Aug 2024   Prob (F-statistic):           2.46e-70\n",
            "Time:                        17:10:01   Log-Likelihood:                -136.57\n",
            "No. Observations:                 100   AIC:                             279.1\n",
            "Df Residuals:                      97   BIC:                             287.0\n",
            "Df Model:                           2                                         \n",
            "Covariance Type:            nonrobust                                         \n",
            "==============================================================================\n",
            "                 coef    std err          t      P>|t|      [0.025      0.975]\n",
            "------------------------------------------------------------------------------\n",
            "const         -0.0669      0.097     -0.691      0.491      -0.259       0.125\n",
            "X1             1.6682      0.859      1.943      0.055      -0.036       3.373\n",
            "X2             3.4429      0.936      3.677      0.000       1.585       5.301\n",
            "==============================================================================\n",
            "Omnibus:                        0.808   Durbin-Watson:                   2.386\n",
            "Prob(Omnibus):                  0.668   Jarque-Bera (JB):                0.362\n",
            "Skew:                          -0.044   Prob(JB):                        0.834\n",
            "Kurtosis:                       3.281   Cond. No.                         18.1\n",
            "==============================================================================\n",
            "\n",
            "Notes:\n",
            "[1] Standard Errors assume that the covariance matrix of the errors is correctly specified.\n"
          ]
        }
      ]
    },
    {
      "cell_type": "markdown",
      "source": [
        "Using simulated dataset, we have been able to show how the coefficients and their significance are affected by multicollinearity. Next we move to.\n",
        "\n",
        "##Diagram\n",
        "To properly visualize, we used the same data in our demonstration to create a correlation matrix heatmap."
      ],
      "metadata": {
        "id": "lAPkc7hwOI29"
      }
    },
    {
      "cell_type": "code",
      "source": [
        "sns.heatmap(df.corr(), annot=True, cmap='coolwarm')\n",
        "plt.title(\"Correlation Matrix\")\n",
        "plt.show()\n"
      ],
      "metadata": {
        "colab": {
          "base_uri": "https://localhost:8080/",
          "height": 452
        },
        "id": "IHrlkBHRO3IF",
        "outputId": "559a0feb-3ea3-4410-dde8-e929a2dbc769"
      },
      "execution_count": null,
      "outputs": [
        {
          "output_type": "display_data",
          "data": {
            "text/plain": [
              "<Figure size 640x480 with 2 Axes>"
            ],
            "image/png": "[encoded data removed]"
          },
          "metadata": {}
        }
      ]
    },
    {
      "cell_type": "markdown",
      "source": [
        "The heatmap above provides a better understanding/insight on the high correlation between the independent variables.\n",
        "\n",
        "##Diagonsis\n",
        "In diagnosing or testing for multicollinearity we can use the following methods:\n",
        "\n",
        "1.   Variance Inflation Factor (VIF): Calculate the VIF for each independent variable. A high VIF of above 5 to 10 indicates multicollinearity.\n",
        "2.   Correlation Matrix: Just like we have shown above a correlation matrix for high correlations between independent variables helps a lot.\n",
        "3.   Tolerance (1/VIF): A low tolerance value could indicate multicollinearity.\n",
        "4.   Eigenvalues: Large condition numbers (that is, the ratios of the largest to smallest eigenvalues) indicate multicollinearity.\n",
        "5.   Scatter Plots: A visualization using scatter plots helps show the relationships between independent variables using scatter plots.\n",
        "\n",
        "For example\n",
        "\n",
        "\n",
        "\n"
      ],
      "metadata": {
        "id": "I0eKooWGO82P"
      }
    },
    {
      "cell_type": "code",
      "source": [
        "from statsmodels.stats.outliers_influence import variance_inflation_factor\n",
        "\n",
        "vif_data = pd.DataFrame()\n",
        "vif_data[\"feature\"] = X.columns\n",
        "vif_data[\"VIF\"] = [variance_inflation_factor(X.values, i) for i in range(X.shape[1])]\n",
        "print(vif_data)\n"
      ],
      "metadata": {
        "colab": {
          "base_uri": "https://localhost:8080/"
        },
        "id": "FxszxdxNSdfN",
        "outputId": "6525140a-3319-451e-f4c2-bd887083610a"
      },
      "execution_count": null,
      "outputs": [
        {
          "output_type": "stream",
          "name": "stdout",
          "text": [
            "  feature        VIF\n",
            "0   const   1.008864\n",
            "1      X1  80.828617\n",
            "2      X2  80.828617\n"
          ]
        }
      ]
    },
    {
      "cell_type": "markdown",
      "source": [
        "##Damage\n",
        "Multicollinearity causes various issues, reanging from\n",
        "\n",
        "inflate the variances of the coefficient estimates and make the estimates\n",
        "\n",
        "*   Unstable estimates: This is because regression coefficients may have high standard errors and this leads to unstable estimates.\n",
        "*   Incorrect inference: If multicollinearity is present, we can make incorrect conclusions abot the relationships between variables of interest.\n",
        "*   Poor model performance: Since estimates are highly sensitive to change in the model due to the presence of multicollinearity. This reduces model's precision.\n",
        "\n",
        "##Directions\n",
        "\n",
        "To address multicollinearity issue, it is important to consider the following strategies:\n",
        "*   Remove highly correlated variables: Remove one of the highly correlated variables.\n",
        "*   Use dimensionality reduction techniques like Principal Component Analysis helps transform predictors into a set of uncorrelated components, thereby help reduce the number of independent variables.\n",
        "* Regularization techniques: Lasso or Ridge regression performs variable selection by shrinking some coffiecents to zero. this can help reduce multicollinearity.\n",
        "\n",
        "For example, we use ridge regression.\n"
      ],
      "metadata": {
        "id": "SFbTl92GS4-N"
      }
    },
    {
      "cell_type": "code",
      "source": [
        "from sklearn.linear_model import Ridge\n",
        "\n",
        "ridge_model = Ridge(alpha=1.0)\n",
        "ridge_model.fit(X, df['Y'])\n",
        "print(ridge_model.coef_)\n"
      ],
      "metadata": {
        "colab": {
          "base_uri": "https://localhost:8080/"
        },
        "id": "vYSdbCbZWVbb",
        "outputId": "253cef3f-5713-4996-c01e-5e51926c4672"
      },
      "execution_count": null,
      "outputs": [
        {
          "output_type": "stream",
          "name": "stdout",
          "text": [
            "[0.         2.25910356 2.7702099 ]\n"
          ]
        }
      ]
    }
  ]
}