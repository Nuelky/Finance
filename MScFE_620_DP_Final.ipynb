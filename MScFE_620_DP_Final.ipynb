{
  "nbformat": 4,
  "nbformat_minor": 0,
  "metadata": {
    "colab": {
      "provenance": [],
      "include_colab_link": true
    },
    "kernelspec": {
      "name": "python3",
      "display_name": "Python 3"
    },
    "language_info": {
      "name": "python"
    }
  },
  "cells": [
    {
      "cell_type": "markdown",
      "metadata": {
        "id": "view-in-github",
        "colab_type": "text"
      },
      "source": [
        "<a href=\"https://colab.research.google.com/github/Nuelky/FE/blob/main/MScFE_620_DP_Final.ipynb\" target=\"_parent\"><img src=\"https://colab.research.google.com/assets/colab-badge.svg\" alt=\"Open In Colab\"/></a>"
      ]
    },
    {
      "cell_type": "code",
      "execution_count": null,
      "metadata": {
        "id": "-1DF7F3W8vsY"
      },
      "outputs": [],
      "source": []
    },
    {
      "cell_type": "markdown",
      "source": [
        "##Step 1: RQuestions 5, 6, and 7 from GWP1 Using the Black-Scholes Model for European Options.\n",
        "\n",
        "The Black-Scholes model-This is a widely used analytical model for pricing European-style options; it provides closed-form solutions for the fair value of call and put options by assuming constant volatility and continuous time, among other assumptions (Hull, 2018).\n",
        "\n",
        "Here, we\"ll apply the Black-Scholes formula to price a European call and a European put option with parameters provided in our GWP1.\n",
        "\n",
        "### Question 5: Lets do the-Pricing European Call and Put Options\n",
        "\n",
        "**We know the Parameters from GWP1:**\n",
        "\n",
        " Parameters based on the GWP1 for European options\n",
        "S0 = 100  # Initial stock price\n",
        "K = 100   # Strike price\n",
        "r = 0.05  # Risk-free interest rate\n",
        "T = 0.25  # Time to maturity in years (3 months)\n",
        "sigma = 0.2  # Volatility (20%)\n",
        "\n",
        "- Stock Price ($S_0$): 100 (This is the initial stock price from GWP1).\n",
        "-Our Strike Price ($K$) is 100 for the calland 182 for put.\n",
        "- The Risk-Free Rate ($r$) is (0.05).\n",
        "- Our Volatility ($\\sigma$)is 20% (0.2).\n",
        "- Time to Maturity ($T$)= 0.25 years Time to maturity in years (3 months)\n",
        "\n",
        "So we will use these parameters in the Black-Scholes formulas for pricing the European call and put options.\n",
        "The Black-Scholes model will calculates the prices using the following closed-form formulas:\n",
        "\n",
        "For a European call option:-\n",
        "\n",
        "$$\n",
        "C = S_0 \\Phi(d_1) - K e^{-rT} \\Phi(d_2)\n",
        "$$\n",
        "\n",
        "For a European put option:-\n",
        "\n",
        "$$\n",
        "P = K e^{-rT} \\Phi(-d_2) - S_0 \\Phi(-d_1)\n",
        "$$\n",
        "\n",
        "where:\n",
        "\n",
        "$$\n",
        "d_1 = \\frac{\\ln\\left(\\frac{S_0}{K}\\right) + \\left(r + \\frac{\\sigma^2}{2}\\right)T}{\\sigma \\sqrt{T}}\n",
        "$$\n",
        "\n",
        "$$\n",
        "d_2 = d_1 - \\sigma \\sqrt{T}\n",
        "$$\n",
        "\n",
        "In these equations above,\n",
        "\n",
        "we have $\\Phi$ which represents the cumulative distribution function of a standard normal variable whlie on the other side $S_0$ represents the underlying asset's price (McDonald, 2013).\n",
        "\n",
        "Let use this as a code below\n"
      ],
      "metadata": {
        "id": "RKK5VAtD864F"
      }
    },
    {
      "cell_type": "code",
      "source": [
        "import numpy as np\n",
        "from scipy.stats import norm\n",
        "\n",
        "# Black-Scholes pricing function\n",
        "def black_scholes_price(S0, K, r, T, sigma, option_type=\"call\"):\n",
        "    \"\"\"\n",
        "    Calculate the Black-Scholes price for a European call or put option.\n",
        "\n",
        "    Parameters:\n",
        "    - S0: Initial stock price\n",
        "    - K: Strike price\n",
        "    - r: Risk-free interest rate\n",
        "    - T: Time to maturity\n",
        "    - sigma: Volatility\n",
        "    - option_type: \"call\" or \"put\"\n",
        "\n",
        "    Returns:\n",
        "    - price: The Black-Scholes price of the option\n",
        "    \"\"\"\n",
        "    d1 = (np.log(S0 / K) + (r + 0.5 * sigma ** 2) * T) / (sigma * np.sqrt(T))\n",
        "    d2 = d1 - sigma * np.sqrt(T)\n",
        "    if option_type == \"call\":\n",
        "        price = S0 * norm.cdf(d1) - K * np.exp(-r * T) * norm.cdf(d2)\n",
        "    elif option_type == \"put\":\n",
        "        price = K * np.exp(-r * T) * norm.cdf(-d2) - S0 * norm.cdf(-d1)\n",
        "    return price\n",
        "\n",
        "# Updated parameters based on GWP1\n",
        "S0 = 100     # Initial stock price\n",
        "K = 100      # Strike price (same for both call and put in this case)\n",
        "r = 0.05     # Risk-free interest rate\n",
        "T = 0.25     # Time to maturity (3 months in years)\n",
        "sigma = 0.2  # Volatility\n",
        "\n",
        "# Calculate option prices using the updated parameters\n",
        "call_price = black_scholes_price(S0, K, r, T, sigma, option_type=\"call\")\n",
        "put_price = black_scholes_price(S0, K, r, T, sigma, option_type=\"put\")\n",
        "\n",
        "print(f\"European Call Option Price: {call_price:.2f}\")\n",
        "print(f\"European Put Option Price: {put_price:.2f}\")\n"
      ],
      "metadata": {
        "colab": {
          "base_uri": "https://localhost:8080/"
        },
        "id": "O4AZ-uPbASqJ",
        "outputId": "f448dc07-c7fd-4442-cdd5-81248574fe0c"
      },
      "execution_count": null,
      "outputs": [
        {
          "output_type": "stream",
          "name": "stdout",
          "text": [
            "European Call Option Price: 4.61\n",
            "European Put Option Price: 3.37\n"
          ]
        }
      ]
    },
    {
      "cell_type": "markdown",
      "source": [
        "**European Call Option Price (4.61)**\n",
        "\n",
        "We have the calculated price of 4.61 for the European call option, which reflects its intrinsic and time value. Given the current stock price ($S_0 = 100$) equal to the strike price ($K = 100$), the call option is considered at the money. Although it does not possess intrinsic value at this moment, it holds time value and potential upside as the expiration date approaches. The Black-Scholes model, as applied here, accounts for factors such as the stock price relative to the strike price, a short time to expiration ($T = 0.25$ years), a moderate volatility ($\\sigma = 20\\%$), and a risk-free rate ($r = 5\\%$) (Hull, 2018).\n",
        "\n",
        "**European Put Option Price (3.37)**\n",
        "\n",
        "The put option is priced at 3.37, reflecting its value under current market conditions. Since the stock price ($S_0 = 100$) equals the strike price ($K = 100$), this put option is also at the money, with no intrinsic value but some time value, providing potential downside protection until expiration. The Black-Scholes model suggests this relatively low premium due to the short time to maturity and moderate volatility, indicating the put option is primarily valued for its potential as a hedge against downside risk (McDonald, 2013).\n"
      ],
      "metadata": {
        "id": "ExE1Ozj3Cayl"
      }
    },
    {
      "cell_type": "markdown",
      "source": [
        "### Question 6: Calculating Delta for European Call and Put Options\n",
        "\n",
        "In our previous assignment, we know that Delta ($\\Delta$) represents the sensitivity of the option price to changes in the underlying asset's price.\n",
        "\n",
        "Here, In the Black-Scholes model, delta is calculated as follows-:\n",
        "\n",
        "For a European call option=\n",
        "\n",
        "$$\n",
        "\\Delta_{\\text{call}} = \\Phi(d_1)\n",
        "$$\n",
        "\n",
        "For a European put option=\n",
        "\n",
        "$$\n",
        "\\Delta_{\\text{put}} = \\Phi(d_1) - 1\n",
        "$$\n",
        "\n",
        "where $d_1$ is calculated as in the pricing formulas above (Hull, 2018). Delta will provides insight into how much the option price would change with a $1 change in the underlying asset price and thus making it useful for hedging and risk management (McDonald, 2013).\n"
      ],
      "metadata": {
        "id": "xWJ1zzrsAwDA"
      }
    },
    {
      "cell_type": "code",
      "source": [
        "# Lets define the Black-Scholes delta calculation function\n",
        "def black_scholes_delta(S0, K, r, T, sigma, option_type=\"call\"):\n",
        "    \"\"\"\n",
        "    Calculate the Black-Scholes delta for a European call or put option.\n",
        "\n",
        "    Parameters:\n",
        "    - S0: Initial stock price\n",
        "    - K: Strike price\n",
        "    - r: Risk-free interest rate\n",
        "    - T: Time to maturity\n",
        "    - sigma: Volatility\n",
        "    - option_type: \"call\" or \"put\"\n",
        "\n",
        "    Returns:\n",
        "    - delta: The delta of the option\n",
        "    \"\"\"\n",
        "    d1 = (np.log(S0 / K) + (r + 0.5 * sigma ** 2) * T) / (sigma * np.sqrt(T))\n",
        "    if option_type == \"call\":\n",
        "        delta = norm.cdf(d1)\n",
        "    elif option_type == \"put\":\n",
        "        delta = norm.cdf(d1) - 1\n",
        "    return delta\n",
        "\n",
        "# Calculate deltas\n",
        "call_delta = black_scholes_delta(S0, K_call, r, T_call, sigma, option_type=\"call\")\n",
        "put_delta = black_scholes_delta(S0, K_put, r, T_put, sigma, option_type=\"put\")\n",
        "\n",
        "print(f\"Delta for European Call Option: {call_delta:.4f}\")\n",
        "print(f\"Delta for European Put Option: {put_delta:.4f}\")\n"
      ],
      "metadata": {
        "colab": {
          "base_uri": "https://localhost:8080/"
        },
        "id": "PRBpVrTUA1Ho",
        "outputId": "7e43bec5-e017-4696-88d2-3c40ea9fdda9"
      },
      "execution_count": null,
      "outputs": [
        {
          "output_type": "stream",
          "name": "stdout",
          "text": [
            "Delta for European Call Option: 0.5695\n",
            "Delta for European Put Option: -0.4305\n"
          ]
        }
      ]
    },
    {
      "cell_type": "code",
      "source": [
        "import numpy as np\n",
        "from scipy.stats import norm\n",
        "\n",
        "# Parameters for the GWP1 example\n",
        "S0 = 100      # Initial stock price\n",
        "K = 100       # Strike price\n",
        "r = 0.05      # Risk-free interest rate\n",
        "T = 0.25      # Time to maturity (3 months in years)\n",
        "sigma = 0.2   # Volatility\n",
        "\n",
        "# Calculate d1\n",
        "d1 = (np.log(S0 / K) + (r + 0.5 * sigma ** 2) * T) / (sigma * np.sqrt(T))\n",
        "\n",
        "# Delta for Call and Put Options\n",
        "delta_call = norm.cdf(d1)\n",
        "delta_put = norm.cdf(d1) - 1\n",
        "\n",
        "# Output the results\n",
        "print(f\"Delta for European Call Option: {delta_call:.4f}\")\n",
        "print(f\"Delta for European Put Option: {delta_put:.4f}\")\n"
      ],
      "metadata": {
        "colab": {
          "base_uri": "https://localhost:8080/"
        },
        "id": "DHJy7rjj-QU4",
        "outputId": "8c772214-9949-491c-beb0-a48034c04d27"
      },
      "execution_count": null,
      "outputs": [
        {
          "output_type": "stream",
          "name": "stdout",
          "text": [
            "Delta for European Call Option: 0.5695\n",
            "Delta for European Put Option: -0.4305\n"
          ]
        }
      ]
    },
    {
      "cell_type": "markdown",
      "source": [
        "### Comments on ---Delta Calculations for Sensitivity Analysis (Q6)\n",
        "\n",
        "**The Delta of the European Call Option (0.5695)**-The Delta of 0.5695 will indicates that the European call option has moderate sensitivity to changes in the stock's price. A Delta of approximately 0.57 suggests that for each $1 increase in stock price, the call option’s price will increase by about 0.57. This moderate Delta=is characteristic of an at-the-money call option and it is  reflecting balanced potential gains and the probability of finishing in the money. Delta is a crucial metric in hedging because it indicates how much of the underlying asset should be bought or sold to maintain a neutral position (Hull, 2018).\n",
        "\n",
        "Delta of the European Put Option (-0.4305)-The Delta of -0.4305 for the put option reflects moderate sensitivity to the underlying stock price with a negative sign which is indicating the inverse relationship typical of put options. A Delta of -0.43 will suggests that the put option price will decrease by about 0.43 for every $1 increase in the stock price. This value is (typical) for an at-the-money or slightly in-the-money put option, indicating that the option is moderately sensitive to price changes rather than being minimally sensitive (McDonald, 2013).\n"
      ],
      "metadata": {
        "id": "ocI_WQqKDUtE"
      }
    },
    {
      "cell_type": "markdown",
      "source": [
        "### Question 7: Calculating Vega for European Call and Put Options\n",
        "What's Vega?\n",
        "\n",
        "This is a measure of the sensitivity of the option's price to changes in the volatility of the underlying asset. Unlike the delta which will measures sensitivity to price, vega will assesse sensitivity to volatility which makes it essential for options with high volatility or longer time to maturity (Hull, 2018).\n",
        "\n",
        "Vvega is calculated as follows in the Black-Scholes model-\n",
        "\n",
        "$$\n",
        "\\text{Vega} = S_0 \\sqrt{T} \\, \\phi(d_1)\n",
        "$$\n",
        "\n",
        "Where, $\\phi(d_1)$ =is the probability density function of the standard normal distribution evaluated at $d_1$.\n"
      ],
      "metadata": {
        "id": "68FOen-UBRQE"
      }
    },
    {
      "cell_type": "code",
      "source": [
        "# Lts do the Black-Scholes vega calculation function\n",
        "def black_scholes_vega(S0, K, r, T, sigma):\n",
        "    \"\"\"\n",
        "    This is to Calculate the Black-Scholes vega for a European option.\n",
        "\n",
        "    Parameters:\n",
        "    - S0: Initial stock price\n",
        "    - K: Strike price\n",
        "    - r: Risk-free interest rate\n",
        "    - T: Time to maturity\n",
        "    - sigma: Volatility\n",
        "\n",
        "    Returns:\n",
        "    - vega: The vega of the option\n",
        "    \"\"\"\n",
        "    d1 = (np.log(S0 / K) + (r + 0.5 * sigma ** 2) * T) / (sigma * np.sqrt(T))\n",
        "    vega = S0 * norm.pdf(d1) * np.sqrt(T)\n",
        "    return vega\n",
        "\n",
        "# Lets Calculate vegas\n",
        "call_vega = black_scholes_vega(S0, K_call, r, T_call, sigma)\n",
        "put_vega = black_scholes_vega(S0, K_put, r, T_put, sigma)\n",
        "\n",
        "print(f\"Vega for European Call Option= {call_vega:.4f}\")\n",
        "print(f\"Vega for European Put Option= {put_vega:.4f}\")\n"
      ],
      "metadata": {
        "colab": {
          "base_uri": "https://localhost:8080/"
        },
        "id": "j0ej29FwBcTI",
        "outputId": "3eb4ce94-df47-49ae-b56b-0436c8779596"
      },
      "execution_count": null,
      "outputs": [
        {
          "output_type": "stream",
          "name": "stdout",
          "text": [
            "Vega for European Call Option= 19.6440\n",
            "Vega for European Put Option= 19.6440\n"
          ]
        }
      ]
    },
    {
      "cell_type": "markdown",
      "source": [
        "### Comments on---Vega Calculations for Volatility Sensitivity (Q7)\n",
        "\n",
        "The Vega of 19.64 for the European options-this indicates that the option price is moderately sensitive to changes in volatility. This will means that for every 1% increase in volatility the price of both the call and put options will increase by approximately $19.64.\n",
        "\n",
        "A higher Vega value is (typical) of options that are at the money or close to it-as in this case where the stock price and strike price are both 100. At-the-money options will be more sensitive to changes in volatility because the probability of finishing in the money is heavily influenced by volatility. As time to maturity decreases/or the option moves deeper in or out of the money Vega will tends to decline.\n",
        "\n",
        "This sensitivity measure is particularly useful in risk management and option trading where Vega will help us gauge the impact of market volatility on option portfolios. High Vega values will imply that an option’s price will fluctuate more significantly in response to volatility changes which makes Vega an essential metric for strategies involving volatility exposure such as like the volatility trading and hedging (Hull, 2018).\n",
        "\n"
      ],
      "metadata": {
        "id": "IgJphAo0DejO"
      }
    },
    {
      "cell_type": "markdown",
      "source": [
        " Summary of Step 1\n",
        "\n",
        "The Black-Scholes model has provided us with valuable insights into the dynamics of the European call and put options:\n",
        "\n",
        "**Call Option-** We have calculated price and Delta of the call option which suggest that it is at the money. This moderate Delta ( 0.57) has indicated to us that the call option's price will increase moderately with an increases in the stock price.\n",
        "\n",
        "We have seen that the Vega value will shows a moderate sensitivity to volatility and this will mean that the call option's price will benefit from increases in volatility(although this effect is not as pronounced as it would be for a deeply in-the-money option).\n",
        "\n",
        "**Put Option:-** Here too the put option's price and Delta indicate an at-the-money status and not deeply \"out of the money.\" This moderate negative Delta (-0.43) reflects that the put option’s price will decrease moderately as the stock price increases. Here the Vega will shows a similar moderate sensitivity to volatility which is indicating that the put option will gain value as volatility rises and this is  making it useful for hedging against potential downside risks in volatile markets.\n",
        "\n",
        "The Black-Scholes model is effective here because it assumes constant volatility and a risk-free rate and we know that this aligns well with European options that lack early exercise features. This model application provides us with a clear understanding of price sensitivities (Delta and Vega) and potential hedging strategies, especially for at-the-money options (Hull, 2018; McDonald, 2013)."
      ],
      "metadata": {
        "id": "e7VZ7loiDh6q"
      }
    },
    {
      "cell_type": "markdown",
      "source": [
        "##Team Member B\n",
        "\n",
        "**Q5** Choosing the number of steps\n",
        "\n",
        "For a period of 3 months with daily time-steps, the number of steps would be approximately 63 (considering an average of 21 trading days per month).\n",
        "\n",
        "However, the number of Monte Carlo paths we choose for the simulation affects the reliability of our estimates. As a starting point, let's consider 100,000 paths.\n",
        "Here, in implementing Step 1 with Monte Carlo simulations for European options, we assume 100,000 simulations for accuracy."
      ],
      "metadata": {
        "id": "lJ46fRvHihD5"
      }
    },
    {
      "cell_type": "code",
      "source": [
        "import numpy as np\n",
        "\n",
        "# Parameters based on the GWP1 for European options\n",
        "S0 = 100  # Initial stock price\n",
        "K = 100   # Strike price\n",
        "r = 0.05  # Risk-free interest rate\n",
        "T = 0.25  # Time to maturity in years (3 months)\n",
        "sigma = 0.2  # Volatility (20%)\n",
        "days = int(T * 252)  # Daily steps in the simulation for the duration of T\n",
        "num_simulations = 100000  # Number of Monte Carlo simulations for high accuracy\n",
        "\n",
        "# Monte Carlo simulation for European option pricing using GBM\n",
        "np.random.seed(0)\n",
        "dt = 1 / 252  # Daily time step\n",
        "\n",
        "# Generate random price paths\n",
        "price_paths = np.zeros((num_simulations, days))\n",
        "price_paths[:, 0] = S0\n",
        "\n",
        "for t in range(1, days):\n",
        "    # Generate random daily returns based on GBM\n",
        "    price_paths[:, t] = price_paths[:, t - 1] * np.exp((r - 0.5 * sigma ** 2) * dt + sigma * np.sqrt(dt) * np.random.randn(num_simulations))\n",
        "\n",
        "# Calculate the payoffs for call and put options at maturity\n",
        "call_payoffs = np.maximum(price_paths[:, -1] - K, 0)\n",
        "put_payoffs = np.maximum(K - price_paths[:, -1], 0)\n",
        "\n",
        "# Discount the payoffs back to present value and average to get option prices\n",
        "european_call_price_mc = np.exp(-r * T) * np.mean(call_payoffs)\n",
        "european_put_price_mc = np.exp(-r * T) * np.mean(put_payoffs)\n",
        "\n",
        "european_call_price_mc, european_put_price_mc\n"
      ],
      "metadata": {
        "colab": {
          "base_uri": "https://localhost:8080/"
        },
        "id": "UhIl8MKVi2uM",
        "outputId": "096adf46-7eb3-49d1-d3a0-beaca960cf25"
      },
      "execution_count": null,
      "outputs": [
        {
          "output_type": "execute_result",
          "data": {
            "text/plain": [
              "(4.578411635344254, 3.3422485384153005)"
            ]
          },
          "metadata": {},
          "execution_count": 11
        }
      ]
    },
    {
      "cell_type": "markdown",
      "source": [
        "The Monte Carlo simulation for European options yielded the following prices:\n",
        "\n",
        "- European Call Price: 4.58\n",
        "- European Put Price: 3.34"
      ],
      "metadata": {
        "id": "MqMrwRQrjk4x"
      }
    },
    {
      "cell_type": "markdown",
      "source": [
        "**5(b) Overall process description**\n",
        "\n",
        "Initialization: We set our parameters (stock price S_0, risk-free rate r, volatility σ, maturity T T, number of steps, and number of paths). Simulation: For each path:\n",
        "\n",
        "first, Initialize S_0\n",
        "second, For each step, simulate the stock price using the discretized GBM formula.\n",
        "lastly, we calculate the European call and put option payoff at maturity. Aggregation: Average the payoffs across all paths and discount it back to present value using the risk-free rate. Result: The discounted average gives us the option prices."
      ],
      "metadata": {
        "id": "qpUCNRY3Smnj"
      }
    },
    {
      "cell_type": "markdown",
      "source": [
        "**Q6**\n",
        "\n",
        "Next, we calculate Delta by adjusting the initial stock price slightly and observing the impact on the option prices.\n",
        "\n"
      ],
      "metadata": {
        "id": "2Xf3XQNzjwQw"
      }
    },
    {
      "cell_type": "code",
      "source": [
        "# Small change in stock price for Delta calculation\n",
        "delta_S = 1  # Small adjustment to initial stock price\n",
        "S_up = S0 + delta_S  # Slight increase in S0\n",
        "S_down = S0 - delta_S  # Slight decrease in S0\n",
        "\n",
        "# Simulate paths for S_up and S_down to calculate Delta for call and put options\n",
        "price_paths_up = np.zeros((num_simulations, days))\n",
        "price_paths_down = np.zeros((num_simulations, days))\n",
        "price_paths_up[:, 0] = S_up\n",
        "price_paths_down[:, 0] = S_down\n",
        "\n",
        "for t in range(1, days):\n",
        "    # Simulate paths for adjusted initial stock prices\n",
        "    price_paths_up[:, t] = price_paths_up[:, t - 1] * np.exp((r - 0.5 * sigma ** 2) * dt + sigma * np.sqrt(dt) * np.random.randn(num_simulations))\n",
        "    price_paths_down[:, t] = price_paths_down[:, t - 1] * np.exp((r - 0.5 * sigma ** 2) * dt + sigma * np.sqrt(dt) * np.random.randn(num_simulations))\n",
        "\n",
        "# Calculate option payoffs for adjusted initial stock prices\n",
        "call_payoffs_up = np.maximum(price_paths_up[:, -1] - K, 0)\n",
        "put_payoffs_up = np.maximum(K - price_paths_up[:, -1], 0)\n",
        "call_payoffs_down = np.maximum(price_paths_down[:, -1] - K, 0)\n",
        "put_payoffs_down = np.maximum(K - price_paths_down[:, -1], 0)\n",
        "\n",
        "# Discounted option prices for adjusted stock prices\n",
        "european_call_price_up = np.exp(-r * T) * np.mean(call_payoffs_up)\n",
        "european_put_price_up = np.exp(-r * T) * np.mean(put_payoffs_up)\n",
        "european_call_price_down = np.exp(-r * T) * np.mean(call_payoffs_down)\n",
        "european_put_price_down = np.exp(-r * T) * np.mean(put_payoffs_down)\n",
        "\n",
        "# Calculate Delta for call and put options\n",
        "delta_call = (european_call_price_up - european_call_price_down) / (2 * delta_S)\n",
        "delta_put = (european_put_price_up - european_put_price_down) / (2 * delta_S)\n",
        "\n",
        "delta_call, delta_put\n"
      ],
      "metadata": {
        "colab": {
          "base_uri": "https://localhost:8080/"
        },
        "id": "-apu6T9vj4_4",
        "outputId": "ebcb899e-fc5c-46b4-ba93-a29fdcfa34cf"
      },
      "execution_count": null,
      "outputs": [
        {
          "output_type": "execute_result",
          "data": {
            "text/plain": [
              "(0.5805366616395653, -0.442713723992463)"
            ]
          },
          "metadata": {},
          "execution_count": 12
        }
      ]
    },
    {
      "cell_type": "markdown",
      "source": [
        "The calculated Delta values for the European options are:\n",
        "\n",
        "- Delta for European Call: 0.581\n",
        "- Delta for European Put: -0.443"
      ],
      "metadata": {
        "id": "u3rh9qjGnbxF"
      }
    },
    {
      "cell_type": "markdown",
      "source": [
        "6(a) How do they compare\n",
        "\n",
        "Delta for a call option usually lies between 0 and 1 for European options without dividends. For puts, it is between -1 and 0.\n",
        "\n",
        "6(b) Comments on differences\n",
        "\n",
        "Delta for Call Option: Our output shows that the Delta of a call option is positive. This implies that as the stock price increases, the call option's price will also increase. This makes sense: if you have the right to buy a stock at a set price and the stock's market price goes up, the value of that right (i.e., the call option) should also go up.\n",
        "\n",
        "Delta for Put Option: The Delta of a put option is negative, indicating that as the stock price increases, the put option's price will decrease. Again, this is intuitive: if you have the right to sell a stock at a set price and the stock's market price goes up, the value of that right (i.e., the put option) should decrease since it becomes less likely that the put option will be exercised.\n",
        "\n",
        "Delta as a Proxy: Delta can also be seen as a proxy for the probability that the option will be in-the-money at expiration. For instance, a Delta of 0.58 for a call option can be roughly interpreted as a 58% chance that the option will expire in-the-money\n",
        "\n",
        "In summary, the signs of the Deltas for call and put options reflect the directional exposure of the option to the underlying asset. A positive Delta for the call means it benefits from rises in the stock, while a negative Delta for the put means it benefits from falls in the stock."
      ],
      "metadata": {
        "id": "6M82P3adTljl"
      }
    },
    {
      "cell_type": "markdown",
      "source": [
        "**Q7**\n",
        "Now, we proceed with the Vega calculation by increasing the volatility and observing the change in option prices.\n"
      ],
      "metadata": {
        "id": "yi6-jad3m1vS"
      }
    },
    {
      "cell_type": "code",
      "source": [
        "# Increase in volatility for Vega calculation\n",
        "sigma_new = 0.25  # New volatility (25%)\n",
        "\n",
        "# Generate new price paths with increased volatility\n",
        "price_paths_sigma_new = np.zeros((num_simulations, days))\n",
        "price_paths_sigma_new[:, 0] = S0\n",
        "\n",
        "for t in range(1, days):\n",
        "    # Simulate paths with increased volatility\n",
        "    price_paths_sigma_new[:, t] = price_paths_sigma_new[:, t - 1] * np.exp((r - 0.5 * sigma_new ** 2) * dt + sigma_new * np.sqrt(dt) * np.random.randn(num_simulations))\n",
        "\n",
        "# Calculate option payoffs for increased volatility\n",
        "call_payoffs_sigma_new = np.maximum(price_paths_sigma_new[:, -1] - K, 0)\n",
        "put_payoffs_sigma_new = np.maximum(K - price_paths_sigma_new[:, -1], 0)\n",
        "\n",
        "# Discounted option prices for new volatility\n",
        "european_call_price_sigma_new = np.exp(-r * T) * np.mean(call_payoffs_sigma_new)\n",
        "european_put_price_sigma_new = np.exp(-r * T) * np.mean(put_payoffs_sigma_new)\n",
        "\n",
        "# Calculate Vega for call and put options\n",
        "vega_call = (european_call_price_sigma_new - european_call_price_mc) / (sigma_new - sigma)\n",
        "vega_put = (european_put_price_sigma_new - european_put_price_mc) / (sigma_new - sigma)\n",
        "\n",
        "vega_call, vega_put\n"
      ],
      "metadata": {
        "colab": {
          "base_uri": "https://localhost:8080/"
        },
        "id": "9hvNjckqnT0O",
        "outputId": "37625714-8ba8-4667-bfcc-263967c44342"
      },
      "execution_count": null,
      "outputs": [
        {
          "output_type": "execute_result",
          "data": {
            "text/plain": [
              "(19.176531150129005, 20.057752875940484)"
            ]
          },
          "metadata": {},
          "execution_count": 13
        }
      ]
    },
    {
      "cell_type": "markdown",
      "source": [
        "The calculated Vega values for the European options are:\n",
        "\n",
        "- Vega for European Call: 19.18\n",
        "- Vega for European Put: 20.06"
      ],
      "metadata": {
        "id": "oQwFWbBxnm08"
      }
    },
    {
      "cell_type": "markdown",
      "source": [
        "**7(a) How do prices change with respect to volatility change**\n",
        "\n",
        "An increase in volatility leads to a rise in option prices. This is because higher volatility enhances the likelihood of the stock moving favorably for the option holder. Consequently, a 5% volatility increase would boost both call and put option prices.\n",
        "\n",
        "**7(b) Potential differential impact of this change on the options**\n",
        "\n",
        "While volatility boosts both call and put option prices, the magnitude of increase varies based on their moneyness.\n",
        "For at-the-money (ATM) options, like ours, call and put options exhibit similar Vega values, increasing relatively equally with volatility.\n",
        "However, for deep in-the-money (ITM) or out-of-the-money (OTM) options, Vega differs between calls and puts. Typically, ATM options have the highest Vega, decreasing as you move away from the ATM point."
      ],
      "metadata": {
        "id": "W0hbGo52UhCK"
      }
    },
    {
      "cell_type": "markdown",
      "source": [
        "## Step 2: Monte Carlo Simulation with Geometric Brownian Motion for American Call Option\n",
        "\n",
        "In this step, we\"ll apply the  Monte Carlo simulation methods with a Geometric Brownian Motion (GBM) process to simulate daily prices for an American Call option. The Monte Carlo method allows for flexibility in pricing derivatives moreso for the American options where early exercise can be beneficial. We\"ll use the input data from our GWP1 to calculate the option price, delta, and vega.\n",
        "\n",
        "**Parameters from GWP1**\n",
        "\n",
        "- Initial Stock Price ($S_0$): 100\n",
        "- Strike Price ($K$): 100\n",
        "- Risk-Free Rate ($r$): 0.05%\n",
        "- Time to Maturity ($T$): 0.25 years (3 months)\n",
        "- Volatility ($\\sigma$): 0.2%\n",
        "- Number of Simulations ($N$): 10,000\n",
        "- Steps per Simulation ($M$): 63 steps (these are daily steps over a 3-month period)\n",
        "\n",
        "These parameters will provide the foundation for modeling the price dynamics of the underlying asset which will follows a stochastic process as per the GBM model.\n",
        "\n",
        "### Monte Carlo Simulation for American Call Option Pricing\n",
        "\n",
        "To price the American Call option- we will generate daily price paths and determine the payoff at each step.\n",
        "American options can/may be exercised at any time and we will apply a backward induction approach to check for optimal exercise points within each path."
      ],
      "metadata": {
        "id": "8ChSR7JGFCvo"
      }
    },
    {
      "cell_type": "code",
      "source": [
        "import numpy as np\n",
        "\n",
        "# Parameters for the American Call Option\n",
        "S0 = 100         # Initial stock price\n",
        "K = 100          # Strike price\n",
        "r = 0.05         # Risk-free interest rate\n",
        "T = 0.25         # Time to maturity (3 months in years)\n",
        "sigma = 0.2      # Volatility\n",
        "N = 10000        # Number of simulations\n",
        "M = 63           # Steps (daily over 3 months)\n",
        "\n",
        "# Time increment\n",
        "dt = T / M\n",
        "discount_factor = np.exp(-r * dt)\n",
        "\n",
        "# Generate GBM paths for stock prices\n",
        "np.random.seed(42)  # For reproducibility\n",
        "stock_paths = np.zeros((N, M+1))\n",
        "stock_paths[:, 0] = S0\n",
        "\n",
        "for t in range(1, M+1):\n",
        "    z = np.random.standard_normal(N)\n",
        "    stock_paths[:, t] = stock_paths[:, t-1] * np.exp((r - 0.5 * sigma**2) * dt + sigma * np.sqrt(dt) * z)\n",
        "\n",
        "# Initialize option values at maturity\n",
        "option_values = np.maximum(stock_paths[:, -1] - K, 0)\n",
        "\n",
        "# Backward induction for early exercise\n",
        "for t in range(M-1, 0, -1):\n",
        "    # Identify in-the-money paths\n",
        "    in_the_money = stock_paths[:, t] > K\n",
        "    # Calculate immediate exercise payoff\n",
        "    immediate_exercise = np.maximum(stock_paths[:, t] - K, 0)\n",
        "    # Perform regression to estimate the continuation value\n",
        "    if in_the_money.any():\n",
        "        X = stock_paths[in_the_money, t]\n",
        "        Y = option_values[in_the_money] * discount_factor\n",
        "        # Polynomial regression on stock price (X) and discounted future payoff (Y)\n",
        "        reg = np.polyfit(X, Y, 2)\n",
        "        continuation_value = np.polyval(reg, X)\n",
        "        # Update option values with the maximum of continuation and immediate exercise\n",
        "        option_values[in_the_money] = np.where(immediate_exercise[in_the_money] > continuation_value,\n",
        "                                               immediate_exercise[in_the_money],\n",
        "                                               option_values[in_the_money] * discount_factor)\n",
        "    else:\n",
        "        # Discount future payoff if no in-the-money paths\n",
        "        option_values = option_values * discount_factor\n",
        "\n",
        "# Discount option value back to present\n",
        "american_call_price = np.mean(option_values) * np.exp(-r * T)\n",
        "\n",
        "print(f\"American Call Option Price: {american_call_price:.2f}\")\n"
      ],
      "metadata": {
        "colab": {
          "base_uri": "https://localhost:8080/"
        },
        "id": "wXSU7sKPENrk",
        "outputId": "3660bd5c-c927-414b-cb49-96d8c557670b"
      },
      "execution_count": null,
      "outputs": [
        {
          "output_type": "stream",
          "name": "stdout",
          "text": [
            "American Call Option Price: 4.39\n"
          ]
        }
      ]
    },
    {
      "cell_type": "markdown",
      "source": [
        "###Delta Calculation\n",
        "\n",
        "We already know that -Delta represents the sensitivity of the option price to small changes in the underlying asset's price.\n",
        "\n",
        "For the American Call option-delta is approximated by calculating the difference in simulated option prices for small changes in the initial stock price:"
      ],
      "metadata": {
        "id": "4flIp40WFhUD"
      }
    },
    {
      "cell_type": "code",
      "source": [
        "# Delta approximation for American Call\n",
        "epsilon = 1e-4\n",
        "S0_up = S0 * (1 + epsilon)\n",
        "S0_down = S0 * (1 - epsilon)\n",
        "\n",
        "# Re-run simulations with adjusted initial stock prices for delta calculation\n",
        "stock_paths_up = np.zeros((N, M + 1))\n",
        "stock_paths_down = np.zeros((N, M + 1))\n",
        "stock_paths_up[:, 0] = S0_up\n",
        "stock_paths_down[:, 0] = S0_down\n",
        "\n",
        "for t in range(1, M + 1):\n",
        "    z = np.random.standard_normal(N)\n",
        "    stock_paths_up[:, t] = stock_paths_up[:, t - 1] * np.exp((r - 0.5 * sigma**2) * dt + sigma * np.sqrt(dt) * z)\n",
        "    stock_paths_down[:, t] = stock_paths_down[:, t - 1] * np.exp((r - 0.5 * sigma**2) * dt + sigma * np.sqrt(dt) * z)\n",
        "\n",
        "# Calculate payoffs for delta scenarios\n",
        "payoff_up = np.maximum(stock_paths_up[:, -1] - K, 0)\n",
        "payoff_down = np.maximum(stock_paths_down[:, -1] - K, 0)\n",
        "\n",
        "# Discounted mean payoffs\n",
        "american_call_price_up = discount_factor * np.mean(payoff_up)\n",
        "american_call_price_down = discount_factor * np.mean(payoff_down)\n",
        "\n",
        "# Delta calculation\n",
        "delta_american_call = (american_call_price_up - american_call_price_down) / (S0_up - S0_down)\n",
        "print(f\"Delta for American Call Option: {delta_american_call:.4f}\")\n"
      ],
      "metadata": {
        "colab": {
          "base_uri": "https://localhost:8080/"
        },
        "id": "7M6zPrSTFlc2",
        "outputId": "6182e985-91bf-4e49-c967-48abb4eaf1ba"
      },
      "execution_count": null,
      "outputs": [
        {
          "output_type": "stream",
          "name": "stdout",
          "text": [
            "Delta for American Call Option: 0.5719\n"
          ]
        }
      ]
    },
    {
      "cell_type": "code",
      "source": [
        "# Delta approximation for American Call\n",
        "epsilon = 1e-4\n",
        "S0_up = S0 * (1 + epsilon)\n",
        "S0_down = S0 * (1 - epsilon)\n",
        "\n",
        "# Re-run simulations with adjusted initial stock prices for delta calculation\n",
        "stock_paths_up = np.zeros((N, M + 1))\n",
        "stock_paths_down = np.zeros((N, M + 1))\n",
        "stock_paths_up[:, 0] = S0_up\n",
        "stock_paths_down[:, 0] = S0_down\n",
        "\n",
        "for t in range(1, M + 1):\n",
        "    z = np.random.standard_normal(N)\n",
        "    stock_paths_up[:, t] = stock_paths_up[:, t - 1] * np.exp((r - 0.5 * sigma**2) * dt + sigma * np.sqrt(dt) * z)\n",
        "    stock_paths_down[:, t] = stock_paths_down[:, t - 1] * np.exp((r - 0.5 * sigma**2) * dt + sigma * np.sqrt(dt) * z)\n",
        "\n",
        "# Calculate payoffs for delta scenarios\n",
        "payoff_up = np.maximum(stock_paths_up[:, -1] - K, 0)\n",
        "payoff_down = np.maximum(stock_paths_down[:, -1] - K, 0)\n",
        "\n",
        "# Discounted mean payoffs\n",
        "american_call_price_up = discount_factor * np.mean(payoff_up)\n",
        "american_call_price_down = discount_factor * np.mean(payoff_down)\n",
        "\n",
        "# Delta calculation\n",
        "delta_american_call = (american_call_price_up - american_call_price_down) / (S0_up - S0_down)\n",
        "print(f\"Delta for American Call Option: {delta_american_call:.4f}\")\n"
      ],
      "metadata": {
        "colab": {
          "base_uri": "https://localhost:8080/"
        },
        "id": "1Ea2JqXDGKv0",
        "outputId": "07a367c6-c924-47f1-a999-09b6ed639a19"
      },
      "execution_count": null,
      "outputs": [
        {
          "output_type": "stream",
          "name": "stdout",
          "text": [
            "Delta for American Call Option: 0.5751\n"
          ]
        }
      ]
    },
    {
      "cell_type": "code",
      "source": [],
      "metadata": {
        "id": "otaCWSIsbGqo"
      },
      "execution_count": null,
      "outputs": []
    },
    {
      "cell_type": "markdown",
      "source": [
        "###Vega Calculation\n",
        "Vega-- measures the sensitivity of the option price to changes in volatility. To estimate vega we will rerun the Monte Carlo simulations with a small adjustment in volatility and compute the difference in option prices."
      ],
      "metadata": {
        "id": "XNSRLJsOFrZV"
      }
    },
    {
      "cell_type": "code",
      "source": [
        "# Vega approximation for American Call\n",
        "sigma_up = sigma * (1 + epsilon)\n",
        "sigma_down = sigma * (1 - epsilon)\n",
        "\n",
        "# Re-run simulations with adjusted volatility for vega calculation\n",
        "stock_paths_sigma_up = np.zeros((N, M + 1))\n",
        "stock_paths_sigma_down = np.zeros((N, M + 1))\n",
        "stock_paths_sigma_up[:, 0] = S0\n",
        "stock_paths_sigma_down[:, 0] = S0\n",
        "\n",
        "for t in range(1, M + 1):\n",
        "    z = np.random.standard_normal(N)\n",
        "    stock_paths_sigma_up[:, t] = stock_paths_sigma_up[:, t - 1] * np.exp((r - 0.5 * sigma_up**2) * dt + sigma_up * np.sqrt(dt) * z)\n",
        "    stock_paths_sigma_down[:, t] = stock_paths_sigma_down[:, t - 1] * np.exp((r - 0.5 * sigma_down**2) * dt + sigma_down * np.sqrt(dt) * z)\n",
        "\n",
        "# Calculate payoffs for vega scenarios\n",
        "payoff_sigma_up = np.maximum(stock_paths_sigma_up[:, -1] - K, 0)\n",
        "payoff_sigma_down = np.maximum(stock_paths_sigma_down[:, -1] - K, 0)\n",
        "\n",
        "# Discounted mean payoffs\n",
        "american_call_price_sigma_up = discount_factor * np.mean(payoff_sigma_up)\n",
        "american_call_price_sigma_down = discount_factor * np.mean(payoff_sigma_down)\n",
        "\n",
        "# Vega calculation\n",
        "vega_american_call = (american_call_price_sigma_up - american_call_price_sigma_down) / (sigma_up - sigma_down)\n",
        "print(f\"Vega for American Call Option: {vega_american_call:.4f}\")\n"
      ],
      "metadata": {
        "colab": {
          "base_uri": "https://localhost:8080/"
        },
        "id": "FbVa351aFtZk",
        "outputId": "94310cc5-ece6-4c5d-8fbe-1316e196763a"
      },
      "execution_count": null,
      "outputs": [
        {
          "output_type": "stream",
          "name": "stdout",
          "text": [
            "Vega for American Call Option: 19.4905\n"
          ]
        }
      ]
    },
    {
      "cell_type": "code",
      "source": [
        "import numpy as np\n",
        "\n",
        "# Parameters\n",
        "S0 = 100         # Initial stock price\n",
        "K = 100          # Strike price\n",
        "r = 0.05         # Risk-free interest rate\n",
        "T = 0.25         # Time to maturity (3 months)\n",
        "sigma = 0.2      # Initial volatility\n",
        "N = 10000        # Number of simulations\n",
        "M = 63           # Steps (daily over 3 months)\n",
        "epsilon = 1e-2   # Small change for Vega calculation\n",
        "\n",
        "# Time increment\n",
        "dt = T / M\n",
        "discount_factor = np.exp(-r * dt)\n",
        "\n",
        "# Function to simulate stock paths and compute American call price with early exercise\n",
        "def simulate_american_call(S0, sigma):\n",
        "    stock_paths = np.zeros((N, M + 1))\n",
        "    stock_paths[:, 0] = S0\n",
        "\n",
        "    for t in range(1, M + 1):\n",
        "        z = np.random.standard_normal(N)\n",
        "        stock_paths[:, t] = stock_paths[:, t - 1] * np.exp((r - 0.5 * sigma**2) * dt + sigma * np.sqrt(dt) * z)\n",
        "\n",
        "    # Initialize option values at maturity\n",
        "    option_values = np.maximum(stock_paths[:, -1] - K, 0)\n",
        "\n",
        "    # Backward induction for early exercise\n",
        "    for t in range(M - 1, 0, -1):\n",
        "        in_the_money = stock_paths[:, t] > K\n",
        "        immediate_exercise = np.maximum(stock_paths[:, t] - K, 0)\n",
        "\n",
        "        if in_the_money.any():\n",
        "            X = stock_paths[in_the_money, t]\n",
        "            Y = option_values[in_the_money] * discount_factor\n",
        "            reg = np.polyfit(X, Y, 2)\n",
        "            continuation_value = np.polyval(reg, X)\n",
        "\n",
        "            option_values[in_the_money] = np.where(immediate_exercise[in_the_money] > continuation_value,\n",
        "                                                   immediate_exercise[in_the_money],\n",
        "                                                   option_values[in_the_money] * discount_factor)\n",
        "        else:\n",
        "            option_values = option_values * discount_factor\n",
        "\n",
        "    # Return discounted present value of the option\n",
        "    return np.mean(option_values) * np.exp(-r * T)\n",
        "\n",
        "# Calculate Vega using absolute adjustment\n",
        "np.random.seed(42)  # Consistent paths for comparison\n",
        "american_call_price_sigma_up = simulate_american_call(S0, sigma + epsilon)\n",
        "np.random.seed(42)  # Reset seed for identical paths\n",
        "american_call_price_sigma_down = simulate_american_call(S0, sigma - epsilon)\n",
        "\n",
        "# Vega calculation\n",
        "vega_american_call = (american_call_price_sigma_up - american_call_price_sigma_down) / (2 * epsilon)\n",
        "print(f\"Vega for American Call Option: {vega_american_call:.4f}\")\n"
      ],
      "metadata": {
        "colab": {
          "base_uri": "https://localhost:8080/"
        },
        "id": "KDhSa7CkHYkn",
        "outputId": "ca3841a4-8115-40e1-ee7d-cef3f21fba7a"
      },
      "execution_count": null,
      "outputs": [
        {
          "output_type": "stream",
          "name": "stdout",
          "text": [
            "Vega for American Call Option: 19.0601\n"
          ]
        }
      ]
    },
    {
      "cell_type": "markdown",
      "source": [
        "### Results\n",
        "\n",
        "we have obtained the following values for the American call option-after running the Monte Carlo simulations,\n",
        "- **American Call Option Price**= 4.39\n",
        "- **Delta for American Call Option**= 0.5719\n",
        "- **Vega for American Call Option**= 19.4905\n",
        "\n",
        "### Analysis of our  Results\n",
        "\n",
        "**American Call Option Price (4.39)-**\n",
        "\n",
        "This value will aligns with expectations for an at-the-money call option with moderate sensitivity to price changes given that the current stock price is close to the strike price. The price will reflects the flexibility of early exercise in American options, which adds a small premium compared to a European option with the same parameters.\n",
        "\n",
        "**Delta (0.5719)-**\n",
        "\n",
        "The Delta value of 0.5719 will indicates moderate sensitivity to the underlying stock price. This is (typical) for an at-the-money option-where there is a balanced probability of the option ending in or out of the money. This Delta will suggests that a 1unit increase in the underlying asset’s price will lead to a 0.5719-unit increase in the option price.\n",
        "\n",
        "**Vega (19.4905)-**\n",
        "\n",
        "The Vega value of 19.4905-indicates a high sensitivity to changes in volatility. This will mean that a 1% increase in volatility would increase the option price by about 19.49 units. High Vega values are for at-the-money options beacuse their value is more sensitive to volatility changes compared to deep in-the-money or out-of-the-money options. This sensitivity is valuable for managing exposure to market volatility.\n",
        "\n",
        "### Summary of Step 2 Analysis\n",
        "\n",
        "- **American Call Option Price**- Our Monte Carlo estimate of 4.39 will provides us  a reliable value for an at-the-money American call option with the added flexibility of early exercise.\n",
        "- **Delta**-The Delta of 0.5719-suggests moderate sensitivity to the underlying stock price as we expected for an at-the-money option.\n",
        "- **Vega**-A Vega of 19.4905-implies substantial sensitivity to changes in volatility-This'sa characteristic of options close to the strike price where volatility plays a significant role in their valuation.\n"
      ],
      "metadata": {
        "id": "qxicrrLSJzen"
      }
    },
    {
      "cell_type": "markdown",
      "source": [
        "**Team member B**\n",
        "\n",
        "we price an American Put option using Monte Carlo methods with a daily time-step under a Geometric Brownian Motion (GBM) process. To ensure accurate American-style option pricing (where early exercise is allowed), we'll implement the Longstaff-Schwartz algorithm, which is designed for optimal stopping in Monte Carlo simulations.\n",
        "\n",
        "(Q5): Calculate the American Put option price by simulating paths under the GBM process and applying the Longstaff-Schwartz method to decide on early exercise."
      ],
      "metadata": {
        "id": "ccVlOIruoDa7"
      }
    },
    {
      "cell_type": "code",
      "source": [
        "# Parameters specific to the American Put option pricing\n",
        "put_payoffs_american = np.zeros(num_simulations)\n",
        "\n",
        "# Initialize price paths for American Put option\n",
        "price_paths_american = np.zeros((num_simulations, days))\n",
        "price_paths_american[:, 0] = S0\n",
        "\n",
        "# Simulate paths under GBM for the American Put option\n",
        "for t in range(1, days):\n",
        "    price_paths_american[:, t] = price_paths_american[:, t - 1] * np.exp((r - 0.5 * sigma ** 2) * dt + sigma * np.sqrt(dt) * np.random.randn(num_simulations))\n",
        "\n",
        "# Initialize payoffs at maturity\n",
        "put_payoffs_american = np.maximum(K - price_paths_american[:, -1], 0)\n",
        "\n",
        "# Backward induction for early exercise using Longstaff-Schwartz\n",
        "for t in range(days - 2, 0, -1):\n",
        "    in_the_money = price_paths_american[:, t] < K  # In-the-money paths\n",
        "    payoff_if_exercised = np.maximum(K - price_paths_american[in_the_money, t], 0)\n",
        "    continuation_values = np.exp(-r * dt) * put_payoffs_american[in_the_money]\n",
        "\n",
        "    # Fit regression to estimate continuation values\n",
        "    if len(payoff_if_exercised) > 0:  # Only if there are paths in the money\n",
        "        regression = np.polyfit(price_paths_american[in_the_money, t], continuation_values, 2)\n",
        "        continuation_estimate = np.polyval(regression, price_paths_american[in_the_money, t])\n",
        "\n",
        "        # Exercise if the payoff is greater than the continuation value\n",
        "        exercise = payoff_if_exercised > continuation_estimate\n",
        "        put_payoffs_american[in_the_money] = np.where(exercise, payoff_if_exercised, continuation_values)\n",
        "\n",
        "# Discount the first time step to obtain the American Put price\n",
        "american_put_price_mc = np.exp(-r * dt) * np.mean(put_payoffs_american)\n",
        "american_put_price_mc\n"
      ],
      "metadata": {
        "colab": {
          "base_uri": "https://localhost:8080/"
        },
        "id": "22_Sy-zdogul",
        "outputId": "8c249414-47d6-4819-d81f-ea804b45b706"
      },
      "execution_count": null,
      "outputs": [
        {
          "output_type": "execute_result",
          "data": {
            "text/plain": [
              "3.450232587772447"
            ]
          },
          "metadata": {},
          "execution_count": 5
        }
      ]
    },
    {
      "cell_type": "markdown",
      "source": [
        "The calculated price for the American Put option using the Monte Carlo and Longstaff-Schwartz method is 3.45.\n",
        "\n",
        "Next, we estimate Delta by adjusting the initial stock price and observing the impact on the American put option price."
      ],
      "metadata": {
        "id": "8NouUyLipH8R"
      }
    },
    {
      "cell_type": "code",
      "source": [
        "# Adjust initial stock prices for Delta calculation\n",
        "price_paths_american_up = np.zeros((num_simulations, days))\n",
        "price_paths_american_down = np.zeros((num_simulations, days))\n",
        "price_paths_american_up[:, 0] = S_up\n",
        "price_paths_american_down[:, 0] = S_down\n",
        "\n",
        "# Simulate paths for adjusted initial stock prices\n",
        "for t in range(1, days):\n",
        "    price_paths_american_up[:, t] = price_paths_american_up[:, t - 1] * np.exp((r - 0.5 * sigma ** 2) * dt + sigma * np.sqrt(dt) * np.random.randn(num_simulations))\n",
        "    price_paths_american_down[:, t] = price_paths_american_down[:, t - 1] * np.exp((r - 0.5 * sigma ** 2) * dt + sigma * np.sqrt(dt) * np.random.randn(num_simulations))\n",
        "\n",
        "# Initialize payoffs for adjusted stock prices at maturity\n",
        "put_payoffs_american_up = np.maximum(K - price_paths_american_up[:, -1], 0)\n",
        "put_payoffs_american_down = np.maximum(K - price_paths_american_down[:, -1], 0)\n",
        "\n",
        "# Backward induction for adjusted stock prices using Longstaff-Schwartz\n",
        "for t in range(days - 2, 0, -1):\n",
        "    in_the_money_up = price_paths_american_up[:, t] < K\n",
        "    payoff_if_exercised_up = np.maximum(K - price_paths_american_up[in_the_money_up, t], 0)\n",
        "    continuation_values_up = np.exp(-r * dt) * put_payoffs_american_up[in_the_money_up]\n",
        "\n",
        "    if len(payoff_if_exercised_up) > 0:\n",
        "        regression_up = np.polyfit(price_paths_american_up[in_the_money_up, t], continuation_values_up, 2)\n",
        "        continuation_estimate_up = np.polyval(regression_up, price_paths_american_up[in_the_money_up, t])\n",
        "        exercise_up = payoff_if_exercised_up > continuation_estimate_up\n",
        "        put_payoffs_american_up[in_the_money_up] = np.where(exercise_up, payoff_if_exercised_up, continuation_values_up)\n",
        "\n",
        "    in_the_money_down = price_paths_american_down[:, t] < K\n",
        "    payoff_if_exercised_down = np.maximum(K - price_paths_american_down[in_the_money_down, t], 0)\n",
        "    continuation_values_down = np.exp(-r * dt) * put_payoffs_american_down[in_the_money_down]\n",
        "\n",
        "    if len(payoff_if_exercised_down) > 0:\n",
        "        regression_down = np.polyfit(price_paths_american_down[in_the_money_down, t], continuation_values_down, 2)\n",
        "        continuation_estimate_down = np.polyval(regression_down, price_paths_american_down[in_the_money_down, t])\n",
        "        exercise_down = payoff_if_exercised_down > continuation_estimate_down\n",
        "        put_payoffs_american_down[in_the_money_down] = np.where(exercise_down, payoff_if_exercised_down, continuation_values_down)\n",
        "\n",
        "# Discount the first time step to obtain American Put prices for adjusted initial stock prices\n",
        "american_put_price_up = np.exp(-r * dt) * np.mean(put_payoffs_american_up)\n",
        "american_put_price_down = np.exp(-r * dt) * np.mean(put_payoffs_american_down)\n",
        "\n",
        "# Calculate Delta for the American Put option\n",
        "delta_american_put = (american_put_price_up - american_put_price_down) / (2 * delta_S)\n",
        "delta_american_put\n"
      ],
      "metadata": {
        "colab": {
          "base_uri": "https://localhost:8080/"
        },
        "id": "lmBvVfBdpzWd",
        "outputId": "110ad6f6-8c0a-48c3-e9b7-c45f5e103546"
      },
      "execution_count": null,
      "outputs": [
        {
          "output_type": "execute_result",
          "data": {
            "text/plain": [
              "-0.44060924498660703"
            ]
          },
          "metadata": {},
          "execution_count": 6
        }
      ]
    },
    {
      "cell_type": "markdown",
      "source": [
        "The calculated Delta for the American Put option is -0.44.\n",
        "\n",
        "**Comment on Delta:**\n",
        "\n",
        "A negative Delta (typically between 0 and -1 for equity puts) implies that the option price will drop when the stock price increases, and vice versa. This makes sense for put options because they become more valuable as the stock price decreases. A positive Delta ( rare and unusual for put options) would imply the option price increases when the stock price increases, which is not the usual behavior for put options. For an American put option, you would expect the Delta to be negative. The reason is that as the stock price increases, the intrinsic value of the put (the benefit from exercising early) diminishes, leading to a decrease in its overall value. on the otherhand, if the stock price drops, the potential for profit from the put option increases, making it more valuable.\n",
        "\n",
        "Now for **Q7** we recalculate the option price with a shocked volatility parameter to estimate Vega."
      ],
      "metadata": {
        "id": "5SsjxVs0pOzE"
      }
    },
    {
      "cell_type": "code",
      "source": [
        "# Initialize paths for increased volatility for Vega calculation\n",
        "price_paths_american_sigma_new = np.zeros((num_simulations, days))\n",
        "price_paths_american_sigma_new[:, 0] = S0\n",
        "\n",
        "# Simulate paths under increased volatility\n",
        "for t in range(1, days):\n",
        "    price_paths_american_sigma_new[:, t] = price_paths_american_sigma_new[:, t - 1] * np.exp((r - 0.5 * sigma_new ** 2) * dt + sigma_new * np.sqrt(dt) * np.random.randn(num_simulations))\n",
        "\n",
        "# Initialize payoffs at maturity for increased volatility\n",
        "put_payoffs_american_sigma_new = np.maximum(K - price_paths_american_sigma_new[:, -1], 0)\n",
        "\n",
        "# Backward induction for American Put option with increased volatility using Longstaff-Schwartz\n",
        "for t in range(days - 2, 0, -1):\n",
        "    in_the_money_sigma_new = price_paths_american_sigma_new[:, t] < K\n",
        "    payoff_if_exercised_sigma_new = np.maximum(K - price_paths_american_sigma_new[in_the_money_sigma_new, t], 0)\n",
        "    continuation_values_sigma_new = np.exp(-r * dt) * put_payoffs_american_sigma_new[in_the_money_sigma_new]\n",
        "\n",
        "    if len(payoff_if_exercised_sigma_new) > 0:\n",
        "        regression_sigma_new = np.polyfit(price_paths_american_sigma_new[in_the_money_sigma_new, t], continuation_values_sigma_new, 2)\n",
        "        continuation_estimate_sigma_new = np.polyval(regression_sigma_new, price_paths_american_sigma_new[in_the_money_sigma_new, t])\n",
        "        exercise_sigma_new = payoff_if_exercised_sigma_new > continuation_estimate_sigma_new\n",
        "        put_payoffs_american_sigma_new[in_the_money_sigma_new] = np.where(exercise_sigma_new, payoff_if_exercised_sigma_new, continuation_values_sigma_new)\n",
        "\n",
        "# Discount the first time step to obtain American Put price for increased volatility\n",
        "american_put_price_sigma_new = np.exp(-r * dt) * np.mean(put_payoffs_american_sigma_new)\n",
        "\n",
        "# Calculate Vega for the American Put option\n",
        "vega_american_put = (american_put_price_sigma_new - american_put_price_mc) / (sigma_new - sigma)\n",
        "vega_american_put\n"
      ],
      "metadata": {
        "colab": {
          "base_uri": "https://localhost:8080/"
        },
        "id": "MA-8l1b1qGjK",
        "outputId": "e9aad3c6-26d9-4bc5-b5bf-af03aaad9757"
      },
      "execution_count": null,
      "outputs": [
        {
          "output_type": "execute_result",
          "data": {
            "text/plain": [
              "19.110512106215026"
            ]
          },
          "metadata": {},
          "execution_count": 7
        }
      ]
    },
    {
      "cell_type": "markdown",
      "source": [
        "The calculated Vega for the American Put option is 19.11."
      ],
      "metadata": {
        "id": "kEn9E9QgqOL4"
      }
    },
    {
      "cell_type": "markdown",
      "source": [
        "**Comments on the impact of volatility change on American put**\n",
        "\n",
        "The American put option's early exercise feature typically makes it more valuable than its European counterpart, especially for higher volatility scenarios. Higher volatility increases the likelihood of the option becoming deep in-the-money prior to maturity, offering the holder optimal exercise opportunities. As volatility expands the range of potential stock prices, it enhances the possibility of beneficial downside price movements for American put option holders. This heightened possibility is shown in the option price increase accompanying rising volatility."
      ],
      "metadata": {
        "id": "wJEYXRq1V6wx"
      }
    },
    {
      "cell_type": "markdown",
      "source": [
        "### Step 3: Hedging Under Black-Scholes for European Options and Pricing Different Exotic Instruments\n",
        "\n",
        "This step 3 here involves using the Black-Scholes model to price European options with specific moneyness levels and calculate their delta. Subsequently, we will then construct two portfolios based on these options and determine the appropriate hedging strategies.\n",
        "\n",
        "The Black-Scholes -This's is a model used to calculate the prices of European call and put options along with their sensitivities like Delta.\n",
        "\n",
        "The call and put option prices and Delta under the Black-Scholes model (Black & Scholes, 1973; Hull, 2018) are defined as below.\n",
        "\n",
        "**for a European Call Option**\n",
        "\n",
        "the Black-Scholes formula for the option price for an European call option on a non-dividend-paying stock=\n",
        "\n",
        "$$\n",
        "\\text{Call Price} = S_0 \\cdot N(d_1) - K \\cdot e^{-rT} \\cdot N(d_2)\n",
        "$$\n",
        "\n",
        "Where:\n",
        "\n",
        "- $S_0$: Current stock price\n",
        "- $K$: Strike price of the option\n",
        "- $r$: Risk-free interest rate\n",
        "- $T$: Time to expiration (in years)\n",
        "- $\\sigma$: Volatility of the stock price (annualized)\n",
        "- $N(d)$: Cumulative distribution function of the standard normal distribution\n",
        "\n",
        "$d_1$ and $d_2$ are intermediate calculations given by:\n",
        "\n",
        "$$\n",
        "d_1 = \\frac{\\ln \\left( \\frac{S_0}{K} \\right) + \\left( r + \\frac{\\sigma^2}{2} \\right) T}{\\sigma \\sqrt{T}}\n",
        "$$\n",
        "\n",
        "$$\n",
        "d_2 = d_1 - \\sigma \\sqrt{T}\n",
        "$$\n",
        "\n",
        "\n",
        "**For a European put option, the formula is:**\n",
        "\n",
        "$$\n",
        "\\text{Put Price} = K \\cdot e^{-rT} \\cdot N(-d_2) - S_0 \\cdot N(-d_1)\n",
        "$$\n",
        "\n",
        "The parameters $S_0$, $K$, $r$, $T$, $\\sigma$, and $d_1$ and $d_2$ are the same as those defined above.\n",
        "\n",
        "\n",
        "Again we know that the Delta of an option measures the sensitivity of the option price to changes in the underlying stock price (Hull, 2018).\n",
        "\n",
        "For a call option, Delta ($\\Delta_{\\text{call}}$) is:\n",
        "\n",
        "$$\n",
        "\\Delta_{\\text{call}} = N(d_1)\n",
        "$$\n",
        "\n",
        "For a put option, Delta ($\\Delta_{\\text{put}}$) is:\n",
        "\n",
        "$$\n",
        "\\Delta_{\\text{put}} = N(d_1) - 1\n",
        "$$\n",
        "\n",
        "Where:\n",
        "\n",
        "- $N(d_1)$: The cumulative probability up to $d_1$ under the standard normal distribution, representing the likelihood of the option expiring in the money.\n",
        "\n",
        ">>> ### Summary of Formulas\n",
        "\n",
        "- **Call Price**:\n",
        "  $$\n",
        "  \\text{Call Price} = S_0 \\cdot N(d_1) - K \\cdot e^{-rT} \\cdot N(d_2)\n",
        "  $$\n",
        "\n",
        " \\\n",
        "\n",
        "- **Put Price**:\n",
        "  $$\n",
        "  \\text{Put Price} = K \\cdot e^{-rT} \\cdot N(-d_2) - S_0 \\cdot N(-d_1)\n",
        "  $$\n",
        "\n",
        "  \\\n",
        "\n",
        "- **Call Delta**:\n",
        "  $$\n",
        "  \\Delta_{\\text{call}} = N(d_1)\n",
        "  $$\n",
        "\n",
        "  \\\n",
        "\n",
        "\n",
        "- **Put Delta**:\n",
        "  $$\n",
        "  \\Delta_{\\text{put}} = N(d_1) - 1\n",
        "  $$\n",
        "\n",
        "We derive these formulas from the Black-Scholes model-which assumes constant volatility, a known risk-free rate and continuous time and which makes it suitable for pricing European options that cannot be exercised early (Black & Scholes, 1973; Hull, 2018).\n",
        "\n",
        "\n",
        "### Part 1: Pricing European Call and Put Options with Different Moneyness Levels\n",
        "\n",
        "In this part we will price a European call option with 110% moneyness and a European put option with 95% moneyness and both with a maturity of 3 months.\n",
        "Lets apply The Black-Scholes formula to calculate the option prices and delta as->\n",
        "\n",
        "\n",
        "\n",
        "**Input Parameters:**\n",
        "\n",
        "- $S_0$: Current stock price\n",
        "- $K$: Strike price (adjusted for moneyness)\n",
        "- $T$: Time to maturity (3 months, or 0.25 years)\n",
        "- $r$: Risk-free interest rate\n",
        "- $\\sigma$: Volatility\n",
        "\n",
        "\n"
      ],
      "metadata": {
        "id": "UNNvvAlBJmOh"
      }
    },
    {
      "cell_type": "markdown",
      "source": [
        "**Pricing and Delta Calculation**"
      ],
      "metadata": {
        "id": "K7QmG6rRonRp"
      }
    },
    {
      "cell_type": "code",
      "source": [
        "import numpy as np\n",
        "from scipy.stats import norm\n",
        "\n",
        "# Parameters\n",
        "S0 = 100           # Initial stock price\n",
        "r = 0.05           # Risk-free rate\n",
        "sigma = 0.2        # Volatility\n",
        "T = 0.25           # Time to maturity (3 months)\n",
        "\n",
        "# 1. European Call Option with 110% Moneyness\n",
        "K_call = S0 * 1.1  # Strike price for the call option (110% moneyness)\n",
        "d1_call = (np.log(S0 / K_call) + (r + 0.5 * sigma ** 2) * T) / (sigma * np.sqrt(T))\n",
        "d2_call = d1_call - sigma * np.sqrt(T)\n",
        "call_price = S0 * norm.cdf(d1_call) - K_call * np.exp(-r * T) * norm.cdf(d2_call)\n",
        "delta_call = norm.cdf(d1_call)\n",
        "\n",
        "# 2. European Put Option with 95% Moneyness\n",
        "K_put = S0 * 0.95  # Strike price for the put option (95% moneyness)\n",
        "d1_put = (np.log(S0 / K_put) + (r + 0.5 * sigma ** 2) * T) / (sigma * np.sqrt(T))\n",
        "d2_put = d1_put - sigma * np.sqrt(T)\n",
        "put_price = K_put * np.exp(-r * T) * norm.cdf(-d2_put) - S0 * norm.cdf(-d1_put)\n",
        "delta_put = norm.cdf(d1_put) - 1  # For a put option, delta = N(d1) - 1\n",
        "\n",
        "# Display results\n",
        "print(f\"European Call Option Price with 110% Moneyness: {call_price:.2f}\")\n",
        "print(f\"Delta for European Call Option with 110% Moneyness: {delta_call:.4f}\\n\")\n",
        "\n",
        "print(f\"European Put Option Price with 95% Moneyness: {put_price:.2f}\")\n",
        "print(f\"Delta for European Put Option with 95% Moneyness: {delta_put:.4f}\\n\")\n"
      ],
      "metadata": {
        "colab": {
          "base_uri": "https://localhost:8080/"
        },
        "id": "Xy2uloZwJlWO",
        "outputId": "d2ca8f68-6a63-4e2b-c73b-1ef91b226519"
      },
      "execution_count": null,
      "outputs": [
        {
          "output_type": "stream",
          "name": "stdout",
          "text": [
            "European Call Option Price with 110% Moneyness: 1.19\n",
            "Delta for European Call Option with 110% Moneyness: 0.2183\n",
            "\n",
            "European Put Option Price with 95% Moneyness: 1.53\n",
            "Delta for European Put Option with 95% Moneyness: -0.2457\n",
            "\n"
          ]
        }
      ]
    },
    {
      "cell_type": "code",
      "source": [
        "import numpy as np\n",
        "from scipy.stats import norm\n",
        "\n",
        "# Parameters\n",
        "S0 = 100           # Initial stock price\n",
        "r = 0.05           # Risk-free interest rate\n",
        "sigma = 0.2        # Volatility\n",
        "T = 0.25           # Time to maturity (3 months)\n",
        "\n",
        "# 1. European Call Option with 110% Moneyness\n",
        "K_call = S0 * 1.1  # Strike price for the call option (110% moneyness)\n",
        "d1_call = (np.log(S0 / K_call) + (r + 0.5 * sigma ** 2) * T) / (sigma * np.sqrt(T))\n",
        "d2_call = d1_call - sigma * np.sqrt(T)\n",
        "call_price = S0 * norm.cdf(d1_call) - K_call * np.exp(-r * T) * norm.cdf(d2_call)\n",
        "delta_call = norm.cdf(d1_call)\n",
        "\n",
        "# 2. European Put Option with 95% Moneyness\n",
        "K_put = S0 * 0.95  # Strike price for the put option (95% moneyness)\n",
        "d1_put = (np.log(S0 / K_put) + (r + 0.5 * sigma ** 2) * T) / (sigma * np.sqrt(T))\n",
        "d2_put = d1_put - sigma * np.sqrt(T)\n",
        "put_price = K_put * np.exp(-r * T) * norm.cdf(-d2_put) - S0 * norm.cdf(-d1_put)\n",
        "delta_put = norm.cdf(d1_put) - 1  # For a put option, delta = N(d1) - 1\n",
        "\n",
        "# Display results\n",
        "print(f\"European Call Option Price with 110% Moneyness: {call_price:.2f}\")\n",
        "print(f\"Delta for European Call Option with 110% Moneyness: {delta_call:.4f}\\n\")\n",
        "\n",
        "print(f\"European Put Option Price with 95% Moneyness: {put_price:.2f}\")\n",
        "print(f\"Delta for European Put Option with 95% Moneyness: {delta_put:.4f}\\n\")\n"
      ],
      "metadata": {
        "colab": {
          "base_uri": "https://localhost:8080/"
        },
        "id": "NESgLryDMYOm",
        "outputId": "c00e464c-b0e4-4b1b-946f-3be00235b15b"
      },
      "execution_count": null,
      "outputs": [
        {
          "output_type": "stream",
          "name": "stdout",
          "text": [
            "European Call Option Price with 110% Moneyness: 1.19\n",
            "Delta for European Call Option with 110% Moneyness: 0.2183\n",
            "\n",
            "European Put Option Price with 95% Moneyness: 1.53\n",
            "Delta for European Put Option with 95% Moneyness: -0.2457\n",
            "\n"
          ]
        }
      ]
    },
    {
      "cell_type": "markdown",
      "source": [
        "### Our Results and Interpreting them:\n",
        "\n",
        "**European Call Option with 110% Moneyness:**\n",
        "- Price= 1.19\n",
        "- Delta=0.2183\n",
        "\n",
        "**European Put Option with 95% Moneyness:**\n",
        "- Price= 1.52\n",
        "- Delta= -0.2457\n",
        "\n",
        "Our output/results confirm that out-of-the-money call options have lower prices and deltas, while in-the-money put options reflect higher values. These results are consistent with theoretical expectations in options pricing (Hull, 2018; Black & Scholes, 1973).\n",
        "\n",
        "### Part 2: Building and Hedging Portfolios Based on Moneyness Levels\n",
        "\n",
        "we willl construct and hedge two portfolios using our  calculated option prices and deltas,\n",
        "\n",
        "- **Portfolio 1**: here we'll be Buying one European call with 110% moneyness and one European put with 95% moneyness.\n",
        "- **Portfolio 2**: while here we will be Buying one European call with 110% moneyness and selling one European put with 95% moneyness.\n",
        "\n",
        "#### Portfolio 1: Buying Both Call and Put Options (Straddle Position)\n",
        "\n",
        "This portfolio will combines a long position in both the call and put options forming a straddle that typically profits from volatility rather than price directionality.\n",
        "\n",
        "$$\n",
        "\\Delta_{\\text{Portfolio 1}} = \\Delta_{\\text{Call}} + \\Delta_{\\text{Put}} = 0.2183 + (-0.2457) = -0.0275\n",
        "$$\n",
        "\n",
        "To hedge this portfolio-we will aim to make it delta-neutral by purchasing 0.0275 units of the underlying asset. That is-the hedge strategy would be to buy 0.0275 units of the underlying asset to make the portfolio delta-neutral.\n",
        "\n",
        "\n"
      ],
      "metadata": {
        "id": "qgMzdNE-JqrZ"
      }
    },
    {
      "cell_type": "markdown",
      "source": [
        "### Part 2: Constructing and Hedging Portfolios Based on Moneyness Levels\n",
        "\n",
        "Hre we'l examine two portfolios-we have constructed using European call and put options with different moneyness levels.\n",
        "\n",
        "- **Portfolio 1**= Comprised of one long European call option with 110% moneyness and one long European put option with 95% moneyness.\n",
        "- **Portfolio 2**=Comprised of one long European call option with 110% moneyness and one short European put option with 95% moneyness.\n",
        "\n",
        "we will calculate the initial portfolio values and aggregate Deltas, enabling us to determine the optimal hedging strategies Using the Black-Scholes model,.\n",
        "\n",
        "### Results\n",
        "\n",
        "we have calculated thevalues for each portfolio are as follows-\n",
        "\n",
        "- **Portfolio 1 (Long Call 110% + Long Put 95%)**:\n",
        "  - Our Initial Value: 2.72\n",
        "  - The Aggregate Delta: -0.0274\n",
        "  - Our  Hedging Strategy: Buy 0.0274 units of the underlying asset\n",
        "\n",
        "- **Portfolio 2 (Long Call 110% + Short Put 95%)**:\n",
        "  - Here we have the Initial Value= -0.34\n",
        "  - TheAggregate Delta= 0.4640\n",
        "  - The Hedging Strategy=Short-sell 0.4640 units of the underlying asset\n",
        "\n",
        "### Lets Analysis\n",
        "\n",
        "**Portfolio 1- Long Call and Long Put**\n",
        "\n",
        "- **Initial Value**-The initial value of 2.72 represents-the total cost of acquiring both the call and put options at the specified moneyness levels. This positive value will indicates an outlay of capital and is reflecting the cost of purchasing both options.\n",
        "- **Aggregate Delta (-0.0274)**=The aggregate Delta of -0.0274-indicates that the portfolio has a slight negative exposure to the underlying asset’s price. This will means that the portfolio will gain marginally if the asset price decreases and lose slightly if the asset price increases.\n",
        "- **Hedging Strategy**=To neutralize this minor negative Delta-we will apply a long hedge by purchasing 0.0274 units of the underlying asset. This position will counteracts the portfolio’s sensitivity to upward movements in the stock price and ensuring a more Delta-neutral stance.\n",
        "\n",
        "**Portfolio 2: Long Call and Short Put**\n",
        "\n",
        "- **Initial Value**=The initial value of -0.34 suggests a net credit- this is meaning taht the portfolio generates a premium due to the proceeds from selling the put option (which has a higher price than the call option). This value will signifies that the portfolio structure benefits from the initial inflow of capital.\n",
        "- **Aggregate Delta (0.4640)**=The positive Delta of 0.4640-indicates a substantial positive sensitivity to changes in the underlying stock price. This willl mean that the portfolio will appreciate if the stock price rises and depreciate if it falls.\n",
        "- **Hedging Strategy**=To offset the positive Delta exposure-we\"ll apply a short hedge by short-selling 0.4640 units of the underlying asset. This action mitigates the portfolio’s sensitivity to the underlying asset’s price, creating a more Delta-neutral position.\n",
        "\n",
        "### Lets do Interpretation\n",
        "\n",
        "The construction and analysis of these portfolios has  demonstrated to us the strategic application of options with different moneyness levels to manage directional exposure. In both cases- theDelta hedging is employed to neutralize the portfolios' sensitivity to underlying price movements.\n",
        "\n",
        "- **Portfolio 1** We have structured it as a balanced position with both call and put options-resulting in a nearly Delta-neutral position. The minor negative Delta will indicate that the portfolio requires only a small hedge in the form of a long position in the underlying asset to achieve a neutral exposure. This is to mean that this structure is suitable for investors seeking a minimal directional bias with the flexibility of benefiting from price movements in either direction.\n",
        "\n",
        "- **Portfolio 2**-thisby contrast -introduces a short put position, which inversely affects the portfolio’s directional exposure. Thisresultant positive Delta will necessitates a larger short position in the underlying asset to hedge against upward price sensitivity. This structure here is beneficial for traders aiming to collect premiums from the put option sale while maintaining limited exposure to downward price movements through Delta hedging.\n",
        "\n",
        "In summary, these both portfolios illustrate distinct approaches to managing price sensitivity through options with varied moneyness levels.\n",
        "Delta hedging-is effectively used in each portfolio to control the directional risk which making these strategies adaptable for different market views and risk preferences.\n"
      ],
      "metadata": {
        "id": "_wCGHKitPWAW"
      }
    },
    {
      "cell_type": "code",
      "source": [],
      "metadata": {
        "id": "5tXC05BYPU6n"
      },
      "execution_count": null,
      "outputs": []
    },
    {
      "cell_type": "markdown",
      "source": [
        "**Hedging**"
      ],
      "metadata": {
        "id": "UIv129t_qMnK"
      }
    },
    {
      "cell_type": "code",
      "source": [
        "import numpy as np\n",
        "\n",
        "# Prices and Deltas from Part 1\n",
        "call_price_110 = 1.19\n",
        "delta_call_110 = 0.2183\n",
        "put_price_95 = 1.53\n",
        "delta_put_95 = -0.2457\n",
        "\n",
        "# Portfolio 1: Buy one European call (110% moneyness) and buy one European put (95% moneyness)\n",
        "portfolio1_value = call_price_110 + put_price_95\n",
        "portfolio_delta_1 = delta_call_110 + delta_put_95\n",
        "hedging_strategy_1 = \"Short-sell\" if portfolio_delta_1 > 0 else \"Buy\"\n",
        "\n",
        "# Portfolio 2: Buy one European call (110% moneyness) and sell one European put (95% moneyness)\n",
        "portfolio2_value = call_price_110 - put_price_95\n",
        "portfolio_delta_2 = delta_call_110 - delta_put_95\n",
        "hedging_strategy_2 = \"Short-sell\" if portfolio_delta_2 > 0 else \"Buy\"\n",
        "\n",
        "# Display results for Portfolio 1\n",
        "print(\"Portfolio 1 (Buying Call 110% + Buying Put 95%):\")\n",
        "print(f\"Initial Value: {portfolio1_value:.2f}\")\n",
        "print(f\"Delta for Hedging: {portfolio_delta_1:.4f}\")\n",
        "print(f\"Hedging Strategy: {hedging_strategy_1} {abs(portfolio_delta_1):.4f} units of the underlying asset\\n\")\n",
        "\n",
        "# Display results for Portfolio 2\n",
        "print(\"Portfolio 2 (Buying Call 110% + Selling Put 95%):\")\n",
        "print(f\"Initial Value: {portfolio2_value:.2f}\")\n",
        "print(f\"Delta for Hedging: {portfolio_delta_2:.4f}\")\n",
        "print(f\"Hedging Strategy: {hedging_strategy_2} {abs(portfolio_delta_2):.4f} units of the underlying asset\\n\")\n"
      ],
      "metadata": {
        "colab": {
          "base_uri": "https://localhost:8080/"
        },
        "id": "F8euf2XFNdz1",
        "outputId": "e1ffb819-8672-4f4f-eea7-7916cffb1d2a"
      },
      "execution_count": null,
      "outputs": [
        {
          "output_type": "stream",
          "name": "stdout",
          "text": [
            "Portfolio 1 (Buying Call 110% + Buying Put 95%):\n",
            "Initial Value: 2.72\n",
            "Delta for Hedging: -0.0274\n",
            "Hedging Strategy: Buy 0.0274 units of the underlying asset\n",
            "\n",
            "Portfolio 2 (Buying Call 110% + Selling Put 95%):\n",
            "Initial Value: -0.34\n",
            "Delta for Hedging: 0.4640\n",
            "Hedging Strategy: Short-sell 0.4640 units of the underlying asset\n",
            "\n"
          ]
        }
      ]
    },
    {
      "cell_type": "markdown",
      "source": [],
      "metadata": {
        "id": "ZjMd2L5mOseD"
      }
    },
    {
      "cell_type": "markdown",
      "source": [
        "### Portfolio 2: Buying Call and Selling Put (Synthetic Long Position)\n",
        "\n",
        "This portfolio will simulates a synthetic long position with an overall positive delta.\n",
        "\n",
        "$$\n",
        "\\Delta_{\\text{Portfolio 2}} = \\Delta_{\\text{Call}} - \\Delta_{\\text{Put}} = 0.2183 - (-0.2457) = 0.4640\n",
        "$$\n",
        "\n",
        "The hedge strategy will be to short-sell 0.4640 units of the underlying asset to achieve delta neutrality.\n"
      ],
      "metadata": {
        "id": "jRFaUJ3KNuZL"
      }
    },
    {
      "cell_type": "markdown",
      "source": [
        "### Analysis and Interpretation\n",
        "\n",
        "**Portfolio 1: Buying Both Call and Put Options**\n",
        "\n",
        " **Delta of Portfolio**: -0.0275\n",
        "- This portfolio has a slightly negative delta- this indicates a minor sensitivity to price changes in the underlying asset. A small increase in the asset’s price will decrease the portfolio's value while on the other hand a decrease will increase it slightly.\n",
        "- **Hedging Strategy**:- To neutralize this sensitivity= we will buy 0.0275 units of the underlying asset, making the portfolio delta-neutral.\n",
        "\n",
        "**Portfolio 2: Buying Call and Selling Put Options**\n",
        "\n",
        " **Delta of Portfolio**: 0.4640\n",
        "-  This portfolio has a positive delta-indicating that it is positively sensitive to changes in the underlying asset's price. if we have an increase in the asset's price then we will increase the portfolio’s value.\n",
        "- **Hedging Strategy**: To counterbalance this positive delta we will need to short-sell 0.4640 units of the underlying asset and thus we'll be achieving a delta-neutral\n",
        "position.\n",
        "\n",
        "### Summary of the Hedging Strategies:\n",
        "\n",
        "- For **Portfolio 1** (which ahs a near-zero negative delta)- buying a small amount of the underlying asset will balances the portfolio and in turn protecting it from minor fluctuations in the underlying asset's price.\n",
        "\n",
        "- For **Portfolio 2** (here with a positive delta)- short-selling a portion of the underlying asset will and effectively balance the portfolio and in turns reducing its sensitivity to changes in the underlying price.\n",
        "\n",
        "These hedging strategies will work aiming to make both portfolios \"delta-neutral,\"  and this is to mean that their values will be less impacted by small changes in the underlying asset's price.\n",
        "\n",
        "\n",
        "### Discussion\n",
        "\n",
        "The calculated deltas and hedging strategies will reflect the behavior of options under the Black-Scholes model and of which is often used for European options coz of its assumptions of continuous hedging and the absence of early exercise (Hull, 2018).\n",
        "\n",
        "When we adjust the portfolio composition based on delta values, we will create  a delta-neutral strategies that mitigate exposure to the underlying asset's price movements (Black & Scholes, 1973)."
      ],
      "metadata": {
        "id": "AcajxZxZQ1JS"
      }
    },
    {
      "cell_type": "markdown",
      "source": [
        "\n",
        "\n",
        "### Conclusion\n",
        "\n",
        "Our  step here validates the pricing and delta calculations for European options with adjusted moneyness levels and demonstrates the application of delta-neutral hedging for two distinct portfolios. The strategies formulated will ensure that each portfolio remains minimally affected by small price changes in the underlying asset.\n",
        "\n",
        "These findings are aligning with  hedging principles- where portfolio delta values close to zero (Portfolio 1) reflect a neutral stance and while positive delta values (Portfolio 2) require short positions for neutrality. Such and thes strategies are fundamental in managing exposure in options trading and are consistent with standard options pricing and hedging models (Black & Scholes, 1973; Hull, 2018).\n"
      ],
      "metadata": {
        "id": "eNTls7zbONFc"
      }
    },
    {
      "cell_type": "markdown",
      "source": [
        "**Member B**\n",
        "\n",
        "Here in Step 3, we will price an Up-and-Out (UAO) Barrier Option using Monte Carlo methods under a Black-Scholes framework. This barrier option is ATM with an up-and-out barrier set at 141, meaning the option becomes worthless if the price of the underlying asset reaches or exceeds this barrier level during the option's life.\n",
        "\n",
        "Next using the given parameters , we simulate daily daily price paths and check if any price exceeds the barrier level. If so, that path's payoff is set to zero. Otherwise, we compute the option payoff as max(ST−K, 0).\n",
        "\n",
        "Then **hedging under Black-Scholes** we implement a simple Black-Scholes hedge by calculating Delta for this UAO option."
      ],
      "metadata": {
        "id": "e_0TRptttkYt"
      }
    },
    {
      "cell_type": "code",
      "source": [
        "# Parameters for the Up-and-Out Barrier Option\n",
        "S0_UAO = 120  # Initial stock price\n",
        "K_UAO = 120  # ATM strike price\n",
        "r_UAO = 0.06  # Risk-free interest rate\n",
        "sigma_UAO = 0.30  # Volatility (30%)\n",
        "T_UAO = 8 / 12  # Time to maturity in years (8 months)\n",
        "days_UAO = int(T_UAO * 252)  # Daily steps for 8 months\n",
        "barrier_UAO = 141  # Up-and-Out barrier level\n",
        "\n",
        "# Monte Carlo simulation for Up-and-Out Barrier option pricing\n",
        "np.random.seed(0)\n",
        "dt_UAO = 1 / 252  # Daily time step for 252 trading days in a year\n",
        "\n",
        "# Initialize price paths\n",
        "price_paths_UAO = np.zeros((num_simulations, days_UAO))\n",
        "price_paths_UAO[:, 0] = S0_UAO\n",
        "\n",
        "# Simulate paths under GBM with daily steps\n",
        "for t in range(1, days_UAO):\n",
        "    price_paths_UAO[:, t] = price_paths_UAO[:, t - 1] * np.exp((r_UAO - 0.5 * sigma_UAO ** 2) * dt_UAO + sigma_UAO * np.sqrt(dt_UAO) * np.random.randn(num_simulations))\n",
        "\n",
        "# Check if any path breaches the barrier and calculate payoffs\n",
        "breached_barrier = (price_paths_UAO >= barrier_UAO).any(axis=1)\n",
        "payoffs_UAO = np.where(breached_barrier, 0, np.maximum(price_paths_UAO[:, -1] - K_UAO, 0))\n",
        "\n",
        "# Discount the payoffs to present value\n",
        "UAO_option_price_mc = np.exp(-r_UAO * T_UAO) * np.mean(payoffs_UAO)\n",
        "UAO_option_price_mc\n"
      ],
      "metadata": {
        "colab": {
          "base_uri": "https://localhost:8080/"
        },
        "id": "o7Bj5gWSuYJq",
        "outputId": "d07acbcc-4e4f-49b3-e4f7-35fdfcc0ab07"
      },
      "execution_count": null,
      "outputs": [
        {
          "output_type": "execute_result",
          "data": {
            "text/plain": [
              "0.7088518137656253"
            ]
          },
          "metadata": {},
          "execution_count": 8
        }
      ]
    },
    {
      "cell_type": "markdown",
      "source": [
        "The calculated price for the Up-and-Out Barrier option using Monte Carlo simulation is 0.71."
      ],
      "metadata": {
        "id": "5NVd7o5uuajq"
      }
    },
    {
      "cell_type": "code",
      "source": [
        "# Re-import necessary libraries and redefine parameters due to environment reset\n",
        "import numpy as np\n",
        "\n",
        "# Parameters for the Up-and-Out Barrier Option\n",
        "S0_UAO = 120  # Initial stock price\n",
        "K_UAO = 120  # ATM strike price\n",
        "r_UAO = 0.06  # Risk-free interest rate\n",
        "sigma_UAO = 0.30  # Volatility (30%)\n",
        "T_UAO = 8 / 12  # Time to maturity in years (8 months)\n",
        "days_UAO = int(T_UAO * 252)  # Daily steps for 8 months\n",
        "barrier_UAO = 141  # Up-and-Out barrier level\n",
        "num_simulations = 100000  # Number of simulations for Monte Carlo\n",
        "\n",
        "# Small change in initial stock price to estimate Delta\n",
        "delta_S_UAO = 1\n",
        "S_up_UAO = S0_UAO + delta_S_UAO  # Slightly increased initial price\n",
        "S_down_UAO = S0_UAO - delta_S_UAO  # Slightly decreased initial price\n",
        "\n",
        "# Monte Carlo simulation for Delta calculation of Up-and-Out Barrier Option\n",
        "dt_UAO = 1 / 252  # Daily time step for 252 trading days in a year\n",
        "np.random.seed(0)\n",
        "\n",
        "# Initialize price paths for Delta calculation with adjusted initial prices\n",
        "price_paths_UAO_up = np.zeros((num_simulations, days_UAO))\n",
        "price_paths_UAO_down = np.zeros((num_simulations, days_UAO))\n",
        "price_paths_UAO_up[:, 0] = S_up_UAO\n",
        "price_paths_UAO_down[:, 0] = S_down_UAO\n",
        "\n",
        "# Simulate paths for both slightly increased and decreased initial stock prices\n",
        "for t in range(1, days_UAO):\n",
        "    price_paths_UAO_up[:, t] = price_paths_UAO_up[:, t - 1] * np.exp((r_UAO - 0.5 * sigma_UAO ** 2) * dt_UAO + sigma_UAO * np.sqrt(dt_UAO) * np.random.randn(num_simulations))\n",
        "    price_paths_UAO_down[:, t] = price_paths_UAO_down[:, t - 1] * np.exp((r_UAO - 0.5 * sigma_UAO ** 2) * dt_UAO + sigma_UAO * np.sqrt(dt_UAO) * np.random.randn(num_simulations))\n",
        "\n",
        "# Check for barrier breaches and calculate payoffs for adjusted paths\n",
        "breached_barrier_up = (price_paths_UAO_up >= barrier_UAO).any(axis=1)\n",
        "breached_barrier_down = (price_paths_UAO_down >= barrier_UAO).any(axis=1)\n",
        "\n",
        "payoffs_UAO_up = np.where(breached_barrier_up, 0, np.maximum(price_paths_UAO_up[:, -1] - K_UAO, 0))\n",
        "payoffs_UAO_down = np.where(breached_barrier_down, 0, np.maximum(price_paths_UAO_down[:, -1] - K_UAO, 0))\n",
        "\n",
        "# Discounted option prices for increased and decreased initial stock prices\n",
        "UAO_option_price_up = np.exp(-r_UAO * T_UAO) * np.mean(payoffs_UAO_up)\n",
        "UAO_option_price_down = np.exp(-r_UAO * T_UAO) * np.mean(payoffs_UAO_down)\n",
        "\n",
        "# Calculate Delta for the Up-and-Out Barrier option\n",
        "delta_UAO = (UAO_option_price_up - UAO_option_price_down) / (2 * delta_S_UAO)\n",
        "delta_UAO\n"
      ],
      "metadata": {
        "colab": {
          "base_uri": "https://localhost:8080/"
        },
        "id": "bxEQh_zhufLn",
        "outputId": "3140f549-b06d-4207-df91-59a6a210a92b"
      },
      "execution_count": null,
      "outputs": [
        {
          "output_type": "execute_result",
          "data": {
            "text/plain": [
              "-0.01912819805686644"
            ]
          },
          "metadata": {},
          "execution_count": 9
        }
      ]
    },
    {
      "cell_type": "markdown",
      "source": [
        "The calculated Delta for the Up-and-Out Barrier option is -0.0191."
      ],
      "metadata": {
        "id": "1or9xA1bu-gk"
      }
    },
    {
      "cell_type": "code",
      "source": [
        "# Re-import necessary libraries and reconstruct the DataFrame due to environment reset\n",
        "import pandas as pd\n",
        "\n",
        "# Reconstruct the results DataFrame\n",
        "results = {\n",
        "    \"Q #\": [5, 5, 6, 7, 5, 6, 7],\n",
        "    \"Type\": [\"ATM Call\", \"ATM Put\", \"ATM Call\", \"ATM Call\", \"ATM Put\", \"ATM Put\", \"ATM Put\"],\n",
        "    \"Exer\": [\"Eur\", \"Eur\", \"Eur\", \"Eur\", \"Amer\", \"Amer\", \"Amer\"],\n",
        "    \"GWP1 Method\": [\"Binomial\", \"Binomial\", \"Binomial\", \"Binomial\", \"Trinomial\", \"Trinomial\", \"Trinomial\"],\n",
        "    \"GWP2 Method\": [\"MC\", \"MC\", \"MC\", \"MC\", \"MC\", \"MC\", \"MC\"],\n",
        "    \"GWP1 Price\": [None] * 7,  # Placeholder for GWP1 prices\n",
        "    \"GWP2 Price\": [4.58, 3.34, 0.581, 19.18, 3.47, -0.438, 20.41],\n",
        "    \"%Diff\": [None] * 7  # Placeholder for %Diff calculation\n",
        "}\n",
        "\n",
        "# Convert to DataFrame\n",
        "results_df = pd.DataFrame(results)\n",
        "\n",
        "# Assign GWP1 prices individually based on the user-provided GWP1 notebook data for accuracy\n",
        "results_df.loc[(results_df[\"Q #\"] == 5) & (results_df[\"Type\"] == \"ATM Call\") & (results_df[\"Exer\"] == \"Eur\"), \"GWP1 Price\"] = 5.00\n",
        "results_df.loc[(results_df[\"Q #\"] == 5) & (results_df[\"Type\"] == \"ATM Put\") & (results_df[\"Exer\"] == \"Eur\"), \"GWP1 Price\"] = 3.50\n",
        "results_df.loc[(results_df[\"Q #\"] == 6) & (results_df[\"Type\"] == \"ATM Call\"), \"GWP1 Price\"] = 0.60\n",
        "results_df.loc[(results_df[\"Q #\"] == 7) & (results_df[\"Type\"] == \"ATM Call\"), \"GWP1 Price\"] = 20.00\n",
        "results_df.loc[(results_df[\"Q #\"] == 5) & (results_df[\"Type\"] == \"ATM Put\") & (results_df[\"Exer\"] == \"Amer\"), \"GWP1 Price\"] = 3.20\n",
        "results_df.loc[(results_df[\"Q #\"] == 6) & (results_df[\"Type\"] == \"ATM Put\") & (results_df[\"Exer\"] == \"Amer\"), \"GWP1 Price\"] = -0.45\n",
        "results_df.loc[(results_df[\"Q #\"] == 7) & (results_df[\"Type\"] == \"ATM Put\") & (results_df[\"Exer\"] == \"Amer\"), \"GWP1 Price\"] = 21.00\n",
        "\n",
        "# Recalculate %Diff column with updated GWP1 prices\n",
        "results_df[\"%Diff\"] = results_df.apply(\n",
        "    lambda row: f\"{((row['GWP1 Price'] - row['GWP2 Price']) / row['GWP1 Price'] * 100):.2f}%\"\n",
        "    if row['GWP1 Price'] and row['GWP2 Price'] else None, axis=1\n",
        ")\n",
        "\n",
        "# Filter the DataFrame to display only the rows relevant to the Put options we worked on\n",
        "put_results_df = results_df[results_df[\"Type\"] == \"ATM Put\"].reset_index(drop=True)\n",
        "\n",
        "put_results_df\n"
      ],
      "metadata": {
        "colab": {
          "base_uri": "https://localhost:8080/",
          "height": 175
        },
        "id": "LMWLZWaX7aJF",
        "outputId": "86ef7bca-614a-46a3-b7a5-ec7945222989"
      },
      "execution_count": null,
      "outputs": [
        {
          "output_type": "execute_result",
          "data": {
            "text/plain": [
              "   Q #     Type  Exer GWP1 Method GWP2 Method GWP1 Price  GWP2 Price   %Diff\n",
              "0    5  ATM Put   Eur    Binomial          MC        3.5       3.340   4.57%\n",
              "1    5  ATM Put  Amer   Trinomial          MC        3.2       3.470  -8.44%\n",
              "2    6  ATM Put  Amer   Trinomial          MC      -0.45      -0.438   2.67%\n",
              "3    7  ATM Put  Amer   Trinomial          MC       21.0      20.410   2.81%"
            ],
            "text/html": [
              "\n",
              "  <div id=\"df-a3a7ec09-6612-4b9c-a5a0-e4a5c808f2c4\" class=\"colab-df-container\">\n",
              "    <div>\n",
              "<style scoped>\n",
              "    .dataframe tbody tr th:only-of-type {\n",
              "        vertical-align: middle;\n",
              "    }\n",
              "\n",
              "    .dataframe tbody tr th {\n",
              "        vertical-align: top;\n",
              "    }\n",
              "\n",
              "    .dataframe thead th {\n",
              "        text-align: right;\n",
              "    }\n",
              "</style>\n",
              "<table border=\"1\" class=\"dataframe\">\n",
              "  <thead>\n",
              "    <tr style=\"text-align: right;\">\n",
              "      <th></th>\n",
              "      <th>Q #</th>\n",
              "      <th>Type</th>\n",
              "      <th>Exer</th>\n",
              "      <th>GWP1 Method</th>\n",
              "      <th>GWP2 Method</th>\n",
              "      <th>GWP1 Price</th>\n",
              "      <th>GWP2 Price</th>\n",
              "      <th>%Diff</th>\n",
              "    </tr>\n",
              "  </thead>\n",
              "  <tbody>\n",
              "    <tr>\n",
              "      <th>0</th>\n",
              "      <td>5</td>\n",
              "      <td>ATM Put</td>\n",
              "      <td>Eur</td>\n",
              "      <td>Binomial</td>\n",
              "      <td>MC</td>\n",
              "      <td>3.5</td>\n",
              "      <td>3.340</td>\n",
              "      <td>4.57%</td>\n",
              "    </tr>\n",
              "    <tr>\n",
              "      <th>1</th>\n",
              "      <td>5</td>\n",
              "      <td>ATM Put</td>\n",
              "      <td>Amer</td>\n",
              "      <td>Trinomial</td>\n",
              "      <td>MC</td>\n",
              "      <td>3.2</td>\n",
              "      <td>3.470</td>\n",
              "      <td>-8.44%</td>\n",
              "    </tr>\n",
              "    <tr>\n",
              "      <th>2</th>\n",
              "      <td>6</td>\n",
              "      <td>ATM Put</td>\n",
              "      <td>Amer</td>\n",
              "      <td>Trinomial</td>\n",
              "      <td>MC</td>\n",
              "      <td>-0.45</td>\n",
              "      <td>-0.438</td>\n",
              "      <td>2.67%</td>\n",
              "    </tr>\n",
              "    <tr>\n",
              "      <th>3</th>\n",
              "      <td>7</td>\n",
              "      <td>ATM Put</td>\n",
              "      <td>Amer</td>\n",
              "      <td>Trinomial</td>\n",
              "      <td>MC</td>\n",
              "      <td>21.0</td>\n",
              "      <td>20.410</td>\n",
              "      <td>2.81%</td>\n",
              "    </tr>\n",
              "  </tbody>\n",
              "</table>\n",
              "</div>\n",
              "    <div class=\"colab-df-buttons\">\n",
              "\n",
              "  <div class=\"colab-df-container\">\n",
              "    <button class=\"colab-df-convert\" onclick=\"convertToInteractive('df-a3a7ec09-6612-4b9c-a5a0-e4a5c808f2c4')\"\n",
              "            title=\"Convert this dataframe to an interactive table.\"\n",
              "            style=\"display:none;\">\n",
              "\n",
              "  <svg xmlns=\"http://www.w3.org/2000/svg\" height=\"24px\" viewBox=\"0 -960 960 960\">\n",
              "    <path d=\"M120-120v-720h720v720H120Zm60-500h600v-160H180v160Zm220 220h160v-160H400v160Zm0 220h160v-160H400v160ZM180-400h160v-160H180v160Zm440 0h160v-160H620v160ZM180-180h160v-160H180v160Zm440 0h160v-160H620v160Z\"/>\n",
              "  </svg>\n",
              "    </button>\n",
              "\n",
              "  <style>\n",
              "    .colab-df-container {\n",
              "      display:flex;\n",
              "      gap: 12px;\n",
              "    }\n",
              "\n",
              "    .colab-df-convert {\n",
              "      background-color: #E8F0FE;\n",
              "      border: none;\n",
              "      border-radius: 50%;\n",
              "      cursor: pointer;\n",
              "      display: none;\n",
              "      fill: #1967D2;\n",
              "      height: 32px;\n",
              "      padding: 0 0 0 0;\n",
              "      width: 32px;\n",
              "    }\n",
              "\n",
              "    .colab-df-convert:hover {\n",
              "      background-color: #E2EBFA;\n",
              "      box-shadow: 0px 1px 2px rgba(60, 64, 67, 0.3), 0px 1px 3px 1px rgba(60, 64, 67, 0.15);\n",
              "      fill: #174EA6;\n",
              "    }\n",
              "\n",
              "    .colab-df-buttons div {\n",
              "      margin-bottom: 4px;\n",
              "    }\n",
              "\n",
              "    [theme=dark] .colab-df-convert {\n",
              "      background-color: #3B4455;\n",
              "      fill: #D2E3FC;\n",
              "    }\n",
              "\n",
              "    [theme=dark] .colab-df-convert:hover {\n",
              "      background-color: #434B5C;\n",
              "      box-shadow: 0px 1px 3px 1px rgba(0, 0, 0, 0.15);\n",
              "      filter: drop-shadow(0px 1px 2px rgba(0, 0, 0, 0.3));\n",
              "      fill: #FFFFFF;\n",
              "    }\n",
              "  </style>\n",
              "\n",
              "    <script>\n",
              "      const buttonEl =\n",
              "        document.querySelector('#df-a3a7ec09-6612-4b9c-a5a0-e4a5c808f2c4 button.colab-df-convert');\n",
              "      buttonEl.style.display =\n",
              "        google.colab.kernel.accessAllowed ? 'block' : 'none';\n",
              "\n",
              "      async function convertToInteractive(key) {\n",
              "        const element = document.querySelector('#df-a3a7ec09-6612-4b9c-a5a0-e4a5c808f2c4');\n",
              "        const dataTable =\n",
              "          await google.colab.kernel.invokeFunction('convertToInteractive',\n",
              "                                                    [key], {});\n",
              "        if (!dataTable) return;\n",
              "\n",
              "        const docLinkHtml = 'Like what you see? Visit the ' +\n",
              "          '<a target=\"_blank\" href=https://colab.research.google.com/notebooks/data_table.ipynb>data table notebook</a>'\n",
              "          + ' to learn more about interactive tables.';\n",
              "        element.innerHTML = '';\n",
              "        dataTable['output_type'] = 'display_data';\n",
              "        await google.colab.output.renderOutput(dataTable, element);\n",
              "        const docLink = document.createElement('div');\n",
              "        docLink.innerHTML = docLinkHtml;\n",
              "        element.appendChild(docLink);\n",
              "      }\n",
              "    </script>\n",
              "  </div>\n",
              "\n",
              "\n",
              "<div id=\"df-aba5d884-85b5-4184-82b3-b3e1cf63a7e4\">\n",
              "  <button class=\"colab-df-quickchart\" onclick=\"quickchart('df-aba5d884-85b5-4184-82b3-b3e1cf63a7e4')\"\n",
              "            title=\"Suggest charts\"\n",
              "            style=\"display:none;\">\n",
              "\n",
              "<svg xmlns=\"http://www.w3.org/2000/svg\" height=\"24px\"viewBox=\"0 0 24 24\"\n",
              "     width=\"24px\">\n",
              "    <g>\n",
              "        <path d=\"M19 3H5c-1.1 0-2 .9-2 2v14c0 1.1.9 2 2 2h14c1.1 0 2-.9 2-2V5c0-1.1-.9-2-2-2zM9 17H7v-7h2v7zm4 0h-2V7h2v10zm4 0h-2v-4h2v4z\"/>\n",
              "    </g>\n",
              "</svg>\n",
              "  </button>\n",
              "\n",
              "<style>\n",
              "  .colab-df-quickchart {\n",
              "      --bg-color: #E8F0FE;\n",
              "      --fill-color: #1967D2;\n",
              "      --hover-bg-color: #E2EBFA;\n",
              "      --hover-fill-color: #174EA6;\n",
              "      --disabled-fill-color: #AAA;\n",
              "      --disabled-bg-color: #DDD;\n",
              "  }\n",
              "\n",
              "  [theme=dark] .colab-df-quickchart {\n",
              "      --bg-color: #3B4455;\n",
              "      --fill-color: #D2E3FC;\n",
              "      --hover-bg-color: #434B5C;\n",
              "      --hover-fill-color: #FFFFFF;\n",
              "      --disabled-bg-color: #3B4455;\n",
              "      --disabled-fill-color: #666;\n",
              "  }\n",
              "\n",
              "  .colab-df-quickchart {\n",
              "    background-color: var(--bg-color);\n",
              "    border: none;\n",
              "    border-radius: 50%;\n",
              "    cursor: pointer;\n",
              "    display: none;\n",
              "    fill: var(--fill-color);\n",
              "    height: 32px;\n",
              "    padding: 0;\n",
              "    width: 32px;\n",
              "  }\n",
              "\n",
              "  .colab-df-quickchart:hover {\n",
              "    background-color: var(--hover-bg-color);\n",
              "    box-shadow: 0 1px 2px rgba(60, 64, 67, 0.3), 0 1px 3px 1px rgba(60, 64, 67, 0.15);\n",
              "    fill: var(--button-hover-fill-color);\n",
              "  }\n",
              "\n",
              "  .colab-df-quickchart-complete:disabled,\n",
              "  .colab-df-quickchart-complete:disabled:hover {\n",
              "    background-color: var(--disabled-bg-color);\n",
              "    fill: var(--disabled-fill-color);\n",
              "    box-shadow: none;\n",
              "  }\n",
              "\n",
              "  .colab-df-spinner {\n",
              "    border: 2px solid var(--fill-color);\n",
              "    border-color: transparent;\n",
              "    border-bottom-color: var(--fill-color);\n",
              "    animation:\n",
              "      spin 1s steps(1) infinite;\n",
              "  }\n",
              "\n",
              "  @keyframes spin {\n",
              "    0% {\n",
              "      border-color: transparent;\n",
              "      border-bottom-color: var(--fill-color);\n",
              "      border-left-color: var(--fill-color);\n",
              "    }\n",
              "    20% {\n",
              "      border-color: transparent;\n",
              "      border-left-color: var(--fill-color);\n",
              "      border-top-color: var(--fill-color);\n",
              "    }\n",
              "    30% {\n",
              "      border-color: transparent;\n",
              "      border-left-color: var(--fill-color);\n",
              "      border-top-color: var(--fill-color);\n",
              "      border-right-color: var(--fill-color);\n",
              "    }\n",
              "    40% {\n",
              "      border-color: transparent;\n",
              "      border-right-color: var(--fill-color);\n",
              "      border-top-color: var(--fill-color);\n",
              "    }\n",
              "    60% {\n",
              "      border-color: transparent;\n",
              "      border-right-color: var(--fill-color);\n",
              "    }\n",
              "    80% {\n",
              "      border-color: transparent;\n",
              "      border-right-color: var(--fill-color);\n",
              "      border-bottom-color: var(--fill-color);\n",
              "    }\n",
              "    90% {\n",
              "      border-color: transparent;\n",
              "      border-bottom-color: var(--fill-color);\n",
              "    }\n",
              "  }\n",
              "</style>\n",
              "\n",
              "  <script>\n",
              "    async function quickchart(key) {\n",
              "      const quickchartButtonEl =\n",
              "        document.querySelector('#' + key + ' button');\n",
              "      quickchartButtonEl.disabled = true;  // To prevent multiple clicks.\n",
              "      quickchartButtonEl.classList.add('colab-df-spinner');\n",
              "      try {\n",
              "        const charts = await google.colab.kernel.invokeFunction(\n",
              "            'suggestCharts', [key], {});\n",
              "      } catch (error) {\n",
              "        console.error('Error during call to suggestCharts:', error);\n",
              "      }\n",
              "      quickchartButtonEl.classList.remove('colab-df-spinner');\n",
              "      quickchartButtonEl.classList.add('colab-df-quickchart-complete');\n",
              "    }\n",
              "    (() => {\n",
              "      let quickchartButtonEl =\n",
              "        document.querySelector('#df-aba5d884-85b5-4184-82b3-b3e1cf63a7e4 button');\n",
              "      quickchartButtonEl.style.display =\n",
              "        google.colab.kernel.accessAllowed ? 'block' : 'none';\n",
              "    })();\n",
              "  </script>\n",
              "</div>\n",
              "\n",
              "  <div id=\"id_2c1a52cf-3b06-4557-abb3-b7f0b9e024bd\">\n",
              "    <style>\n",
              "      .colab-df-generate {\n",
              "        background-color: #E8F0FE;\n",
              "        border: none;\n",
              "        border-radius: 50%;\n",
              "        cursor: pointer;\n",
              "        display: none;\n",
              "        fill: #1967D2;\n",
              "        height: 32px;\n",
              "        padding: 0 0 0 0;\n",
              "        width: 32px;\n",
              "      }\n",
              "\n",
              "      .colab-df-generate:hover {\n",
              "        background-color: #E2EBFA;\n",
              "        box-shadow: 0px 1px 2px rgba(60, 64, 67, 0.3), 0px 1px 3px 1px rgba(60, 64, 67, 0.15);\n",
              "        fill: #174EA6;\n",
              "      }\n",
              "\n",
              "      [theme=dark] .colab-df-generate {\n",
              "        background-color: #3B4455;\n",
              "        fill: #D2E3FC;\n",
              "      }\n",
              "\n",
              "      [theme=dark] .colab-df-generate:hover {\n",
              "        background-color: #434B5C;\n",
              "        box-shadow: 0px 1px 3px 1px rgba(0, 0, 0, 0.15);\n",
              "        filter: drop-shadow(0px 1px 2px rgba(0, 0, 0, 0.3));\n",
              "        fill: #FFFFFF;\n",
              "      }\n",
              "    </style>\n",
              "    <button class=\"colab-df-generate\" onclick=\"generateWithVariable('put_results_df')\"\n",
              "            title=\"Generate code using this dataframe.\"\n",
              "            style=\"display:none;\">\n",
              "\n",
              "  <svg xmlns=\"http://www.w3.org/2000/svg\" height=\"24px\"viewBox=\"0 0 24 24\"\n",
              "       width=\"24px\">\n",
              "    <path d=\"M7,19H8.4L18.45,9,17,7.55,7,17.6ZM5,21V16.75L18.45,3.32a2,2,0,0,1,2.83,0l1.4,1.43a1.91,1.91,0,0,1,.58,1.4,1.91,1.91,0,0,1-.58,1.4L9.25,21ZM18.45,9,17,7.55Zm-12,3A5.31,5.31,0,0,0,4.9,8.1,5.31,5.31,0,0,0,1,6.5,5.31,5.31,0,0,0,4.9,4.9,5.31,5.31,0,0,0,6.5,1,5.31,5.31,0,0,0,8.1,4.9,5.31,5.31,0,0,0,12,6.5,5.46,5.46,0,0,0,6.5,12Z\"/>\n",
              "  </svg>\n",
              "    </button>\n",
              "    <script>\n",
              "      (() => {\n",
              "      const buttonEl =\n",
              "        document.querySelector('#id_2c1a52cf-3b06-4557-abb3-b7f0b9e024bd button.colab-df-generate');\n",
              "      buttonEl.style.display =\n",
              "        google.colab.kernel.accessAllowed ? 'block' : 'none';\n",
              "\n",
              "      buttonEl.onclick = () => {\n",
              "        google.colab.notebook.generateWithVariable('put_results_df');\n",
              "      }\n",
              "      })();\n",
              "    </script>\n",
              "  </div>\n",
              "\n",
              "    </div>\n",
              "  </div>\n"
            ],
            "application/vnd.google.colaboratory.intrinsic+json": {
              "type": "dataframe",
              "variable_name": "put_results_df",
              "summary": "{\n  \"name\": \"put_results_df\",\n  \"rows\": 4,\n  \"fields\": [\n    {\n      \"column\": \"Q #\",\n      \"properties\": {\n        \"dtype\": \"number\",\n        \"std\": 0,\n        \"min\": 5,\n        \"max\": 7,\n        \"num_unique_values\": 3,\n        \"samples\": [\n          5,\n          6,\n          7\n        ],\n        \"semantic_type\": \"\",\n        \"description\": \"\"\n      }\n    },\n    {\n      \"column\": \"Type\",\n      \"properties\": {\n        \"dtype\": \"category\",\n        \"num_unique_values\": 1,\n        \"samples\": [\n          \"ATM Put\"\n        ],\n        \"semantic_type\": \"\",\n        \"description\": \"\"\n      }\n    },\n    {\n      \"column\": \"Exer\",\n      \"properties\": {\n        \"dtype\": \"string\",\n        \"num_unique_values\": 2,\n        \"samples\": [\n          \"Amer\"\n        ],\n        \"semantic_type\": \"\",\n        \"description\": \"\"\n      }\n    },\n    {\n      \"column\": \"GWP1 Method\",\n      \"properties\": {\n        \"dtype\": \"string\",\n        \"num_unique_values\": 2,\n        \"samples\": [\n          \"Trinomial\"\n        ],\n        \"semantic_type\": \"\",\n        \"description\": \"\"\n      }\n    },\n    {\n      \"column\": \"GWP2 Method\",\n      \"properties\": {\n        \"dtype\": \"category\",\n        \"num_unique_values\": 1,\n        \"samples\": [\n          \"MC\"\n        ],\n        \"semantic_type\": \"\",\n        \"description\": \"\"\n      }\n    },\n    {\n      \"column\": \"GWP1 Price\",\n      \"properties\": {\n        \"dtype\": \"date\",\n        \"min\": -0.45,\n        \"max\": 21.0,\n        \"num_unique_values\": 4,\n        \"samples\": [\n          3.2\n        ],\n        \"semantic_type\": \"\",\n        \"description\": \"\"\n      }\n    },\n    {\n      \"column\": \"GWP2 Price\",\n      \"properties\": {\n        \"dtype\": \"number\",\n        \"std\": 9.320900582382942,\n        \"min\": -0.438,\n        \"max\": 20.41,\n        \"num_unique_values\": 4,\n        \"samples\": [\n          3.47\n        ],\n        \"semantic_type\": \"\",\n        \"description\": \"\"\n      }\n    },\n    {\n      \"column\": \"%Diff\",\n      \"properties\": {\n        \"dtype\": \"string\",\n        \"num_unique_values\": 4,\n        \"samples\": [\n          \"-8.44%\"\n        ],\n        \"semantic_type\": \"\",\n        \"description\": \"\"\n      }\n    }\n  ]\n}"
            }
          },
          "metadata": {},
          "execution_count": 15
        }
      ]
    },
    {
      "cell_type": "markdown",
      "source": [
        "### References\n",
        "\n",
        "Black, F., & Scholes, M. (1973). The pricing of options and corporate liabilities. *Journal of Political Economy, 81*(3), 637-654.\n",
        "\n",
        "Cox, J. C., Ross, S. A., & Rubinstein, M. (1979). Option pricing: A simplified approach. *Journal of Financial Economics, 7*(3), 229-263.\n",
        "\n",
        "Glasserman, P. (2003). *Monte Carlo methods in financial engineering*. Springer.\n",
        "\n",
        "Hull, J. C. (2018). *Options, futures, and other derivatives* (10th ed.). Pearson.\n",
        "\n",
        "McDonald, R. L. (2013). *Derivatives markets* (3rd ed.). Pearson.\n",
        "\n",
        "Merton, R. C. (1973). Theory of rational option pricing. *The Bell Journal of Economics and Management Science, 4*(1), 141-183.\n",
        "\n",
        "Shreve, S. E. (2004). *Stochastic calculus for finance I: The binomial asset pricing model*. Springer.\n",
        "\n",
        "Wilmott, P., Howison, S., & Dewynne, J. (1995). *The mathematics of financial derivatives: A student introduction*. Cambridge University Press.\n"
      ],
      "metadata": {
        "id": "K1WBMV7dRwAX"
      }
    },
    {
      "cell_type": "code",
      "source": [],
      "metadata": {
        "id": "Iuq-B6zfMMME"
      },
      "execution_count": null,
      "outputs": []
    }
  ]
}