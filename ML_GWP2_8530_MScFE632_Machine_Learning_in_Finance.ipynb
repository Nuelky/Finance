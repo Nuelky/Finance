{
  "nbformat": 4,
  "nbformat_minor": 0,
  "metadata": {
    "colab": {
      "provenance": [],
      "include_colab_link": true
    },
    "kernelspec": {
      "name": "python3",
      "display_name": "Python 3"
    },
    "language_info": {
      "name": "python"
    }
  },
  "cells": [
    {
      "cell_type": "markdown",
      "metadata": {
        "id": "view-in-github",
        "colab_type": "text"
      },
      "source": [
        "<a href=\"https://colab.research.google.com/github/Nuelky/Finance/blob/main/ML_GWP2_8530_MScFE632_Machine_Learning_in_Finance.ipynb\" target=\"_parent\"><img src=\"https://colab.research.google.com/assets/colab-badge.svg\" alt=\"Open In Colab\"/></a>"
      ]
    },
    {
      "cell_type": "markdown",
      "source": [
        "##STEP 2:"
      ],
      "metadata": {
        "id": "bi4ScsRrB1sw"
      }
    },
    {
      "cell_type": "markdown",
      "source": [
        "**TEAM MEMBER A: CATEGORY 6 (Support Vector Machine, SVM)**\n",
        "\n",
        "---\n",
        "\n"
      ],
      "metadata": {
        "id": "q7Fbc1O3BosZ"
      }
    },
    {
      "cell_type": "markdown",
      "source": [
        "● Basics:\n",
        "Support Vector Machine (SVM) is a supervised machine learning technique both powerful and versatile because although primarily a classification technique; it can be used for both classification and regression while also allowing the use of various kernels for non-linearly separable data and parameter tuning (C and kernel parameters) to suit the needs of the problem at hand. They are applicable to wide financial problems ranging from time series forecasting to chaotic systems. The basic idea is to map data to a higher dimensional space and use a maximum-margin hyperplane to separate the data.\n",
        "\n",
        "● Advantages:\n",
        "SVM are effective in handling high dimensional data with large number of features effectively and in a memory efficient manner.\n",
        "The Memory efficiency stems from only need to store the support vectors after training.\n",
        "SVMs are versatile and can be adapted for both linear and nonlinear data classification. While fundamentally a classification technique,  it can be used for regression and prediction tasks.  \n",
        "SVMs are robust to overfitting aiming to maximize the margin helps the generalization and reducing risk for overfitting especially in high-dimensional spaces.\n",
        "\n",
        "● Disadvantages:\n",
        "The effectiveness is greatly reduced on noisier data  with overlapping classes.\n",
        "Parameter Tuning: SVMs have several hyperparameters (like C, kernel type, kernel parameters) that makes it versatile but need careful tuning to achieve optimal performance.\n",
        "Computational Cost: Although memory efficient after training and uses kernels for computational efficiency, Training can be computationally expensive, especially with large datasets.\n",
        "Interpretability: SVMs can be difficult to interpret, especially when using non-linear kernels, making it hard to understand the factors driving predictions. SVMs also do not provide target class probabilities directly but Platt scaling and isotonic regression may be used for this.\n",
        "\n",
        "● Equations:\n",
        "Linear Classifier:\n",
        "f(x) = wTx + b where 'w' is the weight vector, 'x' is the input vector, and 'b' is the bias.\n",
        "Optimization Problem (Hard Margin):\n",
        "Minimize ||w||2 subject to yi(wTxi + b) ≥ 1 for all training examples (xi,yi).\n",
        "Optimization Problem (Soft Margin):\n",
        "Minimize ||w||2 + C Σ ξi subject to yi(wTxi + b) ≥ 1 - ξi for all training examples. C is the regularization parameter, and ξi are slack variables that allow for misclassifications. See figure below from Okasha MK et al. 2013.\n",
        "\n",
        "From: Okasha, Mahmoud K. Using Support Vector Machines in Financial Time Series Forecasting. 2013.\n",
        "\n",
        "● Features:\n",
        "Kernel Trick: A core characteristic allows SVMs to operate in high-dimensional spaces and perform non-linear classification efficiently.\n",
        "Margin Maximization: SVMs are designed to find the decision boundary with the largest possible margin.\n",
        "Support Vectors: The decision function is defined by a subset of training samples called support vectors. (see figure below from lect2 posted in forum by instructor)\n",
        "Other functional features include : Effectiveness in high dimensional spaces, memory efficiency, versatility, and robustness to overfitting.\n",
        "\n",
        "\n",
        "● Guide:\n",
        "Inputs:\n",
        "Training data: A set of data points (xi) with corresponding class labels (yi). xi are feature vectors, and yi are typically {-1, 1} for binary classification.\n",
        "Hyperparameters: These control the behavior of the SVM (e.g., C, kernel type, kernel parameters).\n",
        "Outputs:\n",
        "A trained SVM model: This consists primarily of the weight vector (w) and bias (b) (or support vectors and alpha values in some formulations).\n",
        "Prediction: For a new input 'x', the model outputs a class label (+1 or -1) based on the sign of the decision function (wTx + b).\n",
        "Note high versatility of methods allows adaptation to include regression and classification problems on linearly and nonlinearly separable data with suitable inputs and outputs.\n",
        "\n",
        "● Hyperparameters:\n",
        "C (Regularization parameter): Controls the trade-off between achieving a low training error and a large margin. Small C allows misclassifications, large C penalizes them heavily.\n",
        "Kernel Type: Specifies the kernel function to be used (e.g., linear, polynomial, radial basis function (RBF)).\n",
        "Kernel Parameters: Parameters specific to the chosen kernel (e.g., degree for polynomial kernel, gamma for RBF kernel).\n",
        "\n",
        "●  Computation and Illustration: (see next section below)\n",
        "\n",
        "\n",
        "\n",
        "Source: Quan, Z., Pu, L. An improved accurate classification method for online education resources based on support vector machine (SVM): Algorithm and experiment. Educ Inf Technol 28, 8097–8111 (2023). https://doi.org/10.1007/s10639-022-11514-6\n",
        "Basic Idea: SVMs find a hyperplane that separates data points of different classes with the largest possible margin.\n",
        "Linear SVM: In 2D, this hyperplane is a line. The goal is to find the \"best\" line that maximizes the distance to the nearest data points of each class.\n",
        "Support Vectors: The data points closest to the decision boundary are called support vectors. They are crucial for defining the SVM.\n",
        "Non-linear SVM: Kernel functions are used to implicitly map the data into a higher-dimensional space where a linear separation is possible. Common kernels include polynomial and RBF.\n",
        "\n",
        "● Journal:\n",
        "\n",
        "Tay, Francis E.H, and Lijuan Cao. “Application of support vector machines in financial time series forecasting.” Omega, vol. 29, no. 4, Aug. 2001, pp. 309–317, https://doi.org/10.1016/s0305-0483(01)00026-3.\n",
        "\n",
        "Tian L. Design and Implementation of Financial Service and Management Platform considering Support Vector Machine Algorithm. Comput Intell Neurosci. 2022 Sep 9;2022:7964123. doi: 10.1155/2022/7964123. PMID: 36120675; PMCID: PMC9481309.\n",
        "\n",
        "\n",
        "● Keywords:\n",
        "Support Vector Machine (SVM); Kernels, hyperplane, support vectors, Maximal Margin Classifier, Supervised Learning, Machine Learning; Financial Time Series ;Stock Market;\n"
      ],
      "metadata": {
        "id": "v4BjW5djB4Fm"
      }
    },
    {
      "cell_type": "code",
      "source": [
        "import matplotlib.pyplot as plt\n",
        "import numpy as np\n",
        "from sklearn.datasets import make_gaussian_quantiles\n",
        "from sklearn.svm import SVC\n",
        "from sklearn.model_selection import train_test_split\n",
        "# Instead of plot_confusion_matrix, import ConfusionMatrixDisplay\n",
        "from sklearn.metrics import ConfusionMatrixDisplay, accuracy_score\n",
        "from mlxtend.plotting import plot_decision_regions\n",
        "\n",
        "#from sklearn.metrics import plot_confusion_matrix, accuracy_score\n",
        "from mlxtend.plotting import plot_decision_regions\n",
        "\n",
        "# Configuration options\n",
        "num_samples_total = 2500\n",
        "cluster_centers = [(5,5), (3,3), (1,5)]\n",
        "num_classes = len(cluster_centers)"
      ],
      "metadata": {
        "id": "1WHx7NLJQAXM"
      },
      "execution_count": null,
      "outputs": []
    },
    {
      "cell_type": "code",
      "source": [
        "# Generate data : two features and two classes\n",
        "X, y = make_gaussian_quantiles(n_features=2, n_classes=2, n_samples=2500, mean=(2,3))\n",
        "X,y"
      ],
      "metadata": {
        "colab": {
          "base_uri": "https://localhost:8080/"
        },
        "id": "kaOlOof0QDUJ",
        "outputId": "1ddf63f9-c052-4629-b1fb-ed96bebdba24"
      },
      "execution_count": null,
      "outputs": [
        {
          "output_type": "execute_result",
          "data": {
            "text/plain": [
              "(array([[ 2.25191003,  2.40707787],\n",
              "        [ 1.3566019 ,  2.04139125],\n",
              "        [-1.17989164,  2.05479183],\n",
              "        ...,\n",
              "        [ 4.27454422,  2.1718539 ],\n",
              "        [ 1.67556536,  2.80908748],\n",
              "        [ 1.90082133,  3.69876774]]),\n",
              " array([0, 0, 1, ..., 1, 0, 0]))"
            ]
          },
          "metadata": {},
          "execution_count": 8
        }
      ]
    },
    {
      "cell_type": "code",
      "source": [
        "\n",
        "# Split into training and testing data\n",
        "X_train, X_test, y_train, y_test = train_test_split(X, y, test_size=0.33, random_state=42)\n",
        "\n",
        "# Create the SVM\n",
        "svm = SVC(random_state=42, kernel='rbf')\n",
        "\n",
        "# Fit the data to the SVM classifier\n",
        "svm = svm.fit(X_train, y_train)\n",
        "\n",
        "# Evaluate performance with a confusion matrix\n",
        "# Create the ConfusionMatrixDisplay object first\n",
        "matrix = ConfusionMatrixDisplay.from_estimator(svm, X_test, y_test,\n",
        "                                 normalize='true')\n",
        "# Then, plot the confusion matrix with the desired cmap\n",
        "matrix.plot(cmap=plt.cm.Blues)  # Pass cmap to the plot method\n",
        "\n",
        "plt.title('Confusion matrix for RBF SVM')\n",
        "plt.show()\n",
        "\n",
        "# Generate predictions\n",
        "y_pred = svm.predict(X_test)\n",
        "\n",
        "# Evaluate performance with accuracy metric\n",
        "accuracy = accuracy_score(y_test, y_pred)\n",
        "print(f'Model accuracy: {accuracy}')\n",
        "\n",
        "# Plot decision boundary\n",
        "plot_decision_regions(X_test, y_test, clf=svm, legend=2)\n",
        "plt.show()"
      ],
      "metadata": {
        "colab": {
          "base_uri": "https://localhost:8080/",
          "height": 1000
        },
        "id": "bDWgvlIwCIVo",
        "outputId": "1cf3989b-ec50-4c26-e811-5bbb3f39e0ca"
      },
      "execution_count": null,
      "outputs": [
        {
          "output_type": "display_data",
          "data": {
            "text/plain": [
              "<Figure size 640x480 with 2 Axes>"
            ],
            "image/png": "[encoded data removed]"
          },
          "metadata": {}
        },
        {
          "output_type": "display_data",
          "data": {
            "text/plain": [
              "<Figure size 640x480 with 2 Axes>"
            ],
            "image/png": "[encoded data removed]"
          },
          "metadata": {}
        },
        {
          "output_type": "stream",
          "name": "stdout",
          "text": [
            "Model accuracy: 0.9878787878787879\n"
          ]
        },
        {
          "output_type": "display_data",
          "data": {
            "text/plain": [
              "<Figure size 640x480 with 1 Axes>"
            ],
            "image/png": "[encoded data removed]"
          },
          "metadata": {}
        }
      ]
    },
    {
      "cell_type": "markdown",
      "source": [
        "code illustration adapted from : https://github.com/christianversloot/machine-learning-articles/blob/main/using-radial-basis-functions-for-svms-with-python-and-scikit-learn.md"
      ],
      "metadata": {
        "id": "PlAM6VGsOug0"
      }
    },
    {
      "cell_type": "markdown",
      "source": [
        "\n",
        "\n",
        "**Team member B: Category C (Neural Networks)**"
      ],
      "metadata": {
        "id": "zJ2HYVbhC2CA"
      }
    },
    {
      "cell_type": "markdown",
      "source": [
        "**ADVANTAGES**\n",
        "\n",
        "Neural networks provide advantages in addressing complex problems, especially those involving large datasets and intricate, non-linear patterns. Key benefits are:\n",
        "\n",
        "- They are highly effective at modeling non-linear relationships, outperforming many traditional machine learning methods. This makes them ideal for tasks such as image and speech recognition, anomaly detection, and time-series forecasting.\n",
        "\n",
        "- Neural networks are also remarkably adaptable. Once trained, they can generalize from observed patterns and make accurate predictions on new, unseen data, adjusting to evolving inputs.\n",
        "\n",
        "- Another major strength is their capacity to handle high-dimensional data. Unlike linear models that struggle with large feature spaces, neural networks process numerous inputs simultaneously and extract meaningful patterns.\n",
        "\n",
        "These models support parallel computations, enabling them to efficiently scale to massive datasets and perform difficult operations quickly.\n",
        "\n",
        "Also, they show resilience to noisy or incomplete data thereby maintaining reliable predictive performance even when some inputs are missing or corrupted.\n",
        "\n",
        "When properly structured and tuned, neural networks can continuously learn from new data, refining their accuracy and adapting to changing environments.\n",
        "\n",
        "\n",
        "\n",
        "**COMPUTATION**\n",
        "\n",
        "Neural networks operate through a series of mathematical computations that enable them to learn patterns from data and make informed predictions. Below is an outline of this process:\n",
        "\n",
        "Each neuron in the network takes inputs from either the data or the previous layer—multiplied by their associated weights. These are then summed with a bias term:\n",
        "$$\n",
        "z = \\sum_{i=1}^{n} w_i x_i + b\n",
        "$$\n",
        "\n",
        "This weighted sum is passed through an activation function, which introduces  non-linearity which is essential in capturing relationships. Common activation functions include ReLU, sigmoid, and tanh. The process continues through each layer, with the output of one becoming the input for the next—this is forward propagation.\n",
        "\n",
        "A loss function is then used to measure the discrepancy between the model’s output and the actual target values. For instance, mean squared error is often used in regression tasks, while cross-entropy is typical in classification problems.\n",
        "\n",
        "To illustrate this, we created a simple mock dataset for a binary classification task. We generated 100 samples with two features each, labeled based on a linear rule (sum > 0). A basic neural network was built with one hidden layer (4 nodes) and an output layer (1 node). The tanh activation function was applied to the hidden layer, and a sigmoid function to the output. The network's predictions values are between 0 and 1 which shows the confidence in classifying each data point.\n",
        "\n",
        "A scatter plot with red and blue points denoting the two classes, visually shows the decision boundary learned by the network.\n",
        "\n",
        "\n",
        "**DISADVANTAGES**\n",
        "\n",
        "Despite their strengths, neural networks have some disadvantages:\n",
        "\n",
        "(i) They usually require large amounts of labeled data to perform effectively. Without sufficient data, they may struggle to generalize.\n",
        "\n",
        "(ii) Training neural networks, for e.g., deep architectures, demands huge computational power—often relying on GPUs or TPUs, which can be costly and energy-intensive.\n",
        "\n",
        "(iii) They are prone to overfitting, especially in the absence of sufficient data or proper regularization, resulting in poor generalization to new data.\n",
        "\n",
        "(iv) Neural networks often lack interpretability. Their internal processes can be opaque. this makes it difficult to understand or justify their decisions, an issue in high-stakes applications.\n",
        "\n",
        "(v) Training can be time-consuming. Depending on model complexity and dataset size, training may span from hours to weeks, which limits rapid iteration.\n",
        "\n",
        "**FEATURES**\n",
        "\n",
        "Neural networks have several defining features which contribute to their power:\n",
        "\n",
        "Their architecture consists of an input layer, multiple hidden layers, and an output layer, this allows hierarchical learning of patterns from data. Each layer contains neurons—computational units inspired by biological neurons—that process and relay information.\n",
        "\n",
        "They are known as universal function approximators, meaning they can model any continuous function given adequate capacity and data. Optimization algorithms like gradient descent are used to minimize the loss function by adjusting the weights and biases.\n",
        "\n",
        "To improve generalization and prevent overfitting, techniques such as dropout, L1/L2 regularization, and early stopping are frequently used.\n",
        "\n",
        "\n",
        "**EQUATIONS**\n",
        "\n",
        "Below are mathematical formulas that are very important in neural network operations:\n",
        "\n",
        "\n",
        "**(i) Weighted Summation**  \n",
        "$$\n",
        "z = \\sum_{i=1}^{n} w_i x_i + b\n",
        "$$\n",
        "\n",
        "**(ii) Activation Functions**  \n",
        "Sigmoid:  \n",
        "$$\n",
        "\\sigma(z) = \\frac{1}{1 + e^{-z}}\n",
        "$$  \n",
        "ReLU (Rectified Linear Unit):  \n",
        "$$\n",
        "\\text{ReLU}(z) = \\max(0, z)\n",
        "$$  \n",
        "Hyperbolic Tangent:  \n",
        "$$\n",
        "\\tanh(z) = \\frac{e^z - e^{-z}}{e^z + e^{-z}}\n",
        "$$\n",
        "\n",
        "**(iii) Forward Propagation**  \n",
        "$$\n",
        "a^{(l+1)} = f(W^{(l)} a^{(l)} + b^{(l)})\n",
        "$$\n",
        "\n",
        "**(iv) Loss Functions**  \n",
        "Mean Squared Error (MSE):  \n",
        "$$\n",
        "\\mathcal{L} = \\frac{1}{m} \\sum_{i=1}^{m} (y_i - \\hat{y}_i)^2\n",
        "$$  \n",
        "Cross-Entropy:  \n",
        "$$\n",
        "\\mathcal{L} = -\\frac{1}{m} \\sum_{i=1}^{m} \\left[ y_i \\log(\\hat{y}_i) + (1 - y_i) \\log(1 - \\hat{y}_i) \\right]\n",
        "$$\n",
        "\n",
        "**(v) Backpropagation Gradient**  \n",
        "$$\n",
        "\\frac{\\partial \\mathcal{L}}{\\partial w} = \\frac{\\partial \\mathcal{L}}{\\partial a} \\cdot \\frac{\\partial a}{\\partial z} \\cdot \\frac{\\partial z}{\\partial w}\n",
        "$$\n",
        "\n",
        "**(vi) Gradient Descent**  \n",
        "$$\n",
        "w = w - \\eta \\frac{\\partial \\mathcal{L}}{\\partial w}\n",
        "$$\n",
        "\n",
        "**(vii) L2 Regularization**  \n",
        "$$\n",
        "\\mathcal{L}_{\\text{reg}} = \\mathcal{L} + \\frac{\\lambda}{2m} \\sum w_i^2\n",
        "$$\n",
        "\n",
        "**(viii) Weight Initialization**  \n",
        "Xavier or He initialization methods are used dependeding on the activation functions and layer sizes.\n",
        "\n",
        "**(ix) Mini-Batch Update Rule**  \n",
        "$$\n",
        "w = w - \\frac{\\eta}{n_b} \\sum_{i=1}^{n_b} \\frac{\\partial \\mathcal{L}^{(i)}}{\\partial w}\n",
        "$$\n",
        "\n",
        "**(x) Learning Rate Scheduling**  \n",
        "The learning rate η can be adjusted over time using methods like exponential decay or step-based decay.\n",
        "\n",
        "\n",
        "\n",
        "**GUIDE**\n",
        "Designing and training neural networks requires adherence to these best practices:\n",
        "\n",
        "- Understand the problem and data: Clearly define the problem and ensure the dataset is well-prepared (e.g., normalized, cleaned).\n",
        "\n",
        "- Architecture selection: Choose model types suitable for the task (e.g., CNNs for images, RNNs for sequences). Start simple and scale up.\n",
        "\n",
        "- Data partitioning: Divide data into training, validation, and test sets to ensure reliable model evaluation and tuning.\n",
        "\n",
        "- Feature scaling: Normalize inputs to accelerate convergence and stabilize training.\n",
        "\n",
        "- Weight initialization: Use strategies like Xavier or He to prevent training issues like vanishing gradients.\n",
        "\n",
        "- Activation functions: Choose based on task characteristics, being cautious of pitfalls like the dying ReLU problem.\n",
        "\n",
        "- Batch size and learning rate: Tune carefully, possibly using adaptive methods like Adam or RMSprop.\n",
        "\n",
        "- Regularization: Prevent overfitting through dropout, L1/L2 penalties, and early stopping.\n",
        "\n",
        "- Hyperparameter optimization: Use grid search or random search to systematically explore parameter combinations.\n",
        "\n",
        "- Evaluation metrics: Choose performance metrics suited to the task—accuracy, F1, AUC, etc.\n",
        "\n",
        "- Transfer learning: When data is limited, fine-tune pre-trained models instead of training from scratch.\n",
        "\n",
        "- Ethical considerations: Ensure fairness, transparency, and accountability throughout model development and deployment.\n",
        "\n",
        "\n",
        "**HYPERPARAMETERS**\n",
        "\n",
        "Neural networks are complex computational architectures that rely on a set of predefined values known as hyperparameters to guide their learning process. Unlike parameters learned during training, hyperparameters are specified before training begins and shape the model’s structure and behavior. Core hyperparameters include the number of layers and neurons, which determine the network’s depth and width, affecting its capacity to uncover intricate patterns in the data. The learning rate, a central hyperparameter, dictates how quickly the model updates its internal weights. If set too high, it can cause instability or overshooting; if too low, it may slow down convergence significantly.\n",
        "\n",
        "Activation functions—such as ReLU, sigmoid, or tanh—enable the network to learn non-linear relationships, while batch size and epoch count influence memory efficiency, convergence dynamics, and the potential for overfitting. The choice of optimizer (e.g., SGD, Adam, RMSprop) and loss function (like mean squared error or cross-entropy) depends on the learning objective. Techniques such as weight initialization and regularization methods—including L1/L2 penalties and dropout—are used to improve generalization and avoid overfitting.\n",
        "\n",
        "Tuning hyperparameters is a very imoortant and often empirical process that balances a network's learning ability with its capacity to generalize to unseen data. Strategies like learning rate scheduling—where the rate is adjusted during training and early stopping where training halts when performance on a validation set starts to degrade can greaty improve training outcomes. The network's architecture (e.g., CNNs for spatial data or RNNs for sequential inputs) is selected based on the task's domain and complexity. Ultimately, effective hyperparameter selection plays a pertinent role in shaping the performance and robustness of neural networks.\n",
        "\n",
        "\n",
        "**JOURNAL**\n",
        "\n",
        "Adam Fadlalla, Chien-Hua Lin, (2001) An Analysis of the Applications of Neural Networks in Finance. Interfaces 31(4):112-122.\n",
        "https://doi.org/10.1287/inte.31.4.112.9662\n",
        "\n",
        "Burrell, P. R., & Folarin, B. O. (1997). The impact of neural networks in finance. Neural Computing & Applications, 6, 193-200.\n",
        "\n",
        "Refenes, A. P., Burgess, A. N., & Bentz, Y. (1997). Neural networks in financial engineering: A study in methodology. IEEE transactions on Neural networks, 8(6), 1222-1267."
      ],
      "metadata": {
        "id": "p-3wCW-6Dr0m"
      }
    },
    {
      "cell_type": "markdown",
      "source": [
        "*More on computation*"
      ],
      "metadata": {
        "id": "yRfY20WqM_yX"
      }
    },
    {
      "cell_type": "code",
      "source": [
        "import numpy as np\n",
        "import matplotlib.pyplot as plt\n",
        "\n",
        "# Generate mock binary classification data\n",
        "np.random.seed(0)\n",
        "features = np.random.randn(100, 2)\n",
        "labels = (features[:, 0] + features[:, 1] > 0).astype(int)  # Linear separation\n",
        "\n",
        "# Plot the generated data\n",
        "plt.scatter(features[labels == 0][:, 0], features[labels == 0][:, 1], c='red', label='Label 0')\n",
        "plt.scatter(features[labels == 1][:, 0], features[labels == 1][:, 1], c='blue', label='Label 1')\n",
        "plt.title('Mock Dataset for Binary Classification')\n",
        "plt.xlabel('Input Feature 1')\n",
        "plt.ylabel('Input Feature 2')\n",
        "plt.legend()\n",
        "plt.grid(True)\n",
        "plt.show()\n",
        "\n",
        "# Define activation and network routines\n",
        "def sigmoid_fn(x):\n",
        "    return 1 / (1 + np.exp(-x))\n",
        "\n",
        "def setup_weights(n_input, n_hidden, n_output):\n",
        "    w1 = np.random.randn(n_hidden, n_input)\n",
        "    b1 = np.zeros((n_hidden, 1))\n",
        "    w2 = np.random.randn(n_output, n_hidden)\n",
        "    b2 = np.zeros((n_output, 1))\n",
        "    return w1, b1, w2, b2\n",
        "\n",
        "def run_forward_pass(data, w1, b1, w2, b2):\n",
        "    z1 = np.dot(w1, data.T) + b1\n",
        "    a1 = np.tanh(z1)\n",
        "    z2 = np.dot(w2, a1) + b2\n",
        "    a2 = sigmoid_fn(z2)\n",
        "    return a2\n",
        "\n",
        "# Define network structure and initialize weights\n",
        "n_input, n_hidden, n_output = 2, 4, 1\n",
        "weights1, bias1, weights2, bias2 = setup_weights(n_input, n_hidden, n_output)\n",
        "\n",
        "# Perform forward pass through the network\n",
        "nn_output = run_forward_pass(features, weights1, bias1, weights2, bias2)\n",
        "\n",
        "# View first 10 predictions\n",
        "print(nn_output[0, :10])\n"
      ],
      "metadata": {
        "colab": {
          "base_uri": "https://localhost:8080/",
          "height": 507
        },
        "id": "raE5wbWmC6RM",
        "outputId": "df1fd13a-2f7a-4818-91d4-ab323777675a"
      },
      "execution_count": null,
      "outputs": [
        {
          "output_type": "display_data",
          "data": {
            "text/plain": [
              "<Figure size 640x480 with 1 Axes>"
            ],
            "image/png": "[encoded data removed]"
          },
          "metadata": {}
        },
        {
          "output_type": "stream",
          "name": "stdout",
          "text": [
            "[0.50782272 0.18263067 0.70752066 0.62263532 0.3336706  0.20958698\n",
            " 0.51692085 0.39317648 0.64541889 0.7421856 ]\n"
          ]
        }
      ]
    },
    {
      "cell_type": "markdown",
      "source": [
        "### Team member C: Linear Discriminant Analysis (LDA)\n"
      ],
      "metadata": {
        "id": "498dMvC_2x16"
      }
    },
    {
      "cell_type": "code",
      "execution_count": null,
      "metadata": {
        "id": "ufYEtSpfcD70"
      },
      "outputs": [],
      "source": [
        "import numpy as np\n",
        "import pandas as pd\n",
        "import matplotlib.pyplot as plt\n",
        "from sklearn.datasets import load_iris\n",
        "from sklearn.preprocessing import StandardScaler, LabelEncoder\n",
        "from sklearn.model_selection import train_test_split\n",
        "from sklearn.discriminant_analysis import LinearDiscriminantAnalysis\n",
        "from sklearn.ensemble import RandomForestClassifier\n",
        "from sklearn.metrics import accuracy_score, confusion_matrix\n",
        "import matplotlib.pyplot as plt"
      ]
    },
    {
      "cell_type": "markdown",
      "source": [
        "We choose breast cancer datasets here, as its features are all continuous numerical data, fitting the assumptions of LDA."
      ],
      "metadata": {
        "id": "rPe3x9ue4Wkv"
      }
    },
    {
      "cell_type": "code",
      "source": [
        "from sklearn.datasets import load_breast_cancer\n",
        "dat = load_breast_cancer()\n",
        "cancer_dat = pd.DataFrame(columns=dat.feature_names, data=dat.data)\n",
        "cancer_dat['target'] = dat.target\n",
        "cancer_dat.head()"
      ],
      "metadata": {
        "colab": {
          "base_uri": "https://localhost:8080/",
          "height": 290
        },
        "id": "rKRr6Utd4WDy",
        "outputId": "0a720c9b-eee6-4bfc-df74-646093065756"
      },
      "execution_count": null,
      "outputs": [
        {
          "output_type": "execute_result",
          "data": {
            "text/plain": [
              "   mean radius  mean texture  mean perimeter  mean area  mean smoothness  \\\n",
              "0        17.99         10.38          122.80     1001.0          0.11840   \n",
              "1        20.57         17.77          132.90     1326.0          0.08474   \n",
              "2        19.69         21.25          130.00     1203.0          0.10960   \n",
              "3        11.42         20.38           77.58      386.1          0.14250   \n",
              "4        20.29         14.34          135.10     1297.0          0.10030   \n",
              "\n",
              "   mean compactness  mean concavity  mean concave points  mean symmetry  \\\n",
              "0           0.27760          0.3001              0.14710         0.2419   \n",
              "1           0.07864          0.0869              0.07017         0.1812   \n",
              "2           0.15990          0.1974              0.12790         0.2069   \n",
              "3           0.28390          0.2414              0.10520         0.2597   \n",
              "4           0.13280          0.1980              0.10430         0.1809   \n",
              "\n",
              "   mean fractal dimension  ...  worst texture  worst perimeter  worst area  \\\n",
              "0                 0.07871  ...          17.33           184.60      2019.0   \n",
              "1                 0.05667  ...          23.41           158.80      1956.0   \n",
              "2                 0.05999  ...          25.53           152.50      1709.0   \n",
              "3                 0.09744  ...          26.50            98.87       567.7   \n",
              "4                 0.05883  ...          16.67           152.20      1575.0   \n",
              "\n",
              "   worst smoothness  worst compactness  worst concavity  worst concave points  \\\n",
              "0            0.1622             0.6656           0.7119                0.2654   \n",
              "1            0.1238             0.1866           0.2416                0.1860   \n",
              "2            0.1444             0.4245           0.4504                0.2430   \n",
              "3            0.2098             0.8663           0.6869                0.2575   \n",
              "4            0.1374             0.2050           0.4000                0.1625   \n",
              "\n",
              "   worst symmetry  worst fractal dimension  target  \n",
              "0          0.4601                  0.11890       0  \n",
              "1          0.2750                  0.08902       0  \n",
              "2          0.3613                  0.08758       0  \n",
              "3          0.6638                  0.17300       0  \n",
              "4          0.2364                  0.07678       0  \n",
              "\n",
              "[5 rows x 31 columns]"
            ],
            "text/html": [
              "\n",
              "  <div id=\"df-b06e47f8-7000-4bed-8771-3f47b5850af1\" class=\"colab-df-container\">\n",
              "    <div>\n",
              "<style scoped>\n",
              "    .dataframe tbody tr th:only-of-type {\n",
              "        vertical-align: middle;\n",
              "    }\n",
              "\n",
              "    .dataframe tbody tr th {\n",
              "        vertical-align: top;\n",
              "    }\n",
              "\n",
              "    .dataframe thead th {\n",
              "        text-align: right;\n",
              "    }\n",
              "</style>\n",
              "<table border=\"1\" class=\"dataframe\">\n",
              "  <thead>\n",
              "    <tr style=\"text-align: right;\">\n",
              "      <th></th>\n",
              "      <th>mean radius</th>\n",
              "      <th>mean texture</th>\n",
              "      <th>mean perimeter</th>\n",
              "      <th>mean area</th>\n",
              "      <th>mean smoothness</th>\n",
              "      <th>mean compactness</th>\n",
              "      <th>mean concavity</th>\n",
              "      <th>mean concave points</th>\n",
              "      <th>mean symmetry</th>\n",
              "      <th>mean fractal dimension</th>\n",
              "      <th>...</th>\n",
              "      <th>worst texture</th>\n",
              "      <th>worst perimeter</th>\n",
              "      <th>worst area</th>\n",
              "      <th>worst smoothness</th>\n",
              "      <th>worst compactness</th>\n",
              "      <th>worst concavity</th>\n",
              "      <th>worst concave points</th>\n",
              "      <th>worst symmetry</th>\n",
              "      <th>worst fractal dimension</th>\n",
              "      <th>target</th>\n",
              "    </tr>\n",
              "  </thead>\n",
              "  <tbody>\n",
              "    <tr>\n",
              "      <th>0</th>\n",
              "      <td>17.99</td>\n",
              "      <td>10.38</td>\n",
              "      <td>122.80</td>\n",
              "      <td>1001.0</td>\n",
              "      <td>0.11840</td>\n",
              "      <td>0.27760</td>\n",
              "      <td>0.3001</td>\n",
              "      <td>0.14710</td>\n",
              "      <td>0.2419</td>\n",
              "      <td>0.07871</td>\n",
              "      <td>...</td>\n",
              "      <td>17.33</td>\n",
              "      <td>184.60</td>\n",
              "      <td>2019.0</td>\n",
              "      <td>0.1622</td>\n",
              "      <td>0.6656</td>\n",
              "      <td>0.7119</td>\n",
              "      <td>0.2654</td>\n",
              "      <td>0.4601</td>\n",
              "      <td>0.11890</td>\n",
              "      <td>0</td>\n",
              "    </tr>\n",
              "    <tr>\n",
              "      <th>1</th>\n",
              "      <td>20.57</td>\n",
              "      <td>17.77</td>\n",
              "      <td>132.90</td>\n",
              "      <td>1326.0</td>\n",
              "      <td>0.08474</td>\n",
              "      <td>0.07864</td>\n",
              "      <td>0.0869</td>\n",
              "      <td>0.07017</td>\n",
              "      <td>0.1812</td>\n",
              "      <td>0.05667</td>\n",
              "      <td>...</td>\n",
              "      <td>23.41</td>\n",
              "      <td>158.80</td>\n",
              "      <td>1956.0</td>\n",
              "      <td>0.1238</td>\n",
              "      <td>0.1866</td>\n",
              "      <td>0.2416</td>\n",
              "      <td>0.1860</td>\n",
              "      <td>0.2750</td>\n",
              "      <td>0.08902</td>\n",
              "      <td>0</td>\n",
              "    </tr>\n",
              "    <tr>\n",
              "      <th>2</th>\n",
              "      <td>19.69</td>\n",
              "      <td>21.25</td>\n",
              "      <td>130.00</td>\n",
              "      <td>1203.0</td>\n",
              "      <td>0.10960</td>\n",
              "      <td>0.15990</td>\n",
              "      <td>0.1974</td>\n",
              "      <td>0.12790</td>\n",
              "      <td>0.2069</td>\n",
              "      <td>0.05999</td>\n",
              "      <td>...</td>\n",
              "      <td>25.53</td>\n",
              "      <td>152.50</td>\n",
              "      <td>1709.0</td>\n",
              "      <td>0.1444</td>\n",
              "      <td>0.4245</td>\n",
              "      <td>0.4504</td>\n",
              "      <td>0.2430</td>\n",
              "      <td>0.3613</td>\n",
              "      <td>0.08758</td>\n",
              "      <td>0</td>\n",
              "    </tr>\n",
              "    <tr>\n",
              "      <th>3</th>\n",
              "      <td>11.42</td>\n",
              "      <td>20.38</td>\n",
              "      <td>77.58</td>\n",
              "      <td>386.1</td>\n",
              "      <td>0.14250</td>\n",
              "      <td>0.28390</td>\n",
              "      <td>0.2414</td>\n",
              "      <td>0.10520</td>\n",
              "      <td>0.2597</td>\n",
              "      <td>0.09744</td>\n",
              "      <td>...</td>\n",
              "      <td>26.50</td>\n",
              "      <td>98.87</td>\n",
              "      <td>567.7</td>\n",
              "      <td>0.2098</td>\n",
              "      <td>0.8663</td>\n",
              "      <td>0.6869</td>\n",
              "      <td>0.2575</td>\n",
              "      <td>0.6638</td>\n",
              "      <td>0.17300</td>\n",
              "      <td>0</td>\n",
              "    </tr>\n",
              "    <tr>\n",
              "      <th>4</th>\n",
              "      <td>20.29</td>\n",
              "      <td>14.34</td>\n",
              "      <td>135.10</td>\n",
              "      <td>1297.0</td>\n",
              "      <td>0.10030</td>\n",
              "      <td>0.13280</td>\n",
              "      <td>0.1980</td>\n",
              "      <td>0.10430</td>\n",
              "      <td>0.1809</td>\n",
              "      <td>0.05883</td>\n",
              "      <td>...</td>\n",
              "      <td>16.67</td>\n",
              "      <td>152.20</td>\n",
              "      <td>1575.0</td>\n",
              "      <td>0.1374</td>\n",
              "      <td>0.2050</td>\n",
              "      <td>0.4000</td>\n",
              "      <td>0.1625</td>\n",
              "      <td>0.2364</td>\n",
              "      <td>0.07678</td>\n",
              "      <td>0</td>\n",
              "    </tr>\n",
              "  </tbody>\n",
              "</table>\n",
              "<p>5 rows × 31 columns</p>\n",
              "</div>\n",
              "    <div class=\"colab-df-buttons\">\n",
              "\n",
              "  <div class=\"colab-df-container\">\n",
              "    <button class=\"colab-df-convert\" onclick=\"convertToInteractive('df-b06e47f8-7000-4bed-8771-3f47b5850af1')\"\n",
              "            title=\"Convert this dataframe to an interactive table.\"\n",
              "            style=\"display:none;\">\n",
              "\n",
              "  <svg xmlns=\"http://www.w3.org/2000/svg\" height=\"24px\" viewBox=\"0 -960 960 960\">\n",
              "    <path d=\"M120-120v-720h720v720H120Zm60-500h600v-160H180v160Zm220 220h160v-160H400v160Zm0 220h160v-160H400v160ZM180-400h160v-160H180v160Zm440 0h160v-160H620v160ZM180-180h160v-160H180v160Zm440 0h160v-160H620v160Z\"/>\n",
              "  </svg>\n",
              "    </button>\n",
              "\n",
              "  <style>\n",
              "    .colab-df-container {\n",
              "      display:flex;\n",
              "      gap: 12px;\n",
              "    }\n",
              "\n",
              "    .colab-df-convert {\n",
              "      background-color: #E8F0FE;\n",
              "      border: none;\n",
              "      border-radius: 50%;\n",
              "      cursor: pointer;\n",
              "      display: none;\n",
              "      fill: #1967D2;\n",
              "      height: 32px;\n",
              "      padding: 0 0 0 0;\n",
              "      width: 32px;\n",
              "    }\n",
              "\n",
              "    .colab-df-convert:hover {\n",
              "      background-color: #E2EBFA;\n",
              "      box-shadow: 0px 1px 2px rgba(60, 64, 67, 0.3), 0px 1px 3px 1px rgba(60, 64, 67, 0.15);\n",
              "      fill: #174EA6;\n",
              "    }\n",
              "\n",
              "    .colab-df-buttons div {\n",
              "      margin-bottom: 4px;\n",
              "    }\n",
              "\n",
              "    [theme=dark] .colab-df-convert {\n",
              "      background-color: #3B4455;\n",
              "      fill: #D2E3FC;\n",
              "    }\n",
              "\n",
              "    [theme=dark] .colab-df-convert:hover {\n",
              "      background-color: #434B5C;\n",
              "      box-shadow: 0px 1px 3px 1px rgba(0, 0, 0, 0.15);\n",
              "      filter: drop-shadow(0px 1px 2px rgba(0, 0, 0, 0.3));\n",
              "      fill: #FFFFFF;\n",
              "    }\n",
              "  </style>\n",
              "\n",
              "    <script>\n",
              "      const buttonEl =\n",
              "        document.querySelector('#df-b06e47f8-7000-4bed-8771-3f47b5850af1 button.colab-df-convert');\n",
              "      buttonEl.style.display =\n",
              "        google.colab.kernel.accessAllowed ? 'block' : 'none';\n",
              "\n",
              "      async function convertToInteractive(key) {\n",
              "        const element = document.querySelector('#df-b06e47f8-7000-4bed-8771-3f47b5850af1');\n",
              "        const dataTable =\n",
              "          await google.colab.kernel.invokeFunction('convertToInteractive',\n",
              "                                                    [key], {});\n",
              "        if (!dataTable) return;\n",
              "\n",
              "        const docLinkHtml = 'Like what you see? Visit the ' +\n",
              "          '<a target=\"_blank\" href=https://colab.research.google.com/notebooks/data_table.ipynb>data table notebook</a>'\n",
              "          + ' to learn more about interactive tables.';\n",
              "        element.innerHTML = '';\n",
              "        dataTable['output_type'] = 'display_data';\n",
              "        await google.colab.output.renderOutput(dataTable, element);\n",
              "        const docLink = document.createElement('div');\n",
              "        docLink.innerHTML = docLinkHtml;\n",
              "        element.appendChild(docLink);\n",
              "      }\n",
              "    </script>\n",
              "  </div>\n",
              "\n",
              "\n",
              "<div id=\"df-49c71b6c-34a3-41f2-b3da-1391d8b45257\">\n",
              "  <button class=\"colab-df-quickchart\" onclick=\"quickchart('df-49c71b6c-34a3-41f2-b3da-1391d8b45257')\"\n",
              "            title=\"Suggest charts\"\n",
              "            style=\"display:none;\">\n",
              "\n",
              "<svg xmlns=\"http://www.w3.org/2000/svg\" height=\"24px\"viewBox=\"0 0 24 24\"\n",
              "     width=\"24px\">\n",
              "    <g>\n",
              "        <path d=\"M19 3H5c-1.1 0-2 .9-2 2v14c0 1.1.9 2 2 2h14c1.1 0 2-.9 2-2V5c0-1.1-.9-2-2-2zM9 17H7v-7h2v7zm4 0h-2V7h2v10zm4 0h-2v-4h2v4z\"/>\n",
              "    </g>\n",
              "</svg>\n",
              "  </button>\n",
              "\n",
              "<style>\n",
              "  .colab-df-quickchart {\n",
              "      --bg-color: #E8F0FE;\n",
              "      --fill-color: #1967D2;\n",
              "      --hover-bg-color: #E2EBFA;\n",
              "      --hover-fill-color: #174EA6;\n",
              "      --disabled-fill-color: #AAA;\n",
              "      --disabled-bg-color: #DDD;\n",
              "  }\n",
              "\n",
              "  [theme=dark] .colab-df-quickchart {\n",
              "      --bg-color: #3B4455;\n",
              "      --fill-color: #D2E3FC;\n",
              "      --hover-bg-color: #434B5C;\n",
              "      --hover-fill-color: #FFFFFF;\n",
              "      --disabled-bg-color: #3B4455;\n",
              "      --disabled-fill-color: #666;\n",
              "  }\n",
              "\n",
              "  .colab-df-quickchart {\n",
              "    background-color: var(--bg-color);\n",
              "    border: none;\n",
              "    border-radius: 50%;\n",
              "    cursor: pointer;\n",
              "    display: none;\n",
              "    fill: var(--fill-color);\n",
              "    height: 32px;\n",
              "    padding: 0;\n",
              "    width: 32px;\n",
              "  }\n",
              "\n",
              "  .colab-df-quickchart:hover {\n",
              "    background-color: var(--hover-bg-color);\n",
              "    box-shadow: 0 1px 2px rgba(60, 64, 67, 0.3), 0 1px 3px 1px rgba(60, 64, 67, 0.15);\n",
              "    fill: var(--button-hover-fill-color);\n",
              "  }\n",
              "\n",
              "  .colab-df-quickchart-complete:disabled,\n",
              "  .colab-df-quickchart-complete:disabled:hover {\n",
              "    background-color: var(--disabled-bg-color);\n",
              "    fill: var(--disabled-fill-color);\n",
              "    box-shadow: none;\n",
              "  }\n",
              "\n",
              "  .colab-df-spinner {\n",
              "    border: 2px solid var(--fill-color);\n",
              "    border-color: transparent;\n",
              "    border-bottom-color: var(--fill-color);\n",
              "    animation:\n",
              "      spin 1s steps(1) infinite;\n",
              "  }\n",
              "\n",
              "  @keyframes spin {\n",
              "    0% {\n",
              "      border-color: transparent;\n",
              "      border-bottom-color: var(--fill-color);\n",
              "      border-left-color: var(--fill-color);\n",
              "    }\n",
              "    20% {\n",
              "      border-color: transparent;\n",
              "      border-left-color: var(--fill-color);\n",
              "      border-top-color: var(--fill-color);\n",
              "    }\n",
              "    30% {\n",
              "      border-color: transparent;\n",
              "      border-left-color: var(--fill-color);\n",
              "      border-top-color: var(--fill-color);\n",
              "      border-right-color: var(--fill-color);\n",
              "    }\n",
              "    40% {\n",
              "      border-color: transparent;\n",
              "      border-right-color: var(--fill-color);\n",
              "      border-top-color: var(--fill-color);\n",
              "    }\n",
              "    60% {\n",
              "      border-color: transparent;\n",
              "      border-right-color: var(--fill-color);\n",
              "    }\n",
              "    80% {\n",
              "      border-color: transparent;\n",
              "      border-right-color: var(--fill-color);\n",
              "      border-bottom-color: var(--fill-color);\n",
              "    }\n",
              "    90% {\n",
              "      border-color: transparent;\n",
              "      border-bottom-color: var(--fill-color);\n",
              "    }\n",
              "  }\n",
              "</style>\n",
              "\n",
              "  <script>\n",
              "    async function quickchart(key) {\n",
              "      const quickchartButtonEl =\n",
              "        document.querySelector('#' + key + ' button');\n",
              "      quickchartButtonEl.disabled = true;  // To prevent multiple clicks.\n",
              "      quickchartButtonEl.classList.add('colab-df-spinner');\n",
              "      try {\n",
              "        const charts = await google.colab.kernel.invokeFunction(\n",
              "            'suggestCharts', [key], {});\n",
              "      } catch (error) {\n",
              "        console.error('Error during call to suggestCharts:', error);\n",
              "      }\n",
              "      quickchartButtonEl.classList.remove('colab-df-spinner');\n",
              "      quickchartButtonEl.classList.add('colab-df-quickchart-complete');\n",
              "    }\n",
              "    (() => {\n",
              "      let quickchartButtonEl =\n",
              "        document.querySelector('#df-49c71b6c-34a3-41f2-b3da-1391d8b45257 button');\n",
              "      quickchartButtonEl.style.display =\n",
              "        google.colab.kernel.accessAllowed ? 'block' : 'none';\n",
              "    })();\n",
              "  </script>\n",
              "</div>\n",
              "\n",
              "    </div>\n",
              "  </div>\n"
            ],
            "application/vnd.google.colaboratory.intrinsic+json": {
              "type": "dataframe",
              "variable_name": "cancer_dat"
            }
          },
          "metadata": {},
          "execution_count": 2
        }
      ]
    },
    {
      "cell_type": "markdown",
      "source": [
        "Split and standardize data"
      ],
      "metadata": {
        "id": "3NaQUs8O5FNe"
      }
    },
    {
      "cell_type": "code",
      "source": [
        "X = cancer_dat.iloc[:, :-1].values\n",
        "scaler = StandardScaler()\n",
        "X = scaler.fit_transform(X)\n",
        "\n",
        "y = cancer_dat.iloc[:, -1].values\n",
        "encoder = LabelEncoder()\n",
        "y = encoder.fit_transform(y)\n",
        "\n",
        "X_train, X_test, y_train, y_test = train_test_split(X, y, test_size=0.2)"
      ],
      "metadata": {
        "id": "VHjS6Nmp47QF"
      },
      "execution_count": null,
      "outputs": []
    },
    {
      "cell_type": "markdown",
      "source": [
        "Run model and show results"
      ],
      "metadata": {
        "id": "h4ypFF2a5LEi"
      }
    },
    {
      "cell_type": "code",
      "source": [
        "lda = LinearDiscriminantAnalysis()\n",
        "X_lda_train = lda.fit_transform(X_train, y_train)\n",
        "X_lda_test = lda.transform(X_test)\n",
        "\n",
        "preds = lda.predict(X_test)\n",
        "confusion_matrix(y_test, preds)"
      ],
      "metadata": {
        "colab": {
          "base_uri": "https://localhost:8080/"
        },
        "id": "7GkeKNhv5LsF",
        "outputId": "6e9e9087-54de-4aef-c447-30e7297c18df"
      },
      "execution_count": null,
      "outputs": [
        {
          "output_type": "execute_result",
          "data": {
            "text/plain": [
              "array([[34,  3],\n",
              "       [ 0, 77]])"
            ]
          },
          "metadata": {},
          "execution_count": 12
        }
      ]
    },
    {
      "cell_type": "markdown",
      "source": [
        "Visualize results"
      ],
      "metadata": {
        "id": "qEh2RM6dkuPD"
      }
    },
    {
      "cell_type": "code",
      "source": [
        "temp = pd.DataFrame({'X': X_lda_train.flatten(), 'Y': y_train})\n",
        "temp.boxplot('X', by = 'Y')"
      ],
      "metadata": {
        "colab": {
          "base_uri": "https://localhost:8080/",
          "height": 495
        },
        "id": "eue1P0MokuaF",
        "outputId": "dd4233e1-9d07-4aef-894f-7c7fa7066c87"
      },
      "execution_count": null,
      "outputs": [
        {
          "output_type": "execute_result",
          "data": {
            "text/plain": [
              "<Axes: title={'center': 'X'}, xlabel='Y'>"
            ]
          },
          "metadata": {},
          "execution_count": 20
        },
        {
          "output_type": "display_data",
          "data": {
            "text/plain": [
              "<Figure size 640x480 with 1 Axes>"
            ],
            "image/png": "[encoded data removed]"
          },
          "metadata": {}
        }
      ]
    },
    {
      "cell_type": "markdown",
      "source": [
        "# **Step 4: Technical Section**\n",
        "\n",
        "Linear Discriminant Analysis (LDA) is mostly used for both dimensionality reduction and classification. When compared to models like Support Vector Machines (SVMs) or neural networks, LDA involves fewer hyperparameters. However, several options still affect its behavior. It is important to note that LDA supports different solvers—such as 'svd', 'lsqr', and 'eigen' with each offering different trade-offs in computational performance and numerical stability. Also, the shrinkage parameter can be used to introduce regularization. This helps to mitigate overfitting and improve robustness in cases of small or ill-conditioned datasets.\n",
        "\n",
        "For SVMs, while it is conceptually similar to LDA in separating classes, they tend to outperform LDA in many classification settings due to their ability to handle non-linear boundaries using the kernel trick. Key hyperparameters in SVMs include the kernel type, the regularization constant C, and the kernel coefficient gamma. The kernel determines the transformation of input data into higher dimensions and includes choices like linear, polynomial, radial basis function (RBF), and sigmoid. The C parameter manages the trade-off between maximizing the margin and minimizing classification errors. A high C can lead to a tighter fit and possible overfitting. Meanwhile, gamma controls how far the influence of a single training example reaches, with higher values leading to more flexible, yet potentially overfit, decision boundaries.\n",
        "\n",
        "Neural networks offer extensive flexibility through a larger set of hyperparameters, making them powerful but more complex to tune. The architecture is defined by the number of layers and neurons, determines the network’s ability to capture hidden patterns. Activation functions such as ReLU, sigmoid, and tanh shape the way neurons process inputs. The learning rate, an important parameter, governs the speed of weight updates during training. If set too high, it may cause the model to diverge; if too low, convergence can be slow. Additional hyperparameters include batch size, number of epochs, and regularization methods such as dropout or L1/L2 penalties, all of which influence generalization and training dynamics."
      ],
      "metadata": {
        "id": "nPag3g1tQwXW"
      }
    },
    {
      "cell_type": "markdown",
      "source": [
        "# **Step 5: Marketing Alpha**\n",
        "\n",
        "Having seen the predictive capabilities of machine learning across different domains, we now turn to its role in generating marketing alpha, that is, identifying strategies that can yield excess returns in business and financial world.\n",
        "\n",
        "Linear Discriminant Analysis (LDA) is effective for both classification and dimensionality reduction tasks, especially when the target variable is categorical. It works by finding a linear combination of features that best separates classes. In marketing, LDA can be used for customer segmentation by identifying groups of consumers with shared characteristics such as needs, preferences, or demographics. This helps businesses pinpoint which features are most predictive of customer engagement thereby enabling more targeted advertising and resource allocation.\n",
        "\n",
        "Support Vector Machines (SVM) extend their utility beyond classification into regression tasks as well. Like LDA, SVM can be applied to segment customers with similar profiles, aiding in personalized marketing strategies. Beyond segmentation, SVM is widely used in sentiment analysis. For example, when analyzing customer feedback or product reviews. Understanding sentiment patterns helps marketers assess public perception of services and products. In regression settings, SVM can support demand forecasting by learning from historical sales data crucial for inventory planning and pricing strategies. Moreover, it can be applied to market trend analysis, helping identify seasonal pricing patterns and guiding promotional timing.\n",
        "\n",
        "Neural networks bring significant value to financial applications due to their capacity to model complex, high-dimensional relationships. Owing to the universal approximation theorem, deeper networks with more neurons can learn intricate patterns that traditional models might miss. This makes them well-suited for financial modeling and alpha generation. A common use is in time series forecasting, where neural networks learn from historical price movements and trading volumes to predict future trends. Recurrent neural networks (RNNs), in particular, are effective for sequential data and have been adapted for financial time series analysis. Another key application is portfolio optimization, where neural networks allocate assets based on predictive signals or market indicators, aiming to enhance returns while managing risk.\n",
        "\n"
      ],
      "metadata": {
        "id": "CgAY1TUcSW4H"
      }
    },
    {
      "cell_type": "markdown",
      "source": [
        "# **STEP 6:** **Learn More** <br>\n",
        "**Linear Discriminant Analysis (LDA)**<br>\n",
        "As a classification method, LDA is commonly used in financial binary prediction tasks, such as credit scoring or bankruptcy probability. To resolve LDA’s major weakness, which is robustness to outliers, Alrawashdeh et al. (2018) have attempted to boost LDA’s robustness, and then, empirically applied it to classify Malaysian banks.\n",
        "\n",
        "Alrawashdeh, M.J., Radwan, T.R., Abunawas, K.A. (2018). Performance of Linear Discriminant Analysis Using Different Robust Methods. European Journal of Pure and Applied Mathematics, 11(1), 284-298. https://doi.org/10.29020/nybg.ejpam.v11i1.3176 <br>\n",
        "Zhao, S., Zhang, B., Yang, J., Zhou, J. & Xu, Y. (2024). Linear discriminant analysis. Nat Rev Methods Primers 4, 70. https://doi.org/10.1038/s43586-024-00346-y <br>\n",
        "\n",
        "**Support Vector Machine (SVM)**\n",
        "\n",
        "Tay FEH et al (2001) is a highly cited paper focusing on the application of SVMs specifically for financial time series forecasting. Both papers Tay FEH et al (2001) and Tian L et al. (2022) emphasize that SVMs are valuable tools in the financial field. <br> <br>\n",
        "\tTay and Cao (2001) explore the application of Support Vector Machines (SVMs) in financial time series forecasting. The study highlights SVMs' superior generalization performance and ability to capture non-linear relationships, making them effective for predicting complex financial data. The research demonstrates SVM's capacity to handle the noise and complexity inherent in financial markets, showcasing its potential for improved accuracy in financial forecasting. This application of SVMs contributes to better decision-making in areas like investment and risk management.<br>  <br>\n",
        "Tay, Francis E.H, and Lijuan Cao. “Application of support vector machines in financial time series forecasting.” Omega, vol. 29, no. 4, Aug. 2001, pp. 309–317, https://doi.org/10.1016/s0305-0483(01)00026-3. <br> <br>\n",
        "\tTian (2022) focuses on the design and implementation of a financial service and management platform utilizing the Support Vector Machine (SVM) algorithm. The study emphasizes SVMs' effectiveness in classification and regression, making them suitable for diverse financial applications within the platform. The use of SVMs contributes to enhanced accuracy and efficiency in processing and analyzing financial data, particularly in high-dimensional contexts. This integration of SVMs aims to improve overall financial service management.<br> <br>\n",
        "Tian L. Design and Implementation of Financial Service and Management Platform considering Support Vector Machine Algorithm. Comput Intell Neurosci. 2022 Sep 9;2022:7964123. doi: 10.1155/2022/7964123. PMID: 36120675; PMCID: PMC9481309. <br> <br>\n",
        "It's important to note that while SVMs offer significant advantages, careful feature engineering, hyperparameter tuning, and appropriate validation techniques are crucial for successful application in finance.\n"
      ],
      "metadata": {
        "id": "65UgC4NzT85Q"
      }
    },
    {
      "cell_type": "markdown",
      "source": [
        "**Neural Networks:**\n",
        "\n",
        "Fadlalla and Lin (2001) analyze how neural networks are applied to tasks such as bankruptcy prediction, credit risk assessment, and financial time series forecasting. The paper specifically discusses the capabilities of neural networks to model complex financial relationships and their use in automating financial decision-making processes.\n",
        "\n",
        "Adam Fadlalla, Chien-Hua Lin, (2001) An Analysis of the Applications of Neural Networks in Finance. Interfaces 31(4):112-122. https://doi.org/10.1287/inte.31.4.112.9662\n",
        "Burrell and Folarin (1997) discuss the application of neural networks to financial tasks, highlighting their ability to model complex relationships and learn from data. The paper explores how neural networks are used in areas like stock price prediction and financial analysis, emphasizing their potential to improve decision-making in finance.\n",
        "Burrell, P. R., & Folarin, B. O. (1997). The impact of neural networks in finance. Neural Computing & Applications, 6, 193-200.\n",
        "Refenes, Burgess, and Bentz (1997) present a comprehensive study on the methodology of applying neural networks in financial engineering. The paper delves into the techniques and considerations involved in using neural networks for tasks such as derivative pricing, risk management, and portfolio optimization within the field of financial engineering.\n",
        "Refenes, A. P., Burgess, A. N., & Bentz, Y. (1997). Neural networks in financial engineering: A study in methodology. IEEE transactions on Neural networks, 8(6), 1222-1267.<br>\n",
        "\n",
        "# **STEP 7: Comparing models**  <br>\n",
        "The choice of the best technique depends on the specific requirements of the financial application, including the nature of the data, the complexity of the relationships, the need for interpretability, and the available computational resources.\n",
        "\n",
        "A balanced comparison of Neural Networks, Support Vector Machines (SVMs), and Linear Discriminant Analysis (LDA) for financial markets requires consideration of strengths and weaknesses, and their suitability depends on the specific application.\n",
        "Comparison Summary: <br>\n",
        "* Non-linearity: Neural networks and SVMs excel at capturing non-linear relationships, while LDA is limited to linear separation. <br>\n",
        "* Complexity: Neural networks are the most complex, followed by SVMs, and then LDA, which is the simplest. Both Neural networks and SVM with appropriate kernels can handle nonlinear and complex data classification. <br>\n",
        "* Interpretability: LDA is the most interpretable, while neural networks are generally the least interpretable. <br>\n",
        "* Computational cost: LDA is generally the most computationally efficient, while neural networks and SVMs can be the most expensive. <br>\n",
        "* Data requirements: Neural networks typically require the most data, while LDA can work with smaller datasets. <br>\n",
        "<br>\n",
        "\n",
        "In Financial Markets: When dealing with large datasets and complex, non-linear relationships (e.g., high-frequency trading, complex derivative pricing), neural networks or SVMs might be preferred.\n",
        "When interpretability is crucial and the relationships are reasonably linear (e.g., basic credit scoring), LDA can be a useful tool. <br>\n",
        "<br>\n",
        "\n",
        "**REFERENCES:**\n",
        "\n",
        "Adam Fadlalla, Chien-Hua Lin, (2001) An Analysis of the Applications of Neural Networks in Finance. Interfaces 31(4):112-122. https://doi.org/10.1287/inte.31.4.112.9662 <br> <br>\n",
        "Alrawashdeh, M.J., Radwan, T.R., Abunawas, K.A. (2018). Performance of Linear Discriminant Analysis Using Different Robust Methods. European Journal of Pure and Applied Mathematics, 11(1), 284-298. https://doi.org/10.29020/nybg.ejpam.v11i1.3176  <br> <br>\n",
        "Burrell, P. R., & Folarin, B. O. (1997). The impact of neural networks in finance. Neural Computing & Applications, 6, 193-200. <br>\n",
        "Refenes, A. P., Burgess, A. N., & Bentz, Y. (1997). Neural networks in financial engineering: A study in methodology. IEEE transactions on Neural networks, 8(6), 1222-1267. <br> <br>\n",
        "Tay, Francis E.H, and Lijuan Cao. “Application of support vector machines in financial time series forecasting.” Omega, vol. 29, no. 4, Aug. 2001, pp. 309–317, https://doi.org/10.1016/s0305-0483(01)00026-3.  <br> <br>\n",
        "Tian L. Design and Implementation of Financial Service and Management Platform considering Support Vector Machine Algorithm. Comput Intell Neurosci. 2022 Sep 9;2022:7964123. doi: 10.1155/2022/7964123. PMID: 36120675; PMCID: PMC9481309.  <br> <br>\n",
        "Zhao, S., Zhang, B., Yang, J., Zhou, J. & Xu, Y. (2024). Linear discriminant analysis. Nat Rev Methods Primers 4, 70. https://doi.org/10.1038/s43586-024-00346-y  <br>\n"
      ],
      "metadata": {
        "id": "iFxVsmuxYVJn"
      }
    }
  ]
}